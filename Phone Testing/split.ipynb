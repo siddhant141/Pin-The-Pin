{
 "cells": [
  {
   "cell_type": "code",
   "execution_count": 1,
   "metadata": {},
   "outputs": [],
   "source": [
    "import os\n",
    "from os import listdir\n",
    "from os.path import isfile, join\n",
    "import pandas as pd\n",
    "import numpy as np\n",
    "import concurrent.futures"
   ]
  },
  {
   "cell_type": "code",
   "execution_count": 2,
   "metadata": {},
   "outputs": [
    {
     "name": "stdout",
     "output_type": "stream",
     "text": [
      "30\n",
      "1\n"
     ]
    }
   ],
   "source": [
    "folder=[\"Acc_w\",\"Acc_wo\",\"Gyro\"]\n",
    "base=\"C:\\\\Users\\\\nilu1\\\\Desktop\\\\Code\\\\AndroidPattern\\\\New\\\\\"\n",
    "path=\"C:\\\\Users\\\\nilu1\\\\Desktop\\\\Code\\\\AndroidPattern\\\\New\\\\\"+folder[1]+\"\\\\\"\n",
    "pathex=[]\n",
    "temp = [f for f in listdir(path) if isfile(join(path, f))]\n",
    "temp.sort()\n",
    "pathex=[temp[-1]]\n",
    "# pathex=[temp[0]]\n",
    "# print(pathex)\n",
    "# for i in range(len(temp)):\n",
    "#     st=temp[i]\n",
    "#     if(os.path.getsize(path+st)<4096):\n",
    "#         continue\n",
    "#     if(temp[i][:6] in files):\n",
    "#         pathex.append(temp[i])\n",
    "print(len(temp))\n",
    "print(len(pathex))"
   ]
  },
  {
   "cell_type": "code",
   "execution_count": 3,
   "metadata": {},
   "outputs": [],
   "source": [
    "# folder_n_no.ofvalues_no.offiles_keycolno.\n",
    "propath=\"C:\\\\Users\\\\nilu1\\\\Desktop\\\\Code\\\\AndroidPattern\\\\New\\\\Split\\\\\"\n",
    "def savefile(pin,df,k):\n",
    "    df.to_csv(propath+folder[k]+\"\\\\\"+pathex[i][:-4]+str(pin)+\".csv\", index = False, header=True)"
   ]
  },
  {
   "cell_type": "code",
   "execution_count": 4,
   "metadata": {
    "scrolled": true
   },
   "outputs": [
    {
     "name": "stdout",
     "output_type": "stream",
     "text": [
      "done\n"
     ]
    }
   ],
   "source": [
    "#splitting the file\n",
    "reminit=256\n",
    "first=662\n",
    "second=1068\n",
    "third=1375\n",
    "i=0\n",
    "for k in range(3):\n",
    "    try:\n",
    "        dff=pd.read_csv(base+folder[k]+\"\\\\\"+pathex[i])\n",
    "\n",
    "        df1=dff.head(first)\n",
    "        df1=df1.tail(first-reminit)\n",
    "        df1.reset_index(inplace=True)\n",
    "        df1=df1.drop(columns=\"index\")\n",
    "        savefile(1,df1,k)\n",
    "\n",
    "        df2=dff.head(second)\n",
    "        df2=df2.tail(second-first)\n",
    "        df2.reset_index(inplace=True)\n",
    "        df2=df2.drop(columns=\"index\")\n",
    "        savefile(2,df2,k)\n",
    "\n",
    "        df3=dff.head(third)\n",
    "        df3=df3.tail(third-second)\n",
    "        df3.reset_index(inplace=True)\n",
    "        df3=df3.drop(columns=\"index\")\n",
    "        savefile(3,df3,k)\n",
    "\n",
    "        df4=dff.tail(dff.index[-1]-third)\n",
    "        df4.reset_index(inplace=True)\n",
    "        df4=df4.drop(columns=\"index\")\n",
    "        savefile(4,df4,k)\n",
    "\n",
    "    except:\n",
    "        print(\"error : \",pathex[i])\n",
    "        traceback.print_exec()\n",
    "#     continue\n",
    "print(\"done\")"
   ]
  }
 ],
 "metadata": {
  "kernelspec": {
   "display_name": "Python 3",
   "language": "python",
   "name": "python3"
  },
  "language_info": {
   "codemirror_mode": {
    "name": "ipython",
    "version": 3
   },
   "file_extension": ".py",
   "mimetype": "text/x-python",
   "name": "python",
   "nbconvert_exporter": "python",
   "pygments_lexer": "ipython3",
   "version": "3.7.4"
  }
 },
 "nbformat": 4,
 "nbformat_minor": 2
}
