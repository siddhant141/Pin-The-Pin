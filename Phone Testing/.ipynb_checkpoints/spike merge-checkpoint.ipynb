{
 "cells": [
  {
   "cell_type": "code",
   "execution_count": 1,
   "metadata": {},
   "outputs": [],
   "source": [
    "import os\n",
    "from os import listdir\n",
    "from os.path import isfile, join\n",
    "import pandas as pd\n",
    "import numpy as np\n",
    "import concurrent.futures"
   ]
  },
  {
   "cell_type": "code",
   "execution_count": 2,
   "metadata": {},
   "outputs": [
    {
     "name": "stdout",
     "output_type": "stream",
     "text": [
      "16\n",
      "16\n",
      "4\n",
      "4\n"
     ]
    }
   ],
   "source": [
    "folder=\"Acc_w\"\n",
    "# folder=\"Acc_wo\"\n",
    "folderg=\"Gyro\"\n",
    "foldertype=folder+folderg\n",
    "fcode=\"window\"\n",
    "nn=200\n",
    "n=200+nn\n",
    "path=\"C:\\\\Users\\\\nilu1\\\\Desktop\\\\Code\\\\AndroidPattern\\\\Phone\\\\Spike\\\\\"+folder+\"\\\\\"\n",
    "pathg=\"C:\\\\Users\\\\nilu1\\\\Desktop\\\\Code\\\\AndroidPattern\\\\Phone\\\\Spike\\\\\"+folderg+\"\\\\\"\n",
    "pathex=[]\n",
    "pathexg=[]\n",
    "temp = [f for f in listdir(path) if isfile(join(path, f))]\n",
    "tempg = [f for f in listdir(pathg) if isfile(join(pathg, f))]\n",
    "temp.sort()\n",
    "tempg.sort()\n",
    "files=[\"4b0c22\"]\n",
    "# pathex=temp[:4]\n",
    "# pathexg=tempg[:4]\n",
    "pathex=temp[-4:]\n",
    "pathexg=tempg[-4:]\n",
    "# for i in range(len(temp)):\n",
    "#     st=temp[i]\n",
    "#     if(os.path.getsize(path+st)<4096):\n",
    "#         continue\n",
    "#     if(temp[i][:6] in files):\n",
    "#         pathex.append(temp[i])\n",
    "#     st=tempg[i]\n",
    "#     if(os.path.getsize(pathg+st)<4096):\n",
    "#         continue\n",
    "#     if(tempg[i][:6] in files):\n",
    "#         pathexg.append(tempg[i])\n",
    "#     if(files[0]==\"all\"):\n",
    "#         pathex.append(temp[i])\n",
    "# print(pathex)\n",
    "print(len(temp))\n",
    "print(len(tempg))\n",
    "print(len(pathex))\n",
    "print(len(pathexg))"
   ]
  },
  {
   "cell_type": "code",
   "execution_count": 3,
   "metadata": {},
   "outputs": [],
   "source": [
    "# folder_n_no.ofvalues_no.offiles_keycolno.\n",
    "propath=\"C:\\\\Users\\\\nilu1\\\\Desktop\\\\Code\\\\AndroidPattern\\\\Phone\\\\Processed\\\\\"\n",
    "def savefile():\n",
    "    df.to_csv (propath+foldertype+\"_\"+str(n)+\"_\"+fcode+\"_\"+pathex[0][:6]+\"_\"+pathex[0][15:26]+\"_\"+str(keypos)+\".csv\", index = False, header=True)"
   ]
  },
  {
   "cell_type": "code",
   "execution_count": 4,
   "metadata": {},
   "outputs": [],
   "source": [
    "def acc4v(i):\n",
    "    try:\n",
    "        dff=pd.read_csv(path+pathex[i])\n",
    "        mini=10000\n",
    "        minkeyd=1000\n",
    "        keydt=pathex[i].rfind(\"_\")+1\n",
    "        for j in dff.index:\n",
    "            t=abs(dff['Time'][j] - int(pathex[i][keydt:-4]))\n",
    "            if(t < mini):\n",
    "                mini=t\n",
    "                minkeyd=j\n",
    "        \n",
    "        minkeyu=minkeyd+50\n",
    "        window=minkeyu-minkeyd\n",
    "        left=int(nn/2)-window    \n",
    "        dff=dff.head(minkeyu + left)\n",
    "        dff=dff.tail(nn)\n",
    "        dff.reset_index(inplace=True)\n",
    "        dff=dff.drop(columns=\"index\")\n",
    "        dff=dff.drop(columns=\"Time\")      \n",
    "        return dff\n",
    "    except:\n",
    "        print(\"error : \",pathex[i])\n",
    "#         traceback.print_exc()"
   ]
  },
  {
   "cell_type": "code",
   "execution_count": 5,
   "metadata": {
    "scrolled": true
   },
   "outputs": [
    {
     "name": "stdout",
     "output_type": "stream",
     "text": [
      "0 4b0c22-04-2020_12_49_58_PM1_1587539988047.csv\n",
      "1 4b0c22-04-2020_12_49_58_PM2_1587539990865.csv\n",
      "2 4b0c22-04-2020_12_49_58_PM3_1587539995377.csv\n",
      "3 4b0c22-04-2020_12_49_58_PM4_1587539998229.csv\n"
     ]
    }
   ],
   "source": [
    "#taking into account that error might occur while reading a file (putting try and except)\n",
    "# n -> number of lines in csv file\n",
    "# actual -> the actual key pressed\n",
    "# minkeyd -> index of nearest key down time\n",
    "# minkeyu -> index of nearest key up time\n",
    "# keydt -> key down time from file name\n",
    "# keyut -> key up time from file name\n",
    "\n",
    "keypos=1\n",
    "actual=1\n",
    "df=pd.read_csv(pathg+pathex[0])\n",
    "for i in range(len(pathex)):\n",
    "    try:\n",
    "        dff=pd.read_csv(pathg+pathex[i])\n",
    "        mini=10000\n",
    "        minkeyd=1000\n",
    "        keydt=pathex[i].rfind(\"_\")+1\n",
    "        for j in dff.index:\n",
    "            t=abs(dff['Time'][j] - int(pathex[i][keydt:-4]))\n",
    "            if(t < mini):\n",
    "                mini=t\n",
    "                minkeyd=j\n",
    "                \n",
    "        minkeyu=minkeyd+50\n",
    "        window=minkeyu-minkeyd\n",
    "        left=int((n-nn)/2)-window    \n",
    "        dff=dff.head(minkeyu + left)\n",
    "        dff=dff.tail(n-nn)\n",
    "        dff.reset_index(inplace=True)\n",
    "        dff=dff.drop(columns=\"index\")\n",
    "        dff=dff.drop(columns=\"Time\")\n",
    "        \n",
    "        df1=acc4v(i)\n",
    "        dff=dff.append(df1,ignore_index=True)        \n",
    "        \n",
    "        df1=dff.stack().swaplevel()\n",
    "        df1.index=df1.index.map('{0[0]}_{0[1]}'.format) \n",
    "        dff=df1.to_frame().T\n",
    "        print(i,pathex[i])\n",
    "        dff.insert(n*3, \"key\", i)\n",
    "        keypos=n*3\n",
    "        if(i==0):\n",
    "            df=dff\n",
    "        else:\n",
    "            df=df.append(dff,ignore_index = True)\n",
    "    except:\n",
    "        print(\"error : \",pathex[i])\n",
    "        traceback.print_exec()\n",
    "        continue"
   ]
  },
  {
   "cell_type": "code",
   "execution_count": 6,
   "metadata": {},
   "outputs": [],
   "source": [
    "savefile()"
   ]
  }
 ],
 "metadata": {
  "kernelspec": {
   "display_name": "Python 3",
   "language": "python",
   "name": "python3"
  },
  "language_info": {
   "codemirror_mode": {
    "name": "ipython",
    "version": 3
   },
   "file_extension": ".py",
   "mimetype": "text/x-python",
   "name": "python",
   "nbconvert_exporter": "python",
   "pygments_lexer": "ipython3",
   "version": "3.7.4"
  }
 },
 "nbformat": 4,
 "nbformat_minor": 2
}
