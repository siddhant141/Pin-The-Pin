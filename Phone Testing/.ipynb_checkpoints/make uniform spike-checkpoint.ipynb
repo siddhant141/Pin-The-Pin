{
 "cells": [
  {
   "cell_type": "code",
   "execution_count": 1,
   "metadata": {},
   "outputs": [],
   "source": [
    "import os\n",
    "from os import listdir\n",
    "from os.path import isfile, join\n",
    "import pandas as pd\n",
    "import numpy as np\n",
    "import concurrent.futures"
   ]
  },
  {
   "cell_type": "code",
   "execution_count": 2,
   "metadata": {},
   "outputs": [
    {
     "name": "stdout",
     "output_type": "stream",
     "text": [
      "4\n",
      "4\n"
     ]
    }
   ],
   "source": [
    "folder=\"Acc_w\"\n",
    "# folder=\"Acc_wo\"\n",
    "# folder=\"Gyro\"\n",
    "path=\"C:\\\\Users\\\\nilu1\\\\Desktop\\\\Code\\\\AndroidPattern\\\\Phone\\\\Spike\\\\\"+folder+\"\\\\\"\n",
    "pathex=[]\n",
    "temp = [f for f in listdir(path) if isfile(join(path, f))]\n",
    "# files=[\"4b0c23\"]\n",
    "# pathex=temp[:4]\n",
    "pathex=temp[-4:]\n",
    "# for i in range(len(temp)):\n",
    "#     st=temp[i]\n",
    "#     if(os.path.getsize(path+st)<4096):\n",
    "#         continue\n",
    "#     if(temp[i][:6] in files):\n",
    "#         pathex.append(temp[i])\n",
    "\n",
    "print(len(temp))\n",
    "print(len(pathex))"
   ]
  },
  {
   "cell_type": "code",
   "execution_count": 3,
   "metadata": {},
   "outputs": [],
   "source": [
    "# folder_n_no.ofvalues_no.offiles_keycolno.\n",
    "propath=\"C:\\\\Users\\\\nilu1\\\\Desktop\\\\Code\\\\AndroidPattern\\\\Phone\\\\Uni\\\\\"+folder+\"\\\\\"\n",
    "def savefile(file,keyd):\n",
    "    df.to_csv(propath+file+str(keyd)+\".csv\", index = False, header=True)"
   ]
  },
  {
   "cell_type": "code",
   "execution_count": 4,
   "metadata": {
    "scrolled": false
   },
   "outputs": [
    {
     "name": "stdout",
     "output_type": "stream",
     "text": [
      "0 4b0c23-04-2020_02_18_21_PM1_1587631695123.csv\n"
     ]
    },
    {
     "name": "stderr",
     "output_type": "stream",
     "text": [
      "C:\\Users\\nilu1\\Anaconda3\\lib\\site-packages\\ipykernel_launcher.py:21: SettingWithCopyWarning: \n",
      "A value is trying to be set on a copy of a slice from a DataFrame\n",
      "\n",
      "See the caveats in the documentation: http://pandas.pydata.org/pandas-docs/stable/user_guide/indexing.html#returning-a-view-versus-a-copy\n"
     ]
    },
    {
     "name": "stdout",
     "output_type": "stream",
     "text": [
      "1956\n",
      "1 4b0c23-04-2020_02_18_21_PM2_1587631697160.csv\n",
      "3037\n",
      "2 4b0c23-04-2020_02_18_21_PM3_1587631698154.csv\n",
      "2883\n",
      "3 4b0c23-04-2020_02_18_21_PM4_1587631700542.csv\n",
      "5189\n"
     ]
    }
   ],
   "source": [
    "df=pd.read_csv(path+pathex[0])\n",
    "for i in range(len(pathex)):\n",
    "    try:\n",
    "        #removing initial values\n",
    "        print(i,pathex[i])\n",
    "        dff=pd.read_csv(path+pathex[i])\n",
    "        k=0\n",
    "        while(k<dff.index[-1] and dff[\"Time\"][k]==dff[\"Time\"][k+1]):\n",
    "            k+=1\n",
    "#         for j in dff.index:\n",
    "#             if(dff[\"Time\"][j]>10):\n",
    "#                 break\n",
    "#         winerr=dff[\"Time\"][j]\n",
    "        dff=dff.tail(dff.size-k)\n",
    "        dff.reset_index(inplace=True)\n",
    "        dff=dff.drop(columns=\"index\")\n",
    "#         print(dff)\n",
    "        temp=dff[\"Time\"][0]\n",
    "#         print(temp)\n",
    "        for j in dff.index:            \n",
    "            dff[\"Time\"][j]-=temp\n",
    "#         print(dff)\n",
    "        \n",
    "#         dfuni = pd.DataFrame(columns = [\"Time\",\"X\",\"Y\",\"Z\"])\n",
    "# dff[\"Time\"].iloc[-1]\n",
    "        dfuni = pd.DataFrame(0.0, index=np.arange(dff[\"Time\"].iloc[-1]+2), columns=[\"X\",\"Y\",\"Z\"])\n",
    "        k=0\n",
    "        sumx=0\n",
    "        sumy=0\n",
    "        sumz=0\n",
    "        for j in dfuni.index:\n",
    "            while(k<dff.index[-1] and dff[\"Time\"][k]==dff[\"Time\"][k+1]):\n",
    "                k+=1\n",
    "            if(k>dff.index[-1]):\n",
    "                break\n",
    "                \n",
    "            if(j==dff[\"Time\"][k]-dff[\"Time\"][0]):\n",
    "#                 print(\"match\")\n",
    "                dfuni[\"X\"][j]=dff[\"X\"][k]\n",
    "                dfuni[\"Y\"][j]=dff[\"Y\"][k]\n",
    "                dfuni[\"Z\"][j]=dff[\"Z\"][k]\n",
    "                k+=1\n",
    "            else:\n",
    "#                 print(\"no match\")\n",
    "                dfuni[\"X\"][j]=dfuni[\"X\"][j-1]\n",
    "                dfuni[\"Y\"][j]=dfuni[\"Y\"][j-1]\n",
    "                dfuni[\"Z\"][j]=dfuni[\"Z\"][j-1]\n",
    "        dfuni=dfuni.head(j)\n",
    "#         print(dfuni)\n",
    "        \n",
    "        keydt=pathex[i].rfind(\"_\")+1\n",
    "#         minkeyd=int(pathex[i][keydt:-4])+winerr\n",
    "        minkeyd=int(pathex[i][keydt:-4])-temp\n",
    "        \n",
    "        dff=dfuni\n",
    "#         print(dff)\n",
    "        df=dff\n",
    "        print(minkeyd)\n",
    "        savefile(pathex[i][:keydt],minkeyd)\n",
    "        \n",
    "    except:\n",
    "        print(\"error : \",pathex[i])\n",
    "        traceback.print_exec()\n",
    "        continue"
   ]
  }
 ],
 "metadata": {
  "kernelspec": {
   "display_name": "Python 3",
   "language": "python",
   "name": "python3"
  },
  "language_info": {
   "codemirror_mode": {
    "name": "ipython",
    "version": 3
   },
   "file_extension": ".py",
   "mimetype": "text/x-python",
   "name": "python",
   "nbconvert_exporter": "python",
   "pygments_lexer": "ipython3",
   "version": "3.7.4"
  }
 },
 "nbformat": 4,
 "nbformat_minor": 2
}
