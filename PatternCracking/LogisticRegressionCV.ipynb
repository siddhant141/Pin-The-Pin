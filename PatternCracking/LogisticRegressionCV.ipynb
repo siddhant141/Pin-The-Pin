{
 "cells": [
  {
   "cell_type": "code",
   "execution_count": 1,
   "metadata": {},
   "outputs": [],
   "source": [
    "import pandas as pd\n",
    "import numpy as np\n",
    "import os\n",
    "from sklearn.model_selection import train_test_split\n",
    "from sklearn.preprocessing import StandardScaler\n",
    "from sklearn.linear_model import LogisticRegressionCV #0.32. maybe few options in here too\n",
    "from sklearn.metrics import classification_report\n",
    "from sklearn.metrics import confusion_matrix,accuracy_score\n",
    "from sklearn import metrics\n",
    "from os import listdir\n",
    "from os.path import isfile, join\n",
    "from sklearn.preprocessing import Normalizer\n",
    "from sklearn.metrics import f1_score"
   ]
  },
  {
   "cell_type": "code",
   "execution_count": 2,
   "metadata": {},
   "outputs": [],
   "source": [
    "path=\"C:\\\\Users\\\\nilu1\\\\Desktop\\\\Code\\\\AndroidPattern\\\\Data\\\\Standardized\\\\\"\n",
    "pathex = [f for f in listdir(path) if isfile(join(path, f))]\n",
    "score=[]"
   ]
  },
  {
   "cell_type": "code",
   "execution_count": 3,
   "metadata": {
    "scrolled": true
   },
   "outputs": [
    {
     "name": "stdout",
     "output_type": "stream",
     "text": [
      "Acc_w_25_4vuni_66b325&b56522_9.csv : 0.319047619047619\n",
      "Acc_w_25_4vuni_a99828&a99830&66b325&b56522_9.csv : 0.28055555555555556\n",
      "Acc_w_25_4vuni_a99828&a99830_9.csv : 0.23333333333333334\n",
      "Acc_w_25_4v_66b325&b56522_9.csv : 0.42857142857142855\n",
      "Acc_w_25_4v_a99828&a99830&66b325&b56522_9.csv : 0.2625\n",
      "Acc_w_25_4v_a99828&a99830_9.csv : 0.30333333333333334\n"
     ]
    },
    {
     "name": "stderr",
     "output_type": "stream",
     "text": [
      "C:\\Users\\nilu1\\Anaconda3\\lib\\site-packages\\sklearn\\linear_model\\logistic.py:947: ConvergenceWarning: lbfgs failed to converge. Increase the number of iterations.\n",
      "  \"of iterations.\", ConvergenceWarning)\n",
      "C:\\Users\\nilu1\\Anaconda3\\lib\\site-packages\\sklearn\\linear_model\\logistic.py:947: ConvergenceWarning: lbfgs failed to converge. Increase the number of iterations.\n",
      "  \"of iterations.\", ConvergenceWarning)\n",
      "C:\\Users\\nilu1\\Anaconda3\\lib\\site-packages\\sklearn\\linear_model\\logistic.py:947: ConvergenceWarning: lbfgs failed to converge. Increase the number of iterations.\n",
      "  \"of iterations.\", ConvergenceWarning)\n",
      "C:\\Users\\nilu1\\Anaconda3\\lib\\site-packages\\sklearn\\linear_model\\logistic.py:947: ConvergenceWarning: lbfgs failed to converge. Increase the number of iterations.\n",
      "  \"of iterations.\", ConvergenceWarning)\n",
      "C:\\Users\\nilu1\\Anaconda3\\lib\\site-packages\\sklearn\\linear_model\\logistic.py:947: ConvergenceWarning: lbfgs failed to converge. Increase the number of iterations.\n",
      "  \"of iterations.\", ConvergenceWarning)\n"
     ]
    },
    {
     "name": "stdout",
     "output_type": "stream",
     "text": [
      "Acc_w_25_window_66b325&b56522_75.csv : 0.5357142857142857\n"
     ]
    },
    {
     "name": "stderr",
     "output_type": "stream",
     "text": [
      "C:\\Users\\nilu1\\Anaconda3\\lib\\site-packages\\sklearn\\linear_model\\logistic.py:947: ConvergenceWarning: lbfgs failed to converge. Increase the number of iterations.\n",
      "  \"of iterations.\", ConvergenceWarning)\n",
      "C:\\Users\\nilu1\\Anaconda3\\lib\\site-packages\\sklearn\\linear_model\\logistic.py:947: ConvergenceWarning: lbfgs failed to converge. Increase the number of iterations.\n",
      "  \"of iterations.\", ConvergenceWarning)\n",
      "C:\\Users\\nilu1\\Anaconda3\\lib\\site-packages\\sklearn\\linear_model\\logistic.py:947: ConvergenceWarning: lbfgs failed to converge. Increase the number of iterations.\n",
      "  \"of iterations.\", ConvergenceWarning)\n",
      "C:\\Users\\nilu1\\Anaconda3\\lib\\site-packages\\sklearn\\linear_model\\logistic.py:947: ConvergenceWarning: lbfgs failed to converge. Increase the number of iterations.\n",
      "  \"of iterations.\", ConvergenceWarning)\n",
      "C:\\Users\\nilu1\\Anaconda3\\lib\\site-packages\\sklearn\\linear_model\\logistic.py:947: ConvergenceWarning: lbfgs failed to converge. Increase the number of iterations.\n",
      "  \"of iterations.\", ConvergenceWarning)\n"
     ]
    },
    {
     "name": "stdout",
     "output_type": "stream",
     "text": [
      "Acc_w_25_window_a99828&a99830&66b325&b56522_75.csv : 0.42083333333333334\n"
     ]
    },
    {
     "name": "stderr",
     "output_type": "stream",
     "text": [
      "C:\\Users\\nilu1\\Anaconda3\\lib\\site-packages\\sklearn\\linear_model\\logistic.py:947: ConvergenceWarning: lbfgs failed to converge. Increase the number of iterations.\n",
      "  \"of iterations.\", ConvergenceWarning)\n",
      "C:\\Users\\nilu1\\Anaconda3\\lib\\site-packages\\sklearn\\linear_model\\logistic.py:947: ConvergenceWarning: lbfgs failed to converge. Increase the number of iterations.\n",
      "  \"of iterations.\", ConvergenceWarning)\n",
      "C:\\Users\\nilu1\\Anaconda3\\lib\\site-packages\\sklearn\\linear_model\\logistic.py:947: ConvergenceWarning: lbfgs failed to converge. Increase the number of iterations.\n",
      "  \"of iterations.\", ConvergenceWarning)\n",
      "C:\\Users\\nilu1\\Anaconda3\\lib\\site-packages\\sklearn\\linear_model\\logistic.py:947: ConvergenceWarning: lbfgs failed to converge. Increase the number of iterations.\n",
      "  \"of iterations.\", ConvergenceWarning)\n",
      "C:\\Users\\nilu1\\Anaconda3\\lib\\site-packages\\sklearn\\linear_model\\logistic.py:947: ConvergenceWarning: lbfgs failed to converge. Increase the number of iterations.\n",
      "  \"of iterations.\", ConvergenceWarning)\n"
     ]
    },
    {
     "name": "stdout",
     "output_type": "stream",
     "text": [
      "Acc_w_25_window_a99828&a99830_75.csv : 0.5166666666666667\n",
      "Acc_w_30_4vuni_66b325&b56522_9.csv : 0.3880952380952381\n",
      "Acc_w_30_4vuni_a99828&a99830&66b325&b56522_9.csv : 0.25\n",
      "Acc_w_30_4vuni_a99828&a99830_9.csv : 0.22333333333333333\n",
      "Acc_w_30_4v_66b325&b56522_9.csv : 0.42142857142857143\n",
      "Acc_w_30_4v_a99828&a99830&66b325&b56522_9.csv : 0.2638888888888889\n",
      "Acc_w_30_4v_a99828&a99830_9.csv : 0.33\n"
     ]
    },
    {
     "name": "stderr",
     "output_type": "stream",
     "text": [
      "C:\\Users\\nilu1\\Anaconda3\\lib\\site-packages\\sklearn\\linear_model\\logistic.py:947: ConvergenceWarning: lbfgs failed to converge. Increase the number of iterations.\n",
      "  \"of iterations.\", ConvergenceWarning)\n",
      "C:\\Users\\nilu1\\Anaconda3\\lib\\site-packages\\sklearn\\linear_model\\logistic.py:947: ConvergenceWarning: lbfgs failed to converge. Increase the number of iterations.\n",
      "  \"of iterations.\", ConvergenceWarning)\n",
      "C:\\Users\\nilu1\\Anaconda3\\lib\\site-packages\\sklearn\\linear_model\\logistic.py:947: ConvergenceWarning: lbfgs failed to converge. Increase the number of iterations.\n",
      "  \"of iterations.\", ConvergenceWarning)\n",
      "C:\\Users\\nilu1\\Anaconda3\\lib\\site-packages\\sklearn\\linear_model\\logistic.py:947: ConvergenceWarning: lbfgs failed to converge. Increase the number of iterations.\n",
      "  \"of iterations.\", ConvergenceWarning)\n",
      "C:\\Users\\nilu1\\Anaconda3\\lib\\site-packages\\sklearn\\linear_model\\logistic.py:947: ConvergenceWarning: lbfgs failed to converge. Increase the number of iterations.\n",
      "  \"of iterations.\", ConvergenceWarning)\n"
     ]
    },
    {
     "name": "stdout",
     "output_type": "stream",
     "text": [
      "Acc_w_30_window_66b325&b56522_90.csv : 0.7547619047619047\n"
     ]
    },
    {
     "name": "stderr",
     "output_type": "stream",
     "text": [
      "C:\\Users\\nilu1\\Anaconda3\\lib\\site-packages\\sklearn\\linear_model\\logistic.py:947: ConvergenceWarning: lbfgs failed to converge. Increase the number of iterations.\n",
      "  \"of iterations.\", ConvergenceWarning)\n",
      "C:\\Users\\nilu1\\Anaconda3\\lib\\site-packages\\sklearn\\linear_model\\logistic.py:947: ConvergenceWarning: lbfgs failed to converge. Increase the number of iterations.\n",
      "  \"of iterations.\", ConvergenceWarning)\n",
      "C:\\Users\\nilu1\\Anaconda3\\lib\\site-packages\\sklearn\\linear_model\\logistic.py:947: ConvergenceWarning: lbfgs failed to converge. Increase the number of iterations.\n",
      "  \"of iterations.\", ConvergenceWarning)\n",
      "C:\\Users\\nilu1\\Anaconda3\\lib\\site-packages\\sklearn\\linear_model\\logistic.py:947: ConvergenceWarning: lbfgs failed to converge. Increase the number of iterations.\n",
      "  \"of iterations.\", ConvergenceWarning)\n",
      "C:\\Users\\nilu1\\Anaconda3\\lib\\site-packages\\sklearn\\linear_model\\logistic.py:947: ConvergenceWarning: lbfgs failed to converge. Increase the number of iterations.\n",
      "  \"of iterations.\", ConvergenceWarning)\n"
     ]
    },
    {
     "name": "stdout",
     "output_type": "stream",
     "text": [
      "Acc_w_30_window_a99828&a99830&66b325&b56522_90.csv : 0.42083333333333334\n"
     ]
    },
    {
     "name": "stderr",
     "output_type": "stream",
     "text": [
      "C:\\Users\\nilu1\\Anaconda3\\lib\\site-packages\\sklearn\\linear_model\\logistic.py:947: ConvergenceWarning: lbfgs failed to converge. Increase the number of iterations.\n",
      "  \"of iterations.\", ConvergenceWarning)\n",
      "C:\\Users\\nilu1\\Anaconda3\\lib\\site-packages\\sklearn\\linear_model\\logistic.py:947: ConvergenceWarning: lbfgs failed to converge. Increase the number of iterations.\n",
      "  \"of iterations.\", ConvergenceWarning)\n",
      "C:\\Users\\nilu1\\Anaconda3\\lib\\site-packages\\sklearn\\linear_model\\logistic.py:947: ConvergenceWarning: lbfgs failed to converge. Increase the number of iterations.\n",
      "  \"of iterations.\", ConvergenceWarning)\n"
     ]
    },
    {
     "name": "stdout",
     "output_type": "stream",
     "text": [
      "Acc_w_30_window_a99828&a99830_90.csv : 0.58\n",
      "Gyro_25_4vuni_66b325&b56522_9.csv : 0.4880952380952381\n",
      "Gyro_25_4vuni_a99828&a99830&66b325&b56522_9.csv : 0.3388888888888889\n",
      "Gyro_25_4vuni_a99828&a99830_9.csv : 0.36666666666666664\n",
      "Gyro_25_4v_66b325&b56522_9.csv : 0.4095238095238095\n",
      "Gyro_25_4v_a99828&a99830&66b325&b56522_9.csv : 0.34444444444444444\n",
      "Gyro_25_4v_a99828&a99830_9.csv : 0.43\n"
     ]
    },
    {
     "name": "stderr",
     "output_type": "stream",
     "text": [
      "C:\\Users\\nilu1\\Anaconda3\\lib\\site-packages\\sklearn\\linear_model\\logistic.py:947: ConvergenceWarning: lbfgs failed to converge. Increase the number of iterations.\n",
      "  \"of iterations.\", ConvergenceWarning)\n",
      "C:\\Users\\nilu1\\Anaconda3\\lib\\site-packages\\sklearn\\linear_model\\logistic.py:947: ConvergenceWarning: lbfgs failed to converge. Increase the number of iterations.\n",
      "  \"of iterations.\", ConvergenceWarning)\n",
      "C:\\Users\\nilu1\\Anaconda3\\lib\\site-packages\\sklearn\\linear_model\\logistic.py:947: ConvergenceWarning: lbfgs failed to converge. Increase the number of iterations.\n",
      "  \"of iterations.\", ConvergenceWarning)\n",
      "C:\\Users\\nilu1\\Anaconda3\\lib\\site-packages\\sklearn\\linear_model\\logistic.py:947: ConvergenceWarning: lbfgs failed to converge. Increase the number of iterations.\n",
      "  \"of iterations.\", ConvergenceWarning)\n",
      "C:\\Users\\nilu1\\Anaconda3\\lib\\site-packages\\sklearn\\linear_model\\logistic.py:947: ConvergenceWarning: lbfgs failed to converge. Increase the number of iterations.\n",
      "  \"of iterations.\", ConvergenceWarning)\n"
     ]
    },
    {
     "name": "stdout",
     "output_type": "stream",
     "text": [
      "Gyro_25_window_66b325&b56522_75.csv : 0.5357142857142857\n"
     ]
    },
    {
     "name": "stderr",
     "output_type": "stream",
     "text": [
      "C:\\Users\\nilu1\\Anaconda3\\lib\\site-packages\\sklearn\\linear_model\\logistic.py:947: ConvergenceWarning: lbfgs failed to converge. Increase the number of iterations.\n",
      "  \"of iterations.\", ConvergenceWarning)\n",
      "C:\\Users\\nilu1\\Anaconda3\\lib\\site-packages\\sklearn\\linear_model\\logistic.py:947: ConvergenceWarning: lbfgs failed to converge. Increase the number of iterations.\n",
      "  \"of iterations.\", ConvergenceWarning)\n",
      "C:\\Users\\nilu1\\Anaconda3\\lib\\site-packages\\sklearn\\linear_model\\logistic.py:947: ConvergenceWarning: lbfgs failed to converge. Increase the number of iterations.\n",
      "  \"of iterations.\", ConvergenceWarning)\n",
      "C:\\Users\\nilu1\\Anaconda3\\lib\\site-packages\\sklearn\\linear_model\\logistic.py:947: ConvergenceWarning: lbfgs failed to converge. Increase the number of iterations.\n",
      "  \"of iterations.\", ConvergenceWarning)\n",
      "C:\\Users\\nilu1\\Anaconda3\\lib\\site-packages\\sklearn\\linear_model\\logistic.py:947: ConvergenceWarning: lbfgs failed to converge. Increase the number of iterations.\n",
      "  \"of iterations.\", ConvergenceWarning)\n"
     ]
    },
    {
     "name": "stdout",
     "output_type": "stream",
     "text": [
      "Gyro_25_window_a99828&a99830&66b325&b56522_75.csv : 0.3888888888888889\n",
      "Gyro_25_window_a99828&a99830_75.csv : 0.6933333333333334\n",
      "Gyro_30_4vuni_66b325&b56522_9.csv : 0.4976190476190476\n",
      "Gyro_30_4vuni_a99828&a99830&66b325&b56522_9.csv : 0.3611111111111111\n",
      "Gyro_30_4vuni_a99828&a99830_9.csv : 0.43333333333333335\n",
      "Gyro_30_4v_66b325&b56522_9.csv : 0.45714285714285713\n",
      "Gyro_30_4v_a99828&a99830&66b325&b56522_9.csv : 0.3458333333333333\n",
      "Gyro_30_4v_a99828&a99830_9.csv : 0.43666666666666665\n"
     ]
    },
    {
     "name": "stderr",
     "output_type": "stream",
     "text": [
      "C:\\Users\\nilu1\\Anaconda3\\lib\\site-packages\\sklearn\\linear_model\\logistic.py:947: ConvergenceWarning: lbfgs failed to converge. Increase the number of iterations.\n",
      "  \"of iterations.\", ConvergenceWarning)\n",
      "C:\\Users\\nilu1\\Anaconda3\\lib\\site-packages\\sklearn\\linear_model\\logistic.py:947: ConvergenceWarning: lbfgs failed to converge. Increase the number of iterations.\n",
      "  \"of iterations.\", ConvergenceWarning)\n",
      "C:\\Users\\nilu1\\Anaconda3\\lib\\site-packages\\sklearn\\linear_model\\logistic.py:947: ConvergenceWarning: lbfgs failed to converge. Increase the number of iterations.\n",
      "  \"of iterations.\", ConvergenceWarning)\n",
      "C:\\Users\\nilu1\\Anaconda3\\lib\\site-packages\\sklearn\\linear_model\\logistic.py:947: ConvergenceWarning: lbfgs failed to converge. Increase the number of iterations.\n",
      "  \"of iterations.\", ConvergenceWarning)\n",
      "C:\\Users\\nilu1\\Anaconda3\\lib\\site-packages\\sklearn\\linear_model\\logistic.py:947: ConvergenceWarning: lbfgs failed to converge. Increase the number of iterations.\n",
      "  \"of iterations.\", ConvergenceWarning)\n"
     ]
    },
    {
     "name": "stdout",
     "output_type": "stream",
     "text": [
      "Gyro_30_window_66b325&b56522_90.csv : 0.6952380952380952\n"
     ]
    },
    {
     "name": "stderr",
     "output_type": "stream",
     "text": [
      "C:\\Users\\nilu1\\Anaconda3\\lib\\site-packages\\sklearn\\linear_model\\logistic.py:947: ConvergenceWarning: lbfgs failed to converge. Increase the number of iterations.\n",
      "  \"of iterations.\", ConvergenceWarning)\n",
      "C:\\Users\\nilu1\\Anaconda3\\lib\\site-packages\\sklearn\\linear_model\\logistic.py:947: ConvergenceWarning: lbfgs failed to converge. Increase the number of iterations.\n",
      "  \"of iterations.\", ConvergenceWarning)\n",
      "C:\\Users\\nilu1\\Anaconda3\\lib\\site-packages\\sklearn\\linear_model\\logistic.py:947: ConvergenceWarning: lbfgs failed to converge. Increase the number of iterations.\n",
      "  \"of iterations.\", ConvergenceWarning)\n",
      "C:\\Users\\nilu1\\Anaconda3\\lib\\site-packages\\sklearn\\linear_model\\logistic.py:947: ConvergenceWarning: lbfgs failed to converge. Increase the number of iterations.\n",
      "  \"of iterations.\", ConvergenceWarning)\n",
      "C:\\Users\\nilu1\\Anaconda3\\lib\\site-packages\\sklearn\\linear_model\\logistic.py:947: ConvergenceWarning: lbfgs failed to converge. Increase the number of iterations.\n",
      "  \"of iterations.\", ConvergenceWarning)\n"
     ]
    },
    {
     "name": "stdout",
     "output_type": "stream",
     "text": [
      "Gyro_30_window_a99828&a99830&66b325&b56522_90.csv : 0.36944444444444446\n",
      "Gyro_30_window_a99828&a99830_90.csv : 0.5333333333333333\n",
      "--------------------------Test : ----------------------------\n",
      "Gyro_30_window_66b325&b56522_90.csv : 0.44680851063829785\n",
      "Gyro_30_4vuni_66b325&b56522_9.csv : 0.425531914893617\n",
      "Gyro_25_window_66b325&b56522_75.csv : 0.425531914893617\n",
      "Gyro_30_4v_66b325&b56522_9.csv : 0.41134751773049644\n",
      "Gyro_25_4vuni_66b325&b56522_9.csv : 0.3829787234042553\n",
      "Acc_w_25_window_66b325&b56522_75.csv : 0.375886524822695\n",
      "Acc_w_30_window_66b325&b56522_90.csv : 0.3617021276595745\n",
      "Acc_w_30_4v_66b325&b56522_9.csv : 0.3617021276595745\n",
      "Acc_w_25_4v_66b325&b56522_9.csv : 0.3617021276595745\n",
      "Gyro_25_4v_66b325&b56522_9.csv : 0.3546099290780142\n",
      "Acc_w_25_4vuni_66b325&b56522_9.csv : 0.3475177304964539\n",
      "Gyro_25_4v_a99828&a99830_9.csv : 0.32\n",
      "Acc_w_30_4vuni_66b325&b56522_9.csv : 0.3191489361702128\n",
      "Gyro_30_window_a99828&a99830_90.csv : 0.29\n",
      "Acc_w_30_window_a99828&a99830_90.csv : 0.29\n",
      "Gyro_25_window_a99828&a99830&66b325&b56522_75.csv : 0.2863070539419087\n",
      "Gyro_30_window_a99828&a99830&66b325&b56522_90.csv : 0.27800829875518673\n",
      "Gyro_30_4vuni_a99828&a99830_9.csv : 0.26\n",
      "Gyro_25_4vuni_a99828&a99830&66b325&b56522_9.csv : 0.25311203319502074\n",
      "Acc_w_25_window_a99828&a99830_75.csv : 0.25\n",
      "Gyro_25_4v_a99828&a99830&66b325&b56522_9.csv : 0.24896265560165975\n",
      "Gyro_30_4vuni_a99828&a99830&66b325&b56522_9.csv : 0.24066390041493776\n",
      "Gyro_30_4v_a99828&a99830_9.csv : 0.24\n",
      "Gyro_25_4vuni_a99828&a99830_9.csv : 0.24\n",
      "Gyro_30_4v_a99828&a99830&66b325&b56522_9.csv : 0.23651452282157676\n",
      "Acc_w_25_window_a99828&a99830&66b325&b56522_75.csv : 0.23236514522821577\n",
      "Gyro_25_window_a99828&a99830_75.csv : 0.23\n",
      "Acc_w_30_4vuni_a99828&a99830_9.csv : 0.23\n",
      "Acc_w_30_4v_a99828&a99830&66b325&b56522_9.csv : 0.22821576763485477\n",
      "Acc_w_25_4vuni_a99828&a99830&66b325&b56522_9.csv : 0.22821576763485477\n",
      "Acc_w_30_window_a99828&a99830&66b325&b56522_90.csv : 0.21991701244813278\n",
      "Acc_w_25_4vuni_a99828&a99830_9.csv : 0.21\n",
      "Acc_w_30_4vuni_a99828&a99830&66b325&b56522_9.csv : 0.2033195020746888\n",
      "Acc_w_25_4v_a99828&a99830&66b325&b56522_9.csv : 0.1950207468879668\n",
      "Acc_w_30_4v_a99828&a99830_9.csv : 0.17\n",
      "Acc_w_25_4v_a99828&a99830_9.csv : 0.17\n"
     ]
    }
   ],
   "source": [
    "for file in pathex:\n",
    "    ni=file.rfind(\"_\")+1\n",
    "    n=int(file[ni:].split(\".\")[0])\n",
    "    df=pd.read_csv(path+file)\n",
    "    x = df.iloc[:, 0:n].values\n",
    "    y = df.iloc[:, n].values\n",
    "    X_train, X_test, y_train, y_test = train_test_split(x, y, test_size=0.25, random_state=0)\n",
    "#     sc = StandardScaler()\n",
    "#     X_train = sc.fit_transform(X_train)\n",
    "#     X_test = sc.transform(X_test)\n",
    "    logmodel = LogisticRegressionCV(cv=5,random_state=0,multi_class=\"auto\",max_iter=1000)\n",
    "    logmodel.fit(X_train, y_train)\n",
    "    y_pred = logmodel.predict(X_train)\n",
    "    print(file,end=\" : \")\n",
    "    print(accuracy_score(y_train,y_pred))\n",
    "    y_pred = logmodel.predict(X_test)\n",
    "    df = pd.DataFrame({'Actual': y_test, 'Predicted': y_pred})\n",
    "#     score.append([f1_score(y_test, y_pred, average=\"micro\"),file])\n",
    "    score.append([accuracy_score(y_test, y_pred),file])\n",
    "#     print(df)\n",
    "score.sort(reverse=True)\n",
    "print(\"--------------------------Test : ----------------------------\")\n",
    "for i in range(len(score)):\n",
    "    print(score[i][1]+\" : \"+str(score[i][0]))\n",
    "# df"
   ]
  }
 ],
 "metadata": {
  "kernelspec": {
   "display_name": "Python 3",
   "language": "python",
   "name": "python3"
  },
  "language_info": {
   "codemirror_mode": {
    "name": "ipython",
    "version": 3
   },
   "file_extension": ".py",
   "mimetype": "text/x-python",
   "name": "python",
   "nbconvert_exporter": "python",
   "pygments_lexer": "ipython3",
   "version": "3.7.4"
  }
 },
 "nbformat": 4,
 "nbformat_minor": 2
}
