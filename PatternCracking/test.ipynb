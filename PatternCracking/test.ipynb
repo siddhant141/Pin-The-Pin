{
 "cells": [
  {
   "cell_type": "code",
   "execution_count": 1,
   "metadata": {},
   "outputs": [],
   "source": [
    "import pandas as pd\n",
    "import numpy as np\n",
    "import os\n",
    "from sklearn.model_selection import train_test_split\n",
    "# from sklearn.preprocessing import StandardScaler\n",
    "# from sklearn.ensemble import RandomForestClassifier\n",
    "# from sklearn.multioutput import MultiOutputClassifier\n",
    "# from sklearn.linear_model import LogisticRegressionCV #0.32. maybe few options in here too\n",
    "from sklearn.metrics import classification_report\n",
    "from sklearn.metrics import confusion_matrix,accuracy_score\n",
    "from sklearn import metrics\n",
    "from os import listdir\n",
    "from os.path import isfile, join\n",
    "from sklearn.preprocessing import Normalizer\n",
    "from sklearn.metrics import f1_score\n",
    "import pickle"
   ]
  },
  {
   "cell_type": "code",
   "execution_count": 2,
   "metadata": {},
   "outputs": [],
   "source": [
    "# pathm=\"C:\\\\Users\\\\nilu1\\\\Desktop\\\\Code\\\\AndroidPattern\\\\Data\\\\Spike\\\\Models\\\\\"\n",
    "pathm=\"C:\\\\Users\\\\nilu1\\\\Desktop\\\\Code\\\\AndroidPattern\\\\Data\\\\Models using\\\\\"\n",
    "pathmex = [f for f in listdir(pathm) if isfile(join(pathm, f))]\n",
    "pathmex.sort()\n",
    "# pathex=[\"Gyro_400_window_a29c08&66b325&b56522_1200.csv\"]\n",
    "# filem=pathmex[0]"
   ]
  },
  {
   "cell_type": "code",
   "execution_count": 3,
   "metadata": {
    "scrolled": false
   },
   "outputs": [
    {
     "name": "stdout",
     "output_type": "stream",
     "text": [
      "mlp500_idenhide_Acc_woGyro_400_window_4b0c17&4b0c18_1200.sav\n",
      "Acc_woGyro_400_window_4b0c19_1200.csv\n",
      "f1score :  0.6744186046511628\n",
      "accuracy score :  0.6744186046511628\n",
      "0.9457364341085271\n",
      "At position 1 or 2 :  0.872093023255814\n",
      "              precision    recall  f1-score   support\n",
      "\n",
      "           0       0.77      0.59      0.67        29\n",
      "           1       0.80      0.92      0.86        26\n",
      "           2       0.83      0.73      0.78        26\n",
      "           3       0.61      0.68      0.64        25\n",
      "           4       0.67      0.75      0.71        24\n",
      "           5       0.63      0.68      0.65        25\n",
      "           6       0.48      0.44      0.46        25\n",
      "           7       0.70      0.84      0.76        25\n",
      "           8       0.56      0.58      0.57        26\n",
      "           9       0.71      0.56      0.63        27\n",
      "\n",
      "    accuracy                           0.67       258\n",
      "   macro avg       0.68      0.68      0.67       258\n",
      "weighted avg       0.68      0.67      0.67       258\n",
      "\n",
      "mlp_Acc_woGyro_400_window_4b0c17&4b0c18_1200.sav\n",
      "Acc_woGyro_400_window_4b0c19_1200.csv\n",
      "f1score :  0.5891472868217055\n",
      "accuracy score :  0.5891472868217055\n",
      "0.9031007751937985\n",
      "At position 1 or 2 :  0.8372093023255814\n",
      "              precision    recall  f1-score   support\n",
      "\n",
      "           0       0.69      0.62      0.65        29\n",
      "           1       0.69      0.92      0.79        26\n",
      "           2       0.61      0.65      0.63        26\n",
      "           3       0.50      0.68      0.58        25\n",
      "           4       0.53      0.67      0.59        24\n",
      "           5       0.42      0.44      0.43        25\n",
      "           6       0.70      0.28      0.40        25\n",
      "           7       0.65      0.68      0.67        25\n",
      "           8       0.53      0.38      0.44        26\n",
      "           9       0.62      0.56      0.59        27\n",
      "\n",
      "    accuracy                           0.59       258\n",
      "   macro avg       0.59      0.59      0.58       258\n",
      "weighted avg       0.60      0.59      0.58       258\n",
      "\n"
     ]
    }
   ],
   "source": [
    "# path=\"C:\\\\Users\\\\nilu1\\\\Desktop\\\\Code\\\\AndroidPattern\\\\Data\\\\Spike\\\\Testing\\\\\"\n",
    "# path=\"C:\\\\Users\\\\nilu1\\\\Desktop\\\\Code\\\\AndroidPattern\\\\Data\\\\Testing\\\\\"\n",
    "path=\"C:\\\\Users\\\\nilu1\\\\Desktop\\\\Code\\\\AndroidPattern\\\\Data\\\\Using\\\\\"\n",
    "pathex = [f for f in listdir(path) if isfile(join(path, f))]\n",
    "pathex.sort()\n",
    "# file=pathex[0]\n",
    "for filem in pathmex:\n",
    "    for file in pathex:\n",
    "        ni=file.rfind(\"_\")+1\n",
    "        n=int(file[ni:].split(\".\")[0])\n",
    "        nim=filem.rfind(\"_\")+1\n",
    "        nm=int(filem[nim:].split(\".\")[0])\n",
    "        if(n!=nm):\n",
    "            continue\n",
    "        df=pd.read_csv(path+file)\n",
    "        x_test = df.iloc[:, 0:n].values\n",
    "        y_test = df.iloc[:, n].values\n",
    "        # X_train, X_test, y_train, y_test = train_test_split(x, y, test_size=1, random_state=0)\n",
    "        logmodel=pickle.load(open(pathm+filem, 'rb'))\n",
    "#         X_train, x_test, y_train, y_test = train_test_split(x_test, y_test, test_size=0.3, random_state=0)\n",
    "#         logmodel.fit(X_train, y_train)\n",
    "#         result = logmodel.score(X_test, Y_test)\n",
    "#         print(result)\n",
    "#         print(x_test)\n",
    "        y_pred = logmodel.predict(x_test)\n",
    "        df = pd.DataFrame({'Actual': y_test, 'Predicted': y_pred})\n",
    "\n",
    "        # print(y_pred,y)\n",
    "\n",
    "        p = logmodel.predict_proba(x_test)\n",
    "        nn = 3\n",
    "        top_n = np.argsort(p)[:,:-nn-1:-1]\n",
    "        count=0\n",
    "        count12=0\n",
    "        for i in range(len(y_pred)):\n",
    "            if(y_test[i] in top_n[i]):\n",
    "                count+=1\n",
    "            if(y_test[i] in top_n[i][:2]):\n",
    "                count12+=1\n",
    "    #         print(y_test[i],top_n[i])\n",
    "        l=len(y_pred)\n",
    "        print(filem)\n",
    "        print(file)\n",
    "        print(\"f1score : \",f1_score(y_test, y_pred, average=\"micro\"))\n",
    "        print(\"accuracy score : \", accuracy_score(y_test,y_pred))\n",
    "        print(count/l)\n",
    "        print(\"At position 1 or 2 : \",count12/l)\n",
    "        print(classification_report(y_test, y_pred))"
   ]
  },
  {
   "cell_type": "code",
   "execution_count": 4,
   "metadata": {},
   "outputs": [],
   "source": [
    "# with pd.option_context(\"display.max_rows\",None,\"display.max_columns\",None):\n",
    "#     print(df)"
   ]
  }
 ],
 "metadata": {
  "kernelspec": {
   "display_name": "Python 3",
   "language": "python",
   "name": "python3"
  },
  "language_info": {
   "codemirror_mode": {
    "name": "ipython",
    "version": 3
   },
   "file_extension": ".py",
   "mimetype": "text/x-python",
   "name": "python",
   "nbconvert_exporter": "python",
   "pygments_lexer": "ipython3",
   "version": "3.7.4"
  }
 },
 "nbformat": 4,
 "nbformat_minor": 2
}
