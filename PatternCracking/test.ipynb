{
 "cells": [
  {
   "cell_type": "code",
   "execution_count": 1,
   "metadata": {},
   "outputs": [],
   "source": [
    "import pandas as pd\n",
    "import numpy as np\n",
    "import os\n",
    "from sklearn.model_selection import train_test_split\n",
    "# from sklearn.preprocessing import StandardScaler\n",
    "# from sklearn.ensemble import RandomForestClassifier\n",
    "# from sklearn.multioutput import MultiOutputClassifier\n",
    "# from sklearn.linear_model import LogisticRegressionCV #0.32. maybe few options in here too\n",
    "from sklearn.metrics import classification_report\n",
    "from sklearn.metrics import confusion_matrix,accuracy_score\n",
    "from sklearn import metrics\n",
    "from os import listdir\n",
    "from os.path import isfile, join\n",
    "from sklearn.preprocessing import Normalizer\n",
    "from sklearn.metrics import f1_score\n",
    "import pickle"
   ]
  },
  {
   "cell_type": "code",
   "execution_count": 2,
   "metadata": {},
   "outputs": [],
   "source": [
    "# pathm=\"C:\\\\Users\\\\nilu1\\\\Desktop\\\\Code\\\\AndroidPattern\\\\Data\\\\Spike\\\\Models\\\\\"\n",
    "pathm=\"C:\\\\Users\\\\nilu1\\\\Desktop\\\\Code\\\\AndroidPattern\\\\Data\\\\Report models\\\\\"\n",
    "pathmex = [f for f in listdir(pathm) if isfile(join(pathm, f))]\n",
    "pathmex.sort()\n",
    "# pathex=[\"Gyro_400_window_a29c08&66b325&b56522_1200.csv\"]\n",
    "# filem=pathmex[0]"
   ]
  },
  {
   "cell_type": "code",
   "execution_count": 3,
   "metadata": {
    "scrolled": false
   },
   "outputs": [
    {
     "name": "stdout",
     "output_type": "stream",
     "text": [
      "logistic500_Acc_woGyro_400_window_4b0c17&4b0c18_1200.sav\n",
      "Acc_wGyro_400_window_4b0c19_1200.csv\n",
      "f1score :  0.12734082397003746\n",
      "accuracy score :  0.12734082397003746\n",
      "0.3295880149812734\n",
      "At position 1 or 2 :  0.21722846441947566\n",
      "              precision    recall  f1-score   support\n",
      "\n",
      "           0       0.40      0.08      0.13        26\n",
      "           1       0.00      0.00      0.00        27\n",
      "           2       0.00      0.00      0.00        27\n",
      "           3       0.10      0.78      0.18        27\n",
      "           4       0.00      0.00      0.00        27\n",
      "           5       0.00      0.00      0.00        27\n",
      "           6       0.18      0.42      0.25        26\n",
      "           7       0.00      0.00      0.00        27\n",
      "           8       0.00      0.00      0.00        27\n",
      "           9       0.00      0.00      0.00        26\n",
      "\n",
      "    accuracy                           0.13       267\n",
      "   macro avg       0.07      0.13      0.06       267\n",
      "weighted avg       0.07      0.13      0.06       267\n",
      "\n"
     ]
    },
    {
     "name": "stderr",
     "output_type": "stream",
     "text": [
      "C:\\Users\\nilu1\\Anaconda3\\lib\\site-packages\\sklearn\\metrics\\classification.py:1437: UndefinedMetricWarning: Precision and F-score are ill-defined and being set to 0.0 in labels with no predicted samples.\n",
      "  'precision', 'predicted', average, warn_for)\n"
     ]
    },
    {
     "name": "stdout",
     "output_type": "stream",
     "text": [
      "logistic_Acc_woGyro_400_window_4b0c17&4b0c18_1200.sav\n",
      "Acc_wGyro_400_window_4b0c19_1200.csv\n",
      "f1score :  0.09737827715355804\n",
      "accuracy score :  0.09737827715355805\n",
      "0.3707865168539326\n",
      "At position 1 or 2 :  0.19850187265917604\n",
      "              precision    recall  f1-score   support\n",
      "\n",
      "           0       0.00      0.00      0.00        26\n",
      "           1       0.00      0.00      0.00        27\n",
      "           2       0.00      0.00      0.00        27\n",
      "           3       0.00      0.00      0.00        27\n",
      "           4       0.00      0.00      0.00        27\n",
      "           5       0.00      0.00      0.00        27\n",
      "           6       0.10      1.00      0.18        26\n",
      "           7       0.00      0.00      0.00        27\n",
      "           8       0.00      0.00      0.00        27\n",
      "           9       0.00      0.00      0.00        26\n",
      "\n",
      "    accuracy                           0.10       267\n",
      "   macro avg       0.01      0.10      0.02       267\n",
      "weighted avg       0.01      0.10      0.02       267\n",
      "\n"
     ]
    },
    {
     "name": "stderr",
     "output_type": "stream",
     "text": [
      "C:\\Users\\nilu1\\Anaconda3\\lib\\site-packages\\sklearn\\metrics\\classification.py:1437: UndefinedMetricWarning: Precision and F-score are ill-defined and being set to 0.0 in labels with no predicted samples.\n",
      "  'precision', 'predicted', average, warn_for)\n"
     ]
    },
    {
     "name": "stdout",
     "output_type": "stream",
     "text": [
      "mlp500_iden_Acc_wGyro_400_window_4b0c17&4b0c18_1200.sav\n",
      "Acc_wGyro_400_window_4b0c19_1200.csv\n",
      "f1score :  0.5318352059925093\n",
      "accuracy score :  0.5318352059925093\n",
      "0.7940074906367042\n",
      "At position 1 or 2 :  0.7490636704119851\n",
      "              precision    recall  f1-score   support\n",
      "\n",
      "           0       0.60      0.12      0.19        26\n",
      "           1       0.72      0.85      0.78        27\n",
      "           2       0.57      0.78      0.66        27\n",
      "           3       0.40      0.74      0.52        27\n",
      "           4       0.59      0.59      0.59        27\n",
      "           5       0.50      0.56      0.53        27\n",
      "           6       0.41      0.46      0.44        26\n",
      "           7       0.69      0.41      0.51        27\n",
      "           8       0.43      0.33      0.38        27\n",
      "           9       0.60      0.46      0.52        26\n",
      "\n",
      "    accuracy                           0.53       267\n",
      "   macro avg       0.55      0.53      0.51       267\n",
      "weighted avg       0.55      0.53      0.51       267\n",
      "\n",
      "mlp500_idenhide_Acc_woGyro_400_window_4b0c17&4b0c18_1200.sav\n",
      "Acc_wGyro_400_window_4b0c19_1200.csv\n",
      "f1score :  0.10112359550561796\n",
      "accuracy score :  0.10112359550561797\n",
      "0.299625468164794\n",
      "At position 1 or 2 :  0.21348314606741572\n",
      "              precision    recall  f1-score   support\n",
      "\n",
      "           0       0.00      0.00      0.00        26\n",
      "           1       0.00      0.00      0.00        27\n",
      "           2       0.00      0.00      0.00        27\n",
      "           3       0.10      1.00      0.18        27\n",
      "           4       0.00      0.00      0.00        27\n",
      "           5       0.00      0.00      0.00        27\n",
      "           6       0.00      0.00      0.00        26\n",
      "           7       0.00      0.00      0.00        27\n",
      "           8       0.00      0.00      0.00        27\n",
      "           9       0.00      0.00      0.00        26\n",
      "\n",
      "    accuracy                           0.10       267\n",
      "   macro avg       0.01      0.10      0.02       267\n",
      "weighted avg       0.01      0.10      0.02       267\n",
      "\n"
     ]
    },
    {
     "name": "stderr",
     "output_type": "stream",
     "text": [
      "C:\\Users\\nilu1\\Anaconda3\\lib\\site-packages\\sklearn\\metrics\\classification.py:1437: UndefinedMetricWarning: Precision and F-score are ill-defined and being set to 0.0 in labels with no predicted samples.\n",
      "  'precision', 'predicted', average, warn_for)\n"
     ]
    },
    {
     "name": "stdout",
     "output_type": "stream",
     "text": [
      "mlp_1500_Acc_wGyro_400_window_4b0c17&4b0c18_1200.sav\n",
      "Acc_wGyro_400_window_4b0c19_1200.csv\n",
      "f1score :  0.5243445692883895\n",
      "accuracy score :  0.5243445692883895\n",
      "0.7715355805243446\n",
      "At position 1 or 2 :  0.7191011235955056\n",
      "              precision    recall  f1-score   support\n",
      "\n",
      "           0       0.67      0.08      0.14        26\n",
      "           1       0.74      0.85      0.79        27\n",
      "           2       0.58      0.56      0.57        27\n",
      "           3       0.46      0.81      0.59        27\n",
      "           4       0.55      0.67      0.60        27\n",
      "           5       0.38      0.48      0.43        27\n",
      "           6       0.37      0.38      0.38        26\n",
      "           7       0.76      0.48      0.59        27\n",
      "           8       0.50      0.37      0.43        27\n",
      "           9       0.50      0.54      0.52        26\n",
      "\n",
      "    accuracy                           0.52       267\n",
      "   macro avg       0.55      0.52      0.50       267\n",
      "weighted avg       0.55      0.52      0.50       267\n",
      "\n"
     ]
    }
   ],
   "source": [
    "# path=\"C:\\\\Users\\\\nilu1\\\\Desktop\\\\Code\\\\AndroidPattern\\\\Data\\\\Spike\\\\Testing\\\\\"\n",
    "path=\"C:\\\\Users\\\\nilu1\\\\Desktop\\\\Code\\\\AndroidPattern\\\\Data\\\\Testing\\\\\"\n",
    "# path=\"C:\\\\Users\\\\nilu1\\\\Desktop\\\\Code\\\\AndroidPattern\\\\Data\\\\Using\\\\\"\n",
    "pathex = [f for f in listdir(path) if isfile(join(path, f))]\n",
    "pathex.sort()\n",
    "# file=pathex[0]\n",
    "for filem in pathmex:\n",
    "    for file in pathex:\n",
    "        ni=file.rfind(\"_\")+1\n",
    "        n=int(file[ni:].split(\".\")[0])\n",
    "        nim=filem.rfind(\"_\")+1\n",
    "        nm=int(filem[nim:].split(\".\")[0])\n",
    "        if(n!=nm):\n",
    "            continue\n",
    "        df=pd.read_csv(path+file)\n",
    "        x_test = df.iloc[:, 0:n].values\n",
    "        y_test = df.iloc[:, n].values\n",
    "        # X_train, X_test, y_train, y_test = train_test_split(x, y, test_size=1, random_state=0)\n",
    "        logmodel=pickle.load(open(pathm+filem, 'rb'))\n",
    "#         X_train, x_test, y_train, y_test = train_test_split(x_test, y_test, test_size=0.3, random_state=0)\n",
    "#         logmodel.fit(X_train, y_train)\n",
    "#         result = logmodel.score(X_test, Y_test)\n",
    "#         print(result)\n",
    "#         print(x_test)\n",
    "        y_pred = logmodel.predict(x_test)\n",
    "        df = pd.DataFrame({'Actual': y_test, 'Predicted': y_pred})\n",
    "\n",
    "        # print(y_pred,y)\n",
    "\n",
    "        p = logmodel.predict_proba(x_test)\n",
    "        nn = 3\n",
    "        top_n = np.argsort(p)[:,:-nn-1:-1]\n",
    "        count=0\n",
    "        count12=0\n",
    "        for i in range(len(y_pred)):\n",
    "            if(y_test[i] in top_n[i]):\n",
    "                count+=1\n",
    "            if(y_test[i] in top_n[i][:2]):\n",
    "                count12+=1\n",
    "    #         print(y_test[i],top_n[i])\n",
    "        l=len(y_pred)\n",
    "        print(filem)\n",
    "        print(file)\n",
    "        print(\"f1score : \",f1_score(y_test, y_pred, average=\"micro\"))\n",
    "        print(\"accuracy score : \", accuracy_score(y_test,y_pred))\n",
    "        print(count/l)\n",
    "        print(\"At position 1 or 2 : \",count12/l)\n",
    "        print(classification_report(y_test, y_pred))"
   ]
  },
  {
   "cell_type": "code",
   "execution_count": 4,
   "metadata": {},
   "outputs": [],
   "source": [
    "# with pd.option_context(\"display.max_rows\",None,\"display.max_columns\",None):\n",
    "#     print(df)"
   ]
  }
 ],
 "metadata": {
  "kernelspec": {
   "display_name": "Python 3",
   "language": "python",
   "name": "python3"
  },
  "language_info": {
   "codemirror_mode": {
    "name": "ipython",
    "version": 3
   },
   "file_extension": ".py",
   "mimetype": "text/x-python",
   "name": "python",
   "nbconvert_exporter": "python",
   "pygments_lexer": "ipython3",
   "version": "3.7.4"
  }
 },
 "nbformat": 4,
 "nbformat_minor": 2
}
