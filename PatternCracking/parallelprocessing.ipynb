{
 "cells": [
  {
   "cell_type": "code",
   "execution_count": 1,
   "metadata": {},
   "outputs": [],
   "source": [
    "import os\n",
    "from os import listdir\n",
    "from os.path import isfile, join\n",
    "import pandas as pd\n",
    "import numpy as np\n",
    "import concurrent.futures"
   ]
  },
  {
   "cell_type": "code",
   "execution_count": 2,
   "metadata": {},
   "outputs": [
    {
     "name": "stdout",
     "output_type": "stream",
     "text": [
      "4613\n",
      "160\n"
     ]
    }
   ],
   "source": [
    "path=\"C:\\\\Users\\\\nilu1\\\\Desktop\\\\Code\\\\AndroidPattern\\\\Data\\\\Acc_w\\\\\"\n",
    "pathex=[]\n",
    "temp = [f for f in listdir(path) if isfile(join(path, f))]\n",
    "# temp.sort()\n",
    "for i in range(len(temp)):\n",
    "    st=temp[i]\n",
    "    if(os.path.getsize(path+st)<4096):\n",
    "        continue\n",
    "    if(temp[i][:6]==\"b56522\"):\n",
    "        pathex.append(temp[i])\n",
    "#     pathex.append(temp[i])\n",
    "# print(pathex)\n",
    "print(len(temp))\n",
    "print(len(pathex))"
   ]
  },
  {
   "cell_type": "code",
   "execution_count": 3,
   "metadata": {},
   "outputs": [],
   "source": [
    "# no.ofvalues_no.offiles_keycolno.\n",
    "propath=\"C:\\\\Users\\\\nilu1\\\\Desktop\\\\Code\\\\AndroidPattern\\\\Data\\\\Acc_w\\\\Processed\\\\\"\n",
    "def savefile():\n",
    "    df.to_csv (propath+\"4vuni_all_\"+9+\".csv\", index = False, header=True)"
   ]
  },
  {
   "cell_type": "code",
   "execution_count": 4,
   "metadata": {},
   "outputs": [],
   "source": [
    "# taking into account that error might occur while reading a file (putting try and except)\n",
    "# and remove initial values from the window\n",
    "# n -> number of lines in csv file\n",
    "# actual -> the actual key pressed\n",
    "# minkeyd -> index of nearest key down time\n",
    "# minkeyu -> index of nearest key up time\n",
    "# keydt -> key down time from file name\n",
    "# keyut -> key up time from file name\n",
    "df=pd.read_csv(path+pathex[0])\n",
    "def processing(pathext):\n",
    "    n=25\n",
    "    actual=1\n",
    "    df=pd.read_csv(path+pathext)\n",
    "    df.to_csv (\"C:\\\\Users\\\\nilu1\\\\Desktop\\\\Code\\\\AndroidPattern\\\\Data\\\\Processed\\\\\"+\"processingdata\\\\\"+pathext+str(n*3)+\".csv\", index = False, header=True)\n",
    "#     try:\n",
    "#         dff=pd.read_csv(path+pathext)\n",
    "#         mini=10000\n",
    "#         minkeyd=1000\n",
    "#         minkeyu=1000\n",
    "#         keydt=pathext.rfind(\"_\")+4\n",
    "#         keyut=pathext.rfind(\"&\")+1\n",
    "#         for j in dff.index:\n",
    "#             t=abs(dff['Time'][j] - int(pathext[keydt:keyut-1]))\n",
    "#             if(t < mini):\n",
    "#                 mini=t\n",
    "#                 minkeyd=j\n",
    "#         mini=10000\n",
    "#         for j in dff.index:\n",
    "#             t=abs(dff['Time'][j] - int(pathext[keyut:-4]))\n",
    "#             if(t < mini):\n",
    "#                 mini=t\n",
    "#                 minkeyu=j\n",
    "#     #     print(minkeyd)\n",
    "#     #     print(minkeyu)\n",
    "#         window=minkeyu-minkeyd\n",
    "#         left=n-window    \n",
    "#         dff=dff.head(minkeyu + round(left/2))\n",
    "#         dff=dff.tail(n)\n",
    "#         dff.reset_index(inplace=True)\n",
    "#         dff=dff.drop(columns=\"index\")\n",
    "#         dff=dff.drop(columns=\"Time\")\n",
    "#         for j in dff.index:\n",
    "#             dff['X'][j]=dff['X'][0]\n",
    "#             dff['Y'][j]=dff['Z'][0]\n",
    "#             dff['Z'][j]=dff['Z'][0]\n",
    "#         df1=dff.stack().swaplevel()\n",
    "#         df1.index=df1.index.map('{0[0]}_{0[1]}'.format) \n",
    "#         dff=df1.to_frame().T\n",
    "#         ind=pathext.rfind(\"_\")+3\n",
    "#     #     print(pathext)\n",
    "#         dff.insert(n*3, \"key\", int(pathext[ind]))\n",
    "#         df=df.append(dff,ignore_index = True)\n",
    "#         df.to_csv (\"C:\\\\Users\\\\nilu1\\\\Desktop\\\\Code\\\\AndroidPattern\\\\Data\\\\Acc_w\\\\Processed\\\\\"+\"processingdata\\\\\"+pathext+str(n*3)+\".csv\", index = False, header=True)\n",
    "#     except:\n",
    "#         print(pathext)\n",
    "    \n",
    "# df"
   ]
  },
  {
   "cell_type": "code",
   "execution_count": 5,
   "metadata": {},
   "outputs": [],
   "source": [
    "with concurrent.futures.ProcessPoolExecutor() as executor:\n",
    "#     f=executor.map(processing, pathex)\n",
    "#     print(f)\n",
    "    executor.map(processing,pathex)"
   ]
  }
 ],
 "metadata": {
  "kernelspec": {
   "display_name": "Python 3",
   "language": "python",
   "name": "python3"
  },
  "language_info": {
   "codemirror_mode": {
    "name": "ipython",
    "version": 3
   },
   "file_extension": ".py",
   "mimetype": "text/x-python",
   "name": "python",
   "nbconvert_exporter": "python",
   "pygments_lexer": "ipython3",
   "version": "3.7.4"
  }
 },
 "nbformat": 4,
 "nbformat_minor": 2
}
