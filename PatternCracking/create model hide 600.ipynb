{
 "cells": [
  {
   "cell_type": "code",
   "execution_count": 1,
   "metadata": {},
   "outputs": [],
   "source": [
    "import pandas as pd\n",
    "import numpy as np\n",
    "import os\n",
    "from math import ceil\n",
    "from sklearn.model_selection import train_test_split\n",
    "from sklearn.neural_network import MLPClassifier\n",
    "from sklearn import metrics\n",
    "from os import listdir\n",
    "from os.path import isfile, join\n",
    "from sklearn.metrics import confusion_matrix,accuracy_score\n",
    "from sklearn.metrics import f1_score\n",
    "import pickle"
   ]
  },
  {
   "cell_type": "code",
   "execution_count": 2,
   "metadata": {},
   "outputs": [],
   "source": [
    "# path=\"C:\\\\Users\\\\nilu1\\\\Desktop\\\\Code\\\\AndroidPattern\\\\Data\\\\Spike\\\\Using\\\\\"\n",
    "path=\"C:\\\\Users\\\\nilu1\\\\Desktop\\\\Code\\\\AndroidPattern\\\\Data\\\\Using\\\\\"\n",
    "pathex = [f for f in listdir(path) if isfile(join(path, f))]\n",
    "score=[]\n",
    "score12=[]\n",
    "# modelpath=\"C:\\\\Users\\\\nilu1\\\\Desktop\\\\Code\\\\AndroidPattern\\\\Data\\\\Spike\\\\Models\\\\\"\n",
    "modelpath=\"C:\\\\Users\\\\nilu1\\\\Desktop\\\\Code\\\\AndroidPattern\\\\Phone\\\\Using model\\\\\""
   ]
  },
  {
   "cell_type": "code",
   "execution_count": 3,
   "metadata": {},
   "outputs": [
    {
     "name": "stdout",
     "output_type": "stream",
     "text": [
      "2355\n",
      "5\n",
      "3180600 900000\n",
      "3180600 1800000\n",
      "3180600 2700000\n",
      "3180600 3180600\n",
      "3180600 3180600\n"
     ]
    }
   ],
   "source": [
    "for file in pathex:\n",
    "    iters=500\n",
    "    ni=file.rfind(\"_\")+1\n",
    "    n=int(file[ni:].split(\".\")[0])\n",
    "    dfuni=pd.read_csv(path+file)\n",
    "    last=ceil(dfuni.index[-1]/iters)\n",
    "    print(dfuni.index[-1])\n",
    "    print(last)\n",
    "\n",
    "    X = dfuni.iloc[:, 0:n].values\n",
    "    y = dfuni.iloc[:, n].values\n",
    "    X_train, X_test, y_train, y_test = train_test_split(X, y)\n",
    "\n",
    "    logmodel=MLPClassifier(solver=\"lbfgs\",max_iter=1000,warm_start=True,activation=\"identity\",hidden_layer_sizes=(600,10))\n",
    "#     logmodell=MLPClassifier(solver=\"lbfgs\",max_iter=500,warm_start=True,activation=\"logistic\",hidden_layer_sizes=(600,10))\n",
    "\n",
    "    for i in range(last):\n",
    "\n",
    "        if(i!=last-1):\n",
    "            X = X_train[:iters*(i+1)]\n",
    "            y = y_train[:iters*(i+1)]\n",
    "        else:\n",
    "            X=X_train\n",
    "            y=y_train\n",
    "\n",
    "        print(X_train.size,X.size)\n",
    "        \n",
    "        logmodel.fit(X, y)\n",
    "#         logmodell.fit(X, y)\n",
    "        \n",
    "    filename = \"mlp500_idenhide_\"+file[:-4]+\".sav\"\n",
    "    pickle.dump(logmodel, open(modelpath+filename, 'wb'))\n",
    "    \n",
    "#     filename = \"mlp500_loghide_\"+file[:-4]+\".sav\"\n",
    "#     pickle.dump(logmodell, open(modelpath+filename, 'wb'))"
   ]
  }
 ],
 "metadata": {
  "kernelspec": {
   "display_name": "Python 3",
   "language": "python",
   "name": "python3"
  },
  "language_info": {
   "codemirror_mode": {
    "name": "ipython",
    "version": 3
   },
   "file_extension": ".py",
   "mimetype": "text/x-python",
   "name": "python",
   "nbconvert_exporter": "python",
   "pygments_lexer": "ipython3",
   "version": "3.7.4"
  }
 },
 "nbformat": 4,
 "nbformat_minor": 2
}
