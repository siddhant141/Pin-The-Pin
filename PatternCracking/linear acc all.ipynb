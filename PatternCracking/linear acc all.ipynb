{
 "cells": [
  {
   "cell_type": "code",
   "execution_count": 1,
   "metadata": {},
   "outputs": [],
   "source": [
    "import pandas as pd\n",
    "import numpy as np\n",
    "import matplotlib.pyplot as plt\n",
    "%matplotlib inline\n",
    "from sklearn.model_selection import train_test_split\n",
    "from sklearn.linear_model import LinearRegression\n",
    "from sklearn import metrics\n",
    "from os import listdir\n",
    "from os.path import isfile, join\n",
    "from sklearn.metrics import f1_score\n",
    "from sklearn.preprocessing import Normalizer"
   ]
  },
  {
   "cell_type": "code",
   "execution_count": 2,
   "metadata": {},
   "outputs": [],
   "source": [
    "path=\"C:\\\\Users\\\\nilu1\\\\PatternCracking\\\\acc\\\\\"\n",
    "pathex=[]\n",
    "temp = [f for f in listdir(path) if isfile(join(path, f))]\n",
    "temp.sort()\n",
    "for i in range(len(temp)):\n",
    "    st=temp[i]\n",
    "    if(st[:2]==\"18\"):\n",
    "        pathex.append(temp[i])\n",
    "# print(pathex)"
   ]
  },
  {
   "cell_type": "code",
   "execution_count": 3,
   "metadata": {},
   "outputs": [],
   "source": [
    "# n -> number of lines in csv file\n",
    "# actual -> the actual key pressed\n",
    "n=25\n",
    "actual=1\n",
    "df=pd.read_csv(path+pathex[0])\n",
    "for i in range(len(pathex)):\n",
    "    dff=pd.read_csv(path+pathex[i])\n",
    "    mini=10000\n",
    "    minkeyd=1000\n",
    "    minkeyu=1000\n",
    "    keydi=pathex[i].rfind(\"_\")+4\n",
    "    keyui=pathex[i].rfind(\"&\")+1\n",
    "    for j in dff.index:\n",
    "        t=abs(dff['Time'][j] - int(pathex[i][keydi:keyui-1]))\n",
    "        if(t < mini):\n",
    "            mini=t\n",
    "            minkeyd=j\n",
    "    mini=10000\n",
    "    for j in dff.index:\n",
    "        t=abs(dff['Time'][j] - int(pathex[i][keyui:-4]))\n",
    "        if(t < mini):\n",
    "            mini=t\n",
    "            minkeyu=j\n",
    "#     print(minkeyd)\n",
    "#     print(minkeyu)\n",
    "    window=minkeyu-minkeyd\n",
    "    left=n-window    \n",
    "    dff=dff.head(minkeyu + round(left/2))\n",
    "    dff=dff.tail(n)\n",
    "    dff.reset_index(inplace=True)\n",
    "    dff=dff.drop(columns=\"index\")\n",
    "    dff=dff.drop(columns=\"Time\")\n",
    "    df1=dff.stack().swaplevel()\n",
    "    df1.index=df1.index.map('{0[0]}_{0[1]}'.format) \n",
    "    dff=df1.to_frame().T\n",
    "    ind=pathex[i].rfind(\"_\")+3\n",
    "#     print(pathex[i])\n",
    "    dff.insert(n*3, \"key\", int(pathex[i][ind]))\n",
    "    if(i==0):\n",
    "        df=dff\n",
    "    else:\n",
    "        df=df.append(dff,ignore_index = True)\n",
    "# df"
   ]
  },
  {
   "cell_type": "code",
   "execution_count": 4,
   "metadata": {},
   "outputs": [],
   "source": [
    "X = df.iloc[:, 0:n*3].values\n",
    "y = df.iloc[:, n*3].values"
   ]
  },
  {
   "cell_type": "code",
   "execution_count": 5,
   "metadata": {},
   "outputs": [],
   "source": [
    "#divide train and test data\n",
    "X_train, X_test, y_train, y_test = train_test_split(X, y, test_size=0.1, random_state=0)"
   ]
  },
  {
   "cell_type": "code",
   "execution_count": 6,
   "metadata": {},
   "outputs": [],
   "source": [
    "# sc = Normalizer()\n",
    "# X_train = sc.fit_transform(X_train)\n",
    "# X_test = sc.transform(X_test)"
   ]
  },
  {
   "cell_type": "code",
   "execution_count": 7,
   "metadata": {
    "scrolled": true
   },
   "outputs": [
    {
     "data": {
      "text/html": [
       "<div>\n",
       "<style scoped>\n",
       "    .dataframe tbody tr th:only-of-type {\n",
       "        vertical-align: middle;\n",
       "    }\n",
       "\n",
       "    .dataframe tbody tr th {\n",
       "        vertical-align: top;\n",
       "    }\n",
       "\n",
       "    .dataframe thead th {\n",
       "        text-align: right;\n",
       "    }\n",
       "</style>\n",
       "<table border=\"1\" class=\"dataframe\">\n",
       "  <thead>\n",
       "    <tr style=\"text-align: right;\">\n",
       "      <th></th>\n",
       "      <th>Actual</th>\n",
       "      <th>Predicted</th>\n",
       "    </tr>\n",
       "  </thead>\n",
       "  <tbody>\n",
       "    <tr>\n",
       "      <td>0</td>\n",
       "      <td>9</td>\n",
       "      <td>3.0</td>\n",
       "    </tr>\n",
       "    <tr>\n",
       "      <td>1</td>\n",
       "      <td>6</td>\n",
       "      <td>6.0</td>\n",
       "    </tr>\n",
       "    <tr>\n",
       "      <td>2</td>\n",
       "      <td>7</td>\n",
       "      <td>6.0</td>\n",
       "    </tr>\n",
       "    <tr>\n",
       "      <td>3</td>\n",
       "      <td>6</td>\n",
       "      <td>6.0</td>\n",
       "    </tr>\n",
       "    <tr>\n",
       "      <td>4</td>\n",
       "      <td>1</td>\n",
       "      <td>5.0</td>\n",
       "    </tr>\n",
       "    <tr>\n",
       "      <td>5</td>\n",
       "      <td>2</td>\n",
       "      <td>-2.0</td>\n",
       "    </tr>\n",
       "  </tbody>\n",
       "</table>\n",
       "</div>"
      ],
      "text/plain": [
       "   Actual  Predicted\n",
       "0       9        3.0\n",
       "1       6        6.0\n",
       "2       7        6.0\n",
       "3       6        6.0\n",
       "4       1        5.0\n",
       "5       2       -2.0"
      ]
     },
     "execution_count": 7,
     "metadata": {},
     "output_type": "execute_result"
    }
   ],
   "source": [
    "regressor = LinearRegression()\n",
    "regressor.fit(X_train, y_train)\n",
    "y_pred = regressor.predict(X_test)\n",
    "y_pred=y_pred.round()\n",
    "df = pd.DataFrame({'Actual': y_test, 'Predicted': y_pred})\n",
    "df"
   ]
  },
  {
   "cell_type": "code",
   "execution_count": 8,
   "metadata": {},
   "outputs": [
    {
     "name": "stdout",
     "output_type": "stream",
     "text": [
      "Mean Absolute Error: 2.5\n",
      "Mean Squared Error: 11.5\n",
      "Root Mean Squared Error: 3.391164991562634\n"
     ]
    },
    {
     "data": {
      "text/plain": [
       "0.3333333333333333"
      ]
     },
     "execution_count": 8,
     "metadata": {},
     "output_type": "execute_result"
    }
   ],
   "source": [
    "print('Mean Absolute Error:', metrics.mean_absolute_error(y_test, y_pred))\n",
    "print('Mean Squared Error:', metrics.mean_squared_error(y_test, y_pred))\n",
    "print('Root Mean Squared Error:', np.sqrt(metrics.mean_squared_error(y_test, y_pred)))\n",
    "f1_score(y_test, y_pred, average=\"micro\")"
   ]
  }
 ],
 "metadata": {
  "kernelspec": {
   "display_name": "Python 3",
   "language": "python",
   "name": "python3"
  },
  "language_info": {
   "codemirror_mode": {
    "name": "ipython",
    "version": 3
   },
   "file_extension": ".py",
   "mimetype": "text/x-python",
   "name": "python",
   "nbconvert_exporter": "python",
   "pygments_lexer": "ipython3",
   "version": "3.7.4"
  }
 },
 "nbformat": 4,
 "nbformat_minor": 2
}
