{
 "cells": [
  {
   "cell_type": "code",
   "execution_count": 6,
   "metadata": {},
   "outputs": [],
   "source": [
    "import pandas as pd\n",
    "import numpy as np\n",
    "import matplotlib.pyplot as plt\n",
    "%matplotlib inline"
   ]
  },
  {
   "cell_type": "code",
   "execution_count": 7,
   "metadata": {},
   "outputs": [],
   "source": [
    "path='C:\\\\Users\\\\nilu1\\\\PatternCracking\\\\gyro\\\\11-Dec-2019_120141_PM.csv'\n",
    "f=open(path)\n",
    "para=f.readlines()\n",
    "line=\"\"\n",
    "data=[]\n",
    "for i in range(len(para)):\n",
    "    line=para[i]\n",
    "    line=line.split(\",\")\n",
    "    for i in range(len(line)):\n",
    "        line[i]=line[i].rstrip('\\n')\n",
    "        line[i]=line[i].strip('\"')\n",
    "        line[i]=float(line[i])\n",
    "    line.pop(0)\n",
    "    data.append(line)\n",
    "X=np.array(data)"
   ]
  },
  {
   "cell_type": "code",
   "execution_count": 17,
   "metadata": {},
   "outputs": [
    {
     "name": "stdout",
     "output_type": "stream",
     "text": [
      "     120141  0.78178406  5.0027313  8.532547\n",
      "0    120141    0.768616   4.954849  8.497833\n",
      "1    120141    0.803329   5.000336  8.378128\n",
      "2    120141    0.781784   5.045822  8.337433\n",
      "3    120141    0.834457   4.929703  8.399673\n",
      "4    120141    0.717148   4.930908  8.242859\n",
      "..      ...         ...        ...       ...\n",
      "248  120145    0.381958   3.938507  9.214905\n",
      "249  120145    0.293365   4.113281  9.514175\n",
      "250  120145    0.433426   4.495163  9.636276\n",
      "251  120145    0.851227   4.849503  9.468689\n",
      "252  120145    1.103805   4.734573  8.880905\n",
      "\n",
      "[253 rows x 4 columns]\n",
      "     120141  0.78178406  5.0027313  8.532547\n",
      "0    120141    0.768616   4.954849  8.497833\n",
      "1    120141    0.803329   5.000336  8.378128\n",
      "2    120141    0.781784   5.045822  8.337433\n",
      "3    120141    0.834457   4.929703  8.399673\n",
      "4    120141    0.717148   4.930908  8.242859\n",
      "..      ...         ...        ...       ...\n",
      "463  120200    0.608215   4.720215  8.495438\n",
      "464  120200    0.602219   4.677124  8.712112\n",
      "465  120200    0.657288   4.711838  8.834229\n",
      "466  120200    0.854813   4.681900  8.744446\n",
      "467  120200    0.493286   4.762116  8.422424\n",
      "\n",
      "[468 rows x 4 columns]\n",
      "     120141  0.78178406  5.0027313  8.532547\n",
      "0    120141    0.768616   4.954849  8.497833\n",
      "1    120141    0.803329   5.000336  8.378128\n",
      "2    120141    0.781784   5.045822  8.337433\n",
      "3    120141    0.834457   4.929703  8.399673\n",
      "4    120141    0.717148   4.930908  8.242859\n",
      "..      ...         ...        ...       ...\n",
      "613  120209    0.312531   4.376648  9.724869\n",
      "614  120209    0.484909   4.897385  9.285522\n",
      "615  120209    0.311325   4.932098  9.000626\n",
      "616  120209    0.044373   4.651978  8.356583\n",
      "617  120209    0.070709   4.640015  8.347000\n",
      "\n",
      "[618 rows x 4 columns]\n"
     ]
    }
   ],
   "source": [
    "p1=\"C:\\\\Users\\\\nilu1\\\\PatternCracking\\\\gyro\\\\11-Dec-2019_120141_PM.csv\"\n",
    "p2=\"C:\\\\Users\\\\nilu1\\\\PatternCracking\\\\gyro\\\\11-Dec-2019_120157_PM.csv\"\n",
    "p3=\"C:\\\\Users\\\\nilu1\\\\PatternCracking\\\\gyro\\\\11-Dec-2019_120207_PM.csv\"\n",
    "d1 = pd.read_csv(p1)\n",
    "d2 = pd.read_csv(p2)\n",
    "d3 = pd.read_csv(p3)\n",
    "print(d1)\n",
    "print(d2)\n",
    "print(d3)"
   ]
  }
 ],
 "metadata": {
  "kernelspec": {
   "display_name": "Python 3",
   "language": "python",
   "name": "python3"
  },
  "language_info": {
   "codemirror_mode": {
    "name": "ipython",
    "version": 3
   },
   "file_extension": ".py",
   "mimetype": "text/x-python",
   "name": "python",
   "nbconvert_exporter": "python",
   "pygments_lexer": "ipython3",
   "version": "3.7.4"
  }
 },
 "nbformat": 4,
 "nbformat_minor": 2
}
