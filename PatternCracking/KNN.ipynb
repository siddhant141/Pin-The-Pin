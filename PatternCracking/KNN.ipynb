{
 "cells": [
  {
   "cell_type": "code",
   "execution_count": 1,
   "metadata": {},
   "outputs": [],
   "source": [
    "import pandas as pd\n",
    "import numpy as np\n",
    "import os\n",
    "from sklearn.model_selection import train_test_split\n",
    "from sklearn.preprocessing import StandardScaler\n",
    "from sklearn.preprocessing import Normalizer\n",
    "from sklearn.neighbors import KNeighborsClassifier\n",
    "from sklearn import metrics\n",
    "from os import listdir\n",
    "from os.path import isfile, join\n",
    "from sklearn.metrics import confusion_matrix\n",
    "from sklearn.metrics import f1_score"
   ]
  },
  {
   "cell_type": "code",
   "execution_count": 2,
   "metadata": {},
   "outputs": [],
   "source": [
    "path=\"C:\\\\Users\\\\nilu1\\\\Desktop\\\\Code\\\\AndroidPattern\\\\Data\\\\Processed\\\\\"\n",
    "pathex = [f for f in listdir(path) if isfile(join(path, f))]\n",
    "score=[]\n",
    "# for i in range(len(pathex)):\n",
    "#     print(pathex[i])"
   ]
  },
  {
   "cell_type": "code",
   "execution_count": 3,
   "metadata": {},
   "outputs": [
    {
     "name": "stdout",
     "output_type": "stream",
     "text": [
      "Gyro_30_4v_66b325&b56522_9.csv : 0.4336283185840708\n",
      "Gyro_25_4v_66b325&b56522_9.csv : 0.40707964601769914\n",
      "Acc_w_30_4v_66b325_9.csv : 0.3950617283950617\n",
      "Gyro_25_4vuni_66b325&b56522_9.csv : 0.3805309734513274\n",
      "Gyro_25_4v_66b325&b56522&a99827_9.csv : 0.37254901960784315\n",
      "Gyro_30_window_66b325&b56522_90.csv : 0.3716814159292036\n",
      "Gyro_25_4vuni_66b325&b56522&a99827_9.csv : 0.3660130718954248\n",
      "Gyro_30_window_66b325&b56522&a99827_90.csv : 0.3594771241830065\n",
      "Gyro_30_4v_66b325&b56522&a99827_9.csv : 0.3594771241830065\n",
      "Gyro_25_window_66b325&b56522&a99827_75.csv : 0.3464052287581699\n",
      "Gyro_25_window_66b325&b56522_75.csv : 0.336283185840708\n",
      "Acc_w_25_4v_66b325&b56522&a99827_9.csv : 0.3333333333333333\n",
      "Gyro_30_window_a99828_90.csv : 0.325\n",
      "Acc_w_30_4vuni_66b325_9.csv : 0.32098765432098764\n",
      "Acc_w_25_window_66b325_75.csv : 0.32098765432098764\n",
      "Gyro_30_4vuni_66b325&b56522_9.csv : 0.3185840707964602\n",
      "Gyro_30_4vuni_66b325&b56522&a99827_9.csv : 0.3137254901960784\n",
      "Acc_w_30_4v_66b325&b56522&a99827_9.csv : 0.3137254901960784\n",
      "Grav_30_4vuni_66b325&b56522_9.csv : 0.30973451327433627\n",
      "Acc_w_30_window_66b325_90.csv : 0.30864197530864196\n",
      "Acc_w_25_window_66b325&b56522&a99827_75.csv : 0.30718954248366015\n",
      "Acc_w_25_window_66b325&b56522_75.csv : 0.3008849557522124\n",
      "Acc_w_25_4vuni_66b325&b56522_9.csv : 0.3008849557522124\n",
      "Acc_w_30_window_66b325&b56522&a99827_90.csv : 0.3006535947712418\n",
      "Acc_w_30_4vuni_66b325&b56522&a99827_9.csv : 0.3006535947712418\n",
      "Gyro_25_window_a99828_75.csv : 0.3\n",
      "Acc_w_30_window_66b325&b56522_90.csv : 0.2920353982300885\n",
      "Acc_w_30_4v_66b325&b56522_9.csv : 0.2920353982300885\n",
      "Acc_w_25_4v_66b325_9.csv : 0.2839506172839506\n",
      "Acc_w_30_4vuni_66b325&b56522_9.csv : 0.2831858407079646\n",
      "Acc_w_25_4vuni_66b325_9.csv : 0.2716049382716049\n",
      "Grav_30_4v_66b325&b56522_9.csv : 0.26548672566371684\n",
      "Grav_25_4vuni_66b325&b56522_9.csv : 0.26548672566371684\n",
      "Acc_w_25_4vuni_66b325&b56522&a99827_9.csv : 0.24836601307189543\n",
      "Acc_w_25_4v_66b325&b56522_9.csv : 0.24778761061946902\n",
      "Grav_25_4v_66b325&b56522_9.csv : 0.23893805309734514\n",
      "Acc_w_25_windowdelinit_66b325_75.csv : 0.2345679012345679\n",
      "Acc_w_30_windowdelinit_66b325_90.csv : 0.2222222222222222\n",
      "Grav_30_window_66b325&b56522_90.csv : 0.21238938053097345\n",
      "Grav_25_window_66b325&b56522_75.csv : 0.21238938053097345\n",
      "Acc_w_30_window_a99828_90.csv : 0.20000000000000004\n",
      "Acc_w_25_window_a99828_75.csv : 0.20000000000000004\n",
      "Acc_w_25_4v_all_9.csv : 0.1840087623220153\n",
      "Acc_w_30_window_all_90.csv : 0.17923497267759567\n",
      "Gyro_25_4vuni_a99828_9.csv : 0.175\n",
      "Acc_w_30_4vuni_a99828_9.csv : 0.175\n",
      "Acc_w_30_4v_a99828_9.csv : 0.175\n",
      "Acc_w_30_4v_all_9.csv : 0.16538882803943045\n",
      "Acc_w_25_window_all_75.csv : 0.15300546448087432\n",
      "Acc_w_30_4vuni_all_9.csv : 0.15207877461706784\n",
      "Gyro_30_4v_a99828_9.csv : 0.15\n",
      "Acc_w_25_4v_a99828_9.csv : 0.15\n",
      "Acc_w_25_4vuni_all_9.csv : 0.1487964989059081\n",
      "Gyro_30_4vuni_a99828_9.csv : 0.125\n",
      "Gyro_25_4v_a99828_9.csv : 0.125\n",
      "Acc_w_25_4vuni_a99828_9.csv : 0.125\n",
      "Acc_w_30_windowdelinit_all_90.csv : 0.12131147540983607\n",
      "Acc_w_25_windowdelinit_all_75.csv : 0.1180327868852459\n"
     ]
    }
   ],
   "source": [
    "for file in pathex:\n",
    "    ni=file.rfind(\"_\")+1\n",
    "    n=int(file[ni:].split(\".\")[0])\n",
    "    df=pd.read_csv(path+file)\n",
    "    X = df.iloc[:, 0:n].values\n",
    "    y = df.iloc[:, n].values\n",
    "    X_train, X_test, y_train, y_test = train_test_split(X, y, test_size=0.2, random_state=1)\n",
    "    sc = StandardScaler()\n",
    "    X_train = sc.fit_transform(X_train)\n",
    "    X_test = sc.transform(X_test)\n",
    "#     sc = Normalizer()\n",
    "#     X_train = sc.fit_transform(X_train)\n",
    "#     X_test = sc.transform(X_test)\n",
    "    #Create KNN Classifier\n",
    "    knn = KNeighborsClassifier(n_neighbors=7)\n",
    "    knn.fit(X_train, y_train)\n",
    "    y_pred = knn.predict(X_test)\n",
    "    df = pd.DataFrame({'Actual': y_test, 'Predicted': y_pred})\n",
    "#     print(df)\n",
    "    score.append([f1_score(y_test, y_pred, average=\"micro\"),file])\n",
    "score.sort(reverse=True)\n",
    "for i in range(len(score)):\n",
    "    print(score[i][1]+\" : \"+str(score[i][0]))\n",
    "#     df"
   ]
  }
 ],
 "metadata": {
  "kernelspec": {
   "display_name": "Python 3",
   "language": "python",
   "name": "python3"
  },
  "language_info": {
   "codemirror_mode": {
    "name": "ipython",
    "version": 3
   },
   "file_extension": ".py",
   "mimetype": "text/x-python",
   "name": "python",
   "nbconvert_exporter": "python",
   "pygments_lexer": "ipython3",
   "version": "3.7.4"
  }
 },
 "nbformat": 4,
 "nbformat_minor": 2
}
