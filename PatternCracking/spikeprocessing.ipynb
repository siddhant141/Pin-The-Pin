{
 "cells": [
  {
   "cell_type": "code",
   "execution_count": 1,
   "metadata": {},
   "outputs": [],
   "source": [
    "import os\n",
    "from os import listdir\n",
    "from os.path import isfile, join\n",
    "import pandas as pd\n",
    "import numpy as np\n",
    "import concurrent.futures"
   ]
  },
  {
   "cell_type": "code",
   "execution_count": 2,
   "metadata": {},
   "outputs": [
    {
     "name": "stdout",
     "output_type": "stream",
     "text": [
      "2924\n",
      "273\n"
     ]
    }
   ],
   "source": [
    "folder=\"Acc_w\"\n",
    "path=\"C:\\\\Users\\\\nilu1\\\\Desktop\\\\Code\\\\AndroidPattern\\\\Data\\\\Spike\\\\\"+folder+\"\\\\\"\n",
    "pathex=[]\n",
    "temp = [f for f in listdir(path) if isfile(join(path, f))]\n",
    "# temp.sort()\n",
    "files=[\"4b0c19\"]\n",
    "# files=[\"4b0c09\"]\n",
    "# files=[\"a29c08\",\"66b325\",\"b56522\"]\n",
    "# files=[\"a29c12\",\"a29c08\",\"66b325\",\"b56522\"]\n",
    "# files=[\"66b325\",\"b56522\"]\n",
    "for i in range(len(temp)):\n",
    "    st=temp[i]\n",
    "    if(os.path.getsize(path+st)<4096):\n",
    "        continue\n",
    "    if(temp[i][:6] in files):\n",
    "        pathex.append(temp[i])\n",
    "#     if(files[0]==\"all\"):\n",
    "#         pathex.append(temp[i])\n",
    "# print(pathex)\n",
    "print(len(temp))\n",
    "print(len(pathex))"
   ]
  },
  {
   "cell_type": "code",
   "execution_count": 3,
   "metadata": {},
   "outputs": [],
   "source": [
    "# folder_n_no.ofvalues_no.offiles_keycolno.\n",
    "propath=\"C:\\\\Users\\\\nilu1\\\\Desktop\\\\Code\\\\AndroidPattern\\\\Data\\\\Spike\\\\Processed\\\\\"\n",
    "def savefile():\n",
    "    df.to_csv (propath+folder+\"_\"+str(n)+\"_\"+fcode+\"_\"+\"&\".join(files)+\"_\"+str(keypos)+\".csv\", index = False, header=True)"
   ]
  },
  {
   "cell_type": "code",
   "execution_count": 4,
   "metadata": {
    "scrolled": true
   },
   "outputs": [
    {
     "name": "stdout",
     "output_type": "stream",
     "text": [
      "error :  4b0c19-04-2020_03_49_05_PM3416.csv\n",
      "error :  4b0c19-04-2020_03_49_06_PM4366.csv\n",
      "error :  4b0c19-04-2020_03_49_08_PM6399.csv\n",
      "error :  4b0c19-04-2020_03_49_09_PM7295.csv\n",
      "error :  4b0c19-04-2020_03_49_12_PM0428.csv\n",
      "error :  4b0c19-04-2020_03_49_24_PM9319.csv\n",
      "error :  4b0c19-04-2020_03_49_59_PM6407.csv\n",
      "error :  4b0c19-04-2020_03_50_50_PM9381.csv\n",
      "error :  4b0c19-04-2020_03_50_54_PM6408.csv\n",
      "error :  4b0c19-04-2020_03_51_02_PM0211.csv\n",
      "error :  4b0c19-04-2020_03_51_21_PM0140.csv\n",
      "error :  4b0c19-04-2020_03_51_24_PM3343.csv\n",
      "error :  4b0c19-04-2020_03_51_25_PM4302.csv\n",
      "error :  4b0c19-04-2020_03_51_26_PM5214.csv\n",
      "error :  4b0c19-04-2020_03_51_27_PM6392.csv\n",
      "error :  4b0c19-04-2020_03_51_28_PM7266.csv\n",
      "error :  4b0c19-04-2020_03_51_29_PM8311.csv\n",
      "error :  4b0c19-04-2020_03_51_31_PM9172.csv\n",
      "error :  4b0c19-04-2020_03_51_36_PM6272.csv\n",
      "error :  4b0c19-04-2020_03_51_38_PM0141.csv\n",
      "error :  4b0c19-04-2020_03_51_43_PM9301.csv\n",
      "error :  4b0c19-04-2020_03_51_46_PM3317.csv\n",
      "error :  4b0c19-04-2020_03_52_21_PM7403.csv\n",
      "error :  4b0c19-04-2020_03_53_06_PM3374.csv\n",
      "error :  4b0c19-04-2020_03_53_20_PM1393.csv\n",
      "error :  4b0c19-04-2020_03_53_21_PM0256.csv\n",
      "error :  4b0c19-04-2020_03_53_33_PM1332.csv\n",
      "error :  4b0c19-04-2020_03_53_34_PM2396.csv\n",
      "error :  4b0c19-04-2020_03_53_37_PM4421.csv\n",
      "error :  4b0c19-04-2020_03_54_44_PM0347.csv\n",
      "error :  4b0c19-04-2020_03_54_48_PM9384.csv\n",
      "error :  4b0c19-04-2020_03_54_58_PM2413.csv\n",
      "error :  4b0c19-04-2020_03_55_05_PM8240.csv\n",
      "error :  4b0c19-04-2020_03_55_26_PM3167.csv\n",
      "error :  4b0c19-04-2020_03_55_29_PM0335.csv\n"
     ]
    }
   ],
   "source": [
    "#taking into account that error might occur while reading a file (putting try and except)\n",
    "# n -> number of lines in csv file\n",
    "# actual -> the actual key pressed\n",
    "# minkeyd -> index of nearest key down time\n",
    "# minkeyu -> index of nearest key up time\n",
    "# keydt -> key down time from file name\n",
    "# keyut -> key up time from file name\n",
    "fcode=\"window\"\n",
    "n=400\n",
    "keypos=1\n",
    "actual=1\n",
    "df=pd.read_csv(path+pathex[0])\n",
    "for i in range(len(pathex)):\n",
    "    try:\n",
    "        dff=pd.read_csv(path+pathex[i])\n",
    "        mini=10000\n",
    "        minkeyd=1000\n",
    "        keydt=pathex[i].rfind(\"_\")+4\n",
    "        for j in dff.index:\n",
    "            t=abs(dff['Time'][j] - int(pathex[i][keydt:-4]))\n",
    "            if(t < mini):\n",
    "                mini=t\n",
    "                minkeyd=j\n",
    "        minkeyu=minkeyd+50    \n",
    "        window=minkeyu-minkeyd\n",
    "        left=int(n/2)-window    \n",
    "        dff=dff.head(minkeyu + left)\n",
    "        dff=dff.tail(n)\n",
    "        dff.reset_index(inplace=True)\n",
    "        dff=dff.drop(columns=\"index\")\n",
    "        dff=dff.drop(columns=\"Time\")\n",
    "        df1=dff.stack().swaplevel()\n",
    "        df1.index=df1.index.map('{0[0]}_{0[1]}'.format) \n",
    "        dff=df1.to_frame().T\n",
    "        ind=pathex[i].rfind(\"_\")+3\n",
    "    #     print(pathex[i])\n",
    "        dff.insert(n*3, \"key\", int(pathex[i][ind]))\n",
    "        keypos=n*3\n",
    "        if(i==0):\n",
    "            df=dff\n",
    "        else:\n",
    "            df=df.append(dff,ignore_index = True)\n",
    "    except:\n",
    "        print(\"error : \",pathex[i])\n",
    "#         traceback.print_exec()\n",
    "        continue"
   ]
  },
  {
   "cell_type": "code",
   "execution_count": 5,
   "metadata": {},
   "outputs": [],
   "source": [
    "savefile()"
   ]
  }
 ],
 "metadata": {
  "kernelspec": {
   "display_name": "Python 3",
   "language": "python",
   "name": "python3"
  },
  "language_info": {
   "codemirror_mode": {
    "name": "ipython",
    "version": 3
   },
   "file_extension": ".py",
   "mimetype": "text/x-python",
   "name": "python",
   "nbconvert_exporter": "python",
   "pygments_lexer": "ipython3",
   "version": "3.7.4"
  }
 },
 "nbformat": 4,
 "nbformat_minor": 2
}
