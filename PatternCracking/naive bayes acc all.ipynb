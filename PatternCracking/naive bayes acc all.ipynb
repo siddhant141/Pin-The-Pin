{
 "cells": [
  {
   "cell_type": "code",
   "execution_count": 1,
   "metadata": {},
   "outputs": [],
   "source": [
    "import pandas as pd\n",
    "import numpy as np\n",
    "from sklearn.model_selection import train_test_split\n",
    "from sklearn.preprocessing import StandardScaler\n",
    "from sklearn.preprocessing import Normalizer\n",
    "from sklearn.ensemble import RandomForestRegressor\n",
    "from sklearn import metrics\n",
    "from os import listdir\n",
    "from os.path import isfile, join\n",
    "from sklearn import datasets \n",
    "from sklearn.metrics import confusion_matrix \n",
    "from sklearn.naive_bayes import GaussianNB\n",
    "from sklearn.metrics import f1_score"
   ]
  },
  {
   "cell_type": "code",
   "execution_count": 2,
   "metadata": {},
   "outputs": [],
   "source": [
    "path=\"C:\\\\Users\\\\nilu1\\\\Desktop\\\\Code\\\\AndroidPattern\\\\Data\\\\Using\\\\\"\n",
    "pathex = [f for f in listdir(path) if isfile(join(path, f))]\n",
    "score=[]\n",
    "# for i in range(len(pathex)):\n",
    "#     print(pathex[i])"
   ]
  },
  {
   "cell_type": "code",
   "execution_count": 3,
   "metadata": {},
   "outputs": [
    {
     "name": "stdout",
     "output_type": "stream",
     "text": [
      "Acc_w_30_4v_66b325_9.csv : 0.32098765432098764\n",
      "Acc_w_30_window_66b325_90.csv : 0.30864197530864196\n",
      "Acc_w_30_4vuni_66b325_9.csv : 0.2962962962962963\n",
      "Acc_w_25_4vuni_66b325_9.csv : 0.2962962962962963\n",
      "Acc_w_25_4v_66b325_9.csv : 0.2839506172839506\n",
      "Acc_w_25_window_66b325_75.csv : 0.2716049382716049\n",
      "Acc_w_30_window_66b325&b56522_90.csv : 0.26548672566371684\n",
      "Acc_w_30_4v_66b325&b56522_9.csv : 0.26548672566371684\n",
      "Acc_w_25_4v_66b325&b56522_9.csv : 0.26548672566371684\n",
      "Acc_w_30_4vuni_66b325&b56522_9.csv : 0.24778761061946902\n",
      "Acc_w_25_window_66b325&b56522_75.csv : 0.24778761061946902\n",
      "Acc_w_25_4vuni_66b325&b56522_9.csv : 0.24778761061946902\n",
      "Acc_w_30_windowdelinit_66b325_90.csv : 0.19753086419753085\n",
      "Acc_w_25_windowdelinit_66b325_75.csv : 0.13580246913580246\n"
     ]
    }
   ],
   "source": [
    "for file in pathex:\n",
    "    ni=file.rfind(\"_\")+1\n",
    "    n=int(file[ni:].split(\".\")[0])\n",
    "    df=pd.read_csv(path+file)\n",
    "    X = df.iloc[:, 0:n].values\n",
    "    y = df.iloc[:, n].values\n",
    "    X_train, X_test, y_train, y_test = train_test_split(X, y, test_size=0.2, random_state=2)\n",
    "    gnb = GaussianNB().fit(X_train, y_train) \n",
    "    y_pred = gnb.predict(X_test)\n",
    "    df = pd.DataFrame({'Actual': y_test, 'Predicted': y_pred})\n",
    "    score.append([f1_score(y_test, y_pred, average=\"micro\"),file])\n",
    "score.sort(reverse=True)\n",
    "for i in range(len(score)):\n",
    "    print(score[i][1]+\" : \"+str(score[i][0]))\n",
    "#     df"
   ]
  },
  {
   "cell_type": "code",
   "execution_count": 4,
   "metadata": {},
   "outputs": [],
   "source": [
    "# sc = StandardScaler()\n",
    "# X_train = sc.fit_transform(X_train)\n",
    "# X_test = sc.transform(X_test)\n",
    "# sc = Normalizer()\n",
    "# X_train = sc.fit_transform(X_train)\n",
    "# X_test = sc.transform(X_test)"
   ]
  },
  {
   "cell_type": "code",
   "execution_count": 5,
   "metadata": {},
   "outputs": [],
   "source": [
    "# non-uniform = 0.3636, 0.55(2 days)\n",
    "# uniform = 0.3636\n"
   ]
  }
 ],
 "metadata": {
  "kernelspec": {
   "display_name": "Python 3",
   "language": "python",
   "name": "python3"
  },
  "language_info": {
   "codemirror_mode": {
    "name": "ipython",
    "version": 3
   },
   "file_extension": ".py",
   "mimetype": "text/x-python",
   "name": "python",
   "nbconvert_exporter": "python",
   "pygments_lexer": "ipython3",
   "version": "3.7.4"
  }
 },
 "nbformat": 4,
 "nbformat_minor": 2
}
