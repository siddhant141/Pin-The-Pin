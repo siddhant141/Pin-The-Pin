{
 "cells": [
  {
   "cell_type": "code",
   "execution_count": 1,
   "metadata": {},
   "outputs": [],
   "source": [
    "import pandas as pd\n",
    "import numpy as np\n",
    "import os\n",
    "from sklearn.model_selection import train_test_split\n",
    "from sklearn.preprocessing import StandardScaler\n",
    "# from sklearn.linear_model import LogisticRegression\n",
    "# from sklearn.linear_model import RidgeClassifier\n",
    "# from sklearn.neighbors import RadiusNeighborsClassifier\n",
    "# from sklearn.discriminant_analysis import QuadraticDiscriminantAnalysis good one 0.3 max\n",
    "# from sklearn.neighbors import NearestCentroid 0.32\n",
    "# from sklearn.neural_network import MLPClassifier NN. very much useful and hidden layers. 0.31\n",
    "# from sklearn.linear_model import LogisticRegressionCV 0.32. maybe few options in here too\n",
    "# from sklearn.linear_model import LogisticRegression 0.29\n",
    "# from sklearn.svm import LinearSVC 0.29 (convergence fails)\n",
    "# from sklearn.discriminant_analysis import LinearDiscriminantAnalysis 0.29\n",
    "# from sklearn.semi_supervised import LabelSpreading 0.26. Perfect for already known ones gives perfect 100\n",
    "# from sklearn.semi_supervised import LabelPropagation 0.27. same as above\n",
    "# from sklearn.ensemble import ExtraTreesClassifier like random forest n_estimators=75 0.4\n",
    "# from sklearn.tree import ExtraTreeClassifier  0.3\n",
    "# from sklearn.naive_bayes import BernoulliNB 0.31\n",
    "from sklearn.metrics import classification_report\n",
    "from sklearn.metrics import confusion_matrix,accuracy_score\n",
    "from sklearn import metrics\n",
    "from os import listdir\n",
    "from os.path import isfile, join\n",
    "from sklearn.preprocessing import Normalizer\n",
    "from sklearn.metrics import f1_score"
   ]
  },
  {
   "cell_type": "code",
   "execution_count": 2,
   "metadata": {},
   "outputs": [],
   "source": [
    "path=\"C:\\\\Users\\\\nilu1\\\\Desktop\\\\Code\\\\AndroidPattern\\\\Data\\\\Using\\\\\"\n",
    "pathex = [f for f in listdir(path) if isfile(join(path, f))]\n",
    "score=[]\n",
    "# for i in range(len(pathex)):\n",
    "#     print(pathex[i])"
   ]
  },
  {
   "cell_type": "code",
   "execution_count": 3,
   "metadata": {
    "scrolled": true
   },
   "outputs": [
    {
     "name": "stdout",
     "output_type": "stream",
     "text": [
      "Acc_w_25_4vuni_a99828&a99830_9.csv : 0.18333333333333332\n",
      "Acc_w_25_4v_a99828&a99830_9.csv : 0.20666666666666667\n",
      "Acc_w_25_window_a99828&a99830_75.csv : 0.28\n",
      "Acc_w_30_4vuni_a99828&a99830_9.csv : 0.15333333333333332\n",
      "Acc_w_30_4v_a99828&a99830_9.csv : 0.24666666666666667\n",
      "Acc_w_30_window_a99828&a99830_90.csv : 0.2866666666666667\n",
      "Gyro_25_4vuni_a99828&a99830_9.csv : 0.25333333333333335\n",
      "Gyro_25_4v_a99828&a99830_9.csv : 0.29333333333333333\n",
      "Gyro_25_window_a99828&a99830_75.csv : 0.4033333333333333\n",
      "Gyro_30_4vuni_a99828&a99830_9.csv : 0.2633333333333333\n",
      "Gyro_30_4v_a99828&a99830_9.csv : 0.30666666666666664\n",
      "Gyro_30_window_a99828&a99830_90.csv : 0.44666666666666666\n",
      "--------------------------Test : ----------------------------\n",
      "Gyro_25_window_a99828&a99830_75.csv : 0.31\n",
      "Gyro_30_window_a99828&a99830_90.csv : 0.28\n",
      "Gyro_25_4v_a99828&a99830_9.csv : 0.27\n",
      "Gyro_30_4vuni_a99828&a99830_9.csv : 0.17\n",
      "Acc_w_30_window_a99828&a99830_90.csv : 0.17\n",
      "Acc_w_25_4v_a99828&a99830_9.csv : 0.17\n",
      "Gyro_30_4v_a99828&a99830_9.csv : 0.15\n",
      "Gyro_25_4vuni_a99828&a99830_9.csv : 0.14\n",
      "Acc_w_30_4v_a99828&a99830_9.csv : 0.14\n",
      "Acc_w_25_window_a99828&a99830_75.csv : 0.14\n",
      "Acc_w_25_4vuni_a99828&a99830_9.csv : 0.11\n",
      "Acc_w_30_4vuni_a99828&a99830_9.csv : 0.06\n"
     ]
    }
   ],
   "source": [
    "for file in pathex:\n",
    "    ni=file.rfind(\"_\")+1\n",
    "    n=int(file[ni:].split(\".\")[0])\n",
    "    df=pd.read_csv(path+file)\n",
    "    x = df.iloc[:, 0:n].values\n",
    "    y = df.iloc[:, n].values\n",
    "    # x = df.drop('Home', axis=1)\n",
    "    # y = df['Home']\n",
    "    X_train, X_test, y_train, y_test = train_test_split(x, y, test_size=0.25, random_state=0)\n",
    "    sc = StandardScaler()\n",
    "    X_train = sc.fit_transform(X_train)\n",
    "    X_test = sc.transform(X_test)\n",
    "    logmodel = BernoulliNB()\n",
    "    logmodel.fit(X_train, y_train)\n",
    "    y_pred = logmodel.predict(X_train)\n",
    "    print(file,end=\" : \")\n",
    "    print(accuracy_score(y_train,y_pred))\n",
    "    y_pred = logmodel.predict(X_test)\n",
    "    df = pd.DataFrame({'Actual': y_test, 'Predicted': y_pred})\n",
    "#     score.append([f1_score(y_test, y_pred, average=\"micro\"),file])\n",
    "    score.append([accuracy_score(y_test, y_pred),file])\n",
    "#     print(df)\n",
    "score.sort(reverse=True)\n",
    "print(\"--------------------------Test : ----------------------------\")\n",
    "for i in range(len(score)):\n",
    "    print(score[i][1]+\" : \"+str(score[i][0]))\n",
    "    #df"
   ]
  }
 ],
 "metadata": {
  "kernelspec": {
   "display_name": "Python 3",
   "language": "python",
   "name": "python3"
  },
  "language_info": {
   "codemirror_mode": {
    "name": "ipython",
    "version": 3
   },
   "file_extension": ".py",
   "mimetype": "text/x-python",
   "name": "python",
   "nbconvert_exporter": "python",
   "pygments_lexer": "ipython3",
   "version": "3.7.4"
  }
 },
 "nbformat": 4,
 "nbformat_minor": 2
}
