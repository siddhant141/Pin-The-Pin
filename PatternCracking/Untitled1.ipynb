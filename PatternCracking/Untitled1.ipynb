{
 "cells": [
  {
   "cell_type": "code",
   "execution_count": 1,
   "metadata": {},
   "outputs": [],
   "source": [
    "import os\n",
    "from os import listdir\n",
    "from os.path import isfile, join\n",
    "import pandas as pd\n",
    "import numpy as np\n",
    "import concurrent.futures"
   ]
  },
  {
   "cell_type": "code",
   "execution_count": 2,
   "metadata": {},
   "outputs": [
    {
     "name": "stdout",
     "output_type": "stream",
     "text": [
      "6862\n",
      "561\n"
     ]
    }
   ],
   "source": [
    "folder=\"Gyro\"\n",
    "path=\"C:\\\\Users\\\\nilu1\\\\Desktop\\\\Code\\\\AndroidPattern\\\\Data\\\\Train\\\\\"+folder+\"\\\\\"\n",
    "pathex=[]\n",
    "temp = [f for f in listdir(path) if isfile(join(path, f))]\n",
    "# temp.sort()\n",
    "# files=[\"all\"]\n",
    "# files=[\"66b325\",\"b56522\",\"a99827\"]\n",
    "files=[\"66b325\",\"b56522\"]\n",
    "# files=[\"a29c08\",\"66b325\",\"b56522\"]\n",
    "# files=[\"e0f709\",\"a29c08\",\"66b325\",\"b56522\"]\n",
    "# files=[\"e0f709\"]\n",
    "# files=[\"a99828\",\"a99830\"]\n",
    "# files=[\"a99828\",\"a99830\",\"66b325\",\"b56522\"]\n",
    "for i in range(len(temp)):\n",
    "    st=temp[i]\n",
    "    if(os.path.getsize(path+st)<4096):\n",
    "        continue\n",
    "    if(temp[i][:6] in files):\n",
    "        pathex.append(temp[i])\n",
    "#     if(files[0]==\"all\"):\n",
    "#         pathex.append(temp[i])\n",
    "# print(pathex)\n",
    "print(len(temp))\n",
    "print(len(pathex))"
   ]
  },
  {
   "cell_type": "code",
   "execution_count": 3,
   "metadata": {},
   "outputs": [],
   "source": [
    "# folder_n_no.ofvalues_no.offiles_keycolno.\n",
    "propath=\"C:\\\\Users\\\\nilu1\\\\Desktop\\\\Code\\\\AndroidPattern\\\\Data\\\\Processed\\\\\"\n",
    "def savefile():\n",
    "    df.to_csv (propath+folder+\"_\"+str(n)+\"_\"+fcode+\"_\"+\"&\".join(files)+\"_\"+str(keypos)+\".csv\", index = False, header=True)"
   ]
  },
  {
   "cell_type": "code",
   "execution_count": 4,
   "metadata": {},
   "outputs": [
    {
     "name": "stdout",
     "output_type": "stream",
     "text": [
      "error :  66b325-03-2020_02_14_07_PM5528&592.csv\n",
      "error :  b56522-03-2020_094106_AM214&21.csv\n"
     ]
    }
   ],
   "source": [
    "#taking into account that error might occur while reading a file (putting try and except)\n",
    "# n -> number of lines in csv file\n",
    "# actual -> the actual key pressed\n",
    "# minkeyd -> index of nearest key down time\n",
    "# minkeyu -> index of nearest key up time\n",
    "# keydt -> key down time from file name\n",
    "# keyut -> key up time from file name\n",
    "fcode=\"window\"\n",
    "n=500\n",
    "keypos=1\n",
    "actual=1\n",
    "df=pd.read_csv(path+pathex[0])\n",
    "for i in range(len(pathex)):\n",
    "    try:\n",
    "        dff=pd.read_csv(path+pathex[i])\n",
    "        mini=10000\n",
    "        minkeyd=1000\n",
    "        minkeyu=1000\n",
    "        keydt=pathex[i].rfind(\"_\")+4\n",
    "        keyut=pathex[i].rfind(\"&\")+1\n",
    "        for j in dff.index:\n",
    "            t=abs(dff['Time'][j] - int(pathex[i][keydt:keyut-1]))\n",
    "            if(t < mini):\n",
    "                mini=t\n",
    "                minkeyd=j\n",
    "        mini=10000\n",
    "        for j in dff.index:\n",
    "            t=abs(dff['Time'][j] - int(pathex[i][keyut:-4]))\n",
    "            if(t < mini):\n",
    "                mini=t\n",
    "                minkeyu=j\n",
    "    #     print(minkeyd)\n",
    "    #     print(minkeyu)\n",
    "        window=minkeyu-minkeyd\n",
    "        left=n-window    \n",
    "        dff=dff.head(minkeyu + round(left/2))\n",
    "        dff=dff.tail(n)\n",
    "        dff.reset_index(inplace=True)\n",
    "        dff=dff.drop(columns=\"index\")\n",
    "        dff=dff.drop(columns=\"Time\")\n",
    "        df1=dff.stack().swaplevel()\n",
    "        df1.index=df1.index.map('{0[0]}_{0[1]}'.format) \n",
    "        dff=df1.to_frame().T\n",
    "        ind=pathex[i].rfind(\"_\")+3\n",
    "    #     print(pathex[i])\n",
    "        dff.insert(n*3, \"key\", int(pathex[i][ind]))\n",
    "        keypos=n*3\n",
    "        if(i==0):\n",
    "            df=dff\n",
    "        else:\n",
    "            df=df.append(dff,ignore_index = True)\n",
    "    except:\n",
    "        print(\"error : \",pathex[i])\n",
    "        continue"
   ]
  },
  {
   "cell_type": "code",
   "execution_count": 5,
   "metadata": {},
   "outputs": [],
   "source": [
    "savefile()"
   ]
  }
 ],
 "metadata": {
  "kernelspec": {
   "display_name": "Python 3",
   "language": "python",
   "name": "python3"
  },
  "language_info": {
   "codemirror_mode": {
    "name": "ipython",
    "version": 3
   },
   "file_extension": ".py",
   "mimetype": "text/x-python",
   "name": "python",
   "nbconvert_exporter": "python",
   "pygments_lexer": "ipython3",
   "version": "3.7.4"
  }
 },
 "nbformat": 4,
 "nbformat_minor": 2
}
