{
 "cells": [
  {
   "cell_type": "code",
   "execution_count": 6,
   "metadata": {},
   "outputs": [],
   "source": [
    "import pandas as pd\n",
    "import numpy as np\n",
    "import matplotlib.pyplot as plt\n",
    "%matplotlib inline"
   ]
  },
  {
   "cell_type": "code",
   "execution_count": 7,
   "metadata": {},
   "outputs": [],
   "source": [
    "path='C:\\\\Users\\\\nilu1\\\\PatternCracking\\\\gyro\\\\11-Dec-2019_120141_PM.csv'\n",
    "f=open(path)\n",
    "para=f.readlines()\n",
    "line=\"\"\n",
    "data=[]\n",
    "for i in range(len(para)):\n",
    "    line=para[i]\n",
    "    line=line.split(\",\")\n",
    "    for i in range(len(line)):\n",
    "        line[i]=line[i].rstrip('\\n')\n",
    "        line[i]=line[i].strip('\"')\n",
    "        line[i]=float(line[i])\n",
    "    line.pop(0)\n",
    "    data.append(line)\n",
    "X=np.array(data)"
   ]
  },
  {
   "cell_type": "code",
   "execution_count": 10,
   "metadata": {},
   "outputs": [
    {
     "data": {
      "text/plain": [
       "(253, 4)"
      ]
     },
     "execution_count": 10,
     "metadata": {},
     "output_type": "execute_result"
    }
   ],
   "source": [
    "p1=\"C:\\\\Users\\\\nilu1\\\\PatternCracking\\\\gyro\\\\11-Dec-2019_120141_PM.csv\"\n",
    "p2=\"C:\\\\Users\\\\nilu1\\\\PatternCracking\\\\gyro\\\\11-Dec-2019_120157_PM.csv\"\n",
    "p3=\"C:\\\\Users\\\\nilu1\\\\PatternCracking\\\\gyro\\\\11-Dec-2019_120207_PM.csv\"\n",
    "d1 = pd.read_csv(p1)\n",
    "d2 = pd.read_csv(p2)\n",
    "d3 = pd.read_csv(p3)"
   ]
  }
 ],
 "metadata": {
  "kernelspec": {
   "display_name": "Python 3",
   "language": "python",
   "name": "python3"
  },
  "language_info": {
   "codemirror_mode": {
    "name": "ipython",
    "version": 3
   },
   "file_extension": ".py",
   "mimetype": "text/x-python",
   "name": "python",
   "nbconvert_exporter": "python",
   "pygments_lexer": "ipython3",
   "version": "3.7.4"
  }
 },
 "nbformat": 4,
 "nbformat_minor": 2
}
