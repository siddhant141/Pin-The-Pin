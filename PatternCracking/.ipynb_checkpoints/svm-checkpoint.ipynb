{
 "cells": [
  {
   "cell_type": "code",
   "execution_count": 1,
   "metadata": {},
   "outputs": [],
   "source": [
    "import pandas as pd\n",
    "import numpy as np\n",
    "import os\n",
    "from sklearn.model_selection import train_test_split\n",
    "from sklearn.preprocessing import StandardScaler\n",
    "from sklearn.preprocessing import Normalizer\n",
    "from sklearn.svm import SVC\n",
    "from sklearn.svm import SVR\n",
    "from sklearn import metrics\n",
    "from os import listdir\n",
    "from os.path import isfile, join\n",
    "from sklearn.metrics import confusion_matrix,accuracy_score\n",
    "from sklearn.metrics import f1_score\n",
    "import pickle"
   ]
  },
  {
   "cell_type": "code",
   "execution_count": 2,
   "metadata": {},
   "outputs": [],
   "source": [
    "path=\"C:\\\\Users\\\\nilu1\\\\Desktop\\\\Code\\\\AndroidPattern\\\\Data\\\\Using\\\\\"\n",
    "# path=\"C:\\\\Users\\\\nilu1\\\\Desktop\\\\Code\\\\AndroidPattern\\\\Data\\\\Spike\\\\Using\\\\\"\n",
    "pathex = [f for f in listdir(path) if isfile(join(path, f))]\n",
    "pathex.sort()\n",
    "score=[]\n",
    "# for i in range(len(pathex)):\n",
    "#     print(pathex[i])\n",
    "# modelpath=\"C:\\\\Users\\\\nilu1\\\\Desktop\\\\Code\\\\AndroidPattern\\\\Data\\\\Spike\\\\Models\\\\\"\n",
    "modelpath=\"C:\\\\Users\\\\nilu1\\\\Desktop\\\\Code\\\\AndroidPattern\\\\Data\\\\Models\\\\\""
   ]
  },
  {
   "cell_type": "code",
   "execution_count": 3,
   "metadata": {
    "scrolled": false
   },
   "outputs": [
    {
     "name": "stdout",
     "output_type": "stream",
     "text": [
      "Acc_w_200_window_4b0c17&4b0c18_600.csv\n",
      "683 451\n",
      "Any one :  0.6603221083455344\n",
      "At position 1 and 2 :  0.5153733528550513\n",
      "At position 1 :  0.3074670571010249\n",
      "At position 2 :  0.20790629575402636\n",
      "At position 3 :  0.14494875549048317\n",
      "------------------------------------------Test : --------------------------------------------\n",
      "Acc_w_200_window_4b0c17&4b0c18_600.csv\n",
      "0.2957540263543192\n",
      "------------------------------------------2nd guess : ---------------------------------------------\n",
      "0.5153733528550513\n"
     ]
    }
   ],
   "source": [
    "for file in pathex:\n",
    "    ni=file.rfind(\"_\")+1\n",
    "    n=int(file[ni:].split(\".\")[0])\n",
    "    df=pd.read_csv(path+file)\n",
    "    X = df.iloc[:, 0:n].values\n",
    "    y = df.iloc[:, n].values\n",
    "    X_train, X_test, y_train, y_test = train_test_split(X, y, test_size=0.25)\n",
    "    sc = StandardScaler()\n",
    "    X_train = sc.fit_transform(X_train)\n",
    "    X_test = sc.transform(X_test)\n",
    "#     sc = Normalizer()\n",
    "#     X_train = sc.fit_transform(X_train)\n",
    "#     X_test = sc.transform(X_test)\n",
    "#     svm_model_linear = SVC(kernel = 'rbf').fit(X_train, y_train)\n",
    "    logmodel = SVC(decision_function_shape='ovr',gamma=\"auto\",probability=True).fit(X_train, y_train)\n",
    "#     svm_model_linear = SVC(decision_function_shape='ovo').fit(X_train, y_train)\n",
    "#     svm_model_linear = SVR().fit(X_train, y_train)\n",
    "#     y_pred = logmodel.predict(X_train)\n",
    "#     print(file,end=\" : \")\n",
    "#     print(accuracy_score(y_train,y_pred))\n",
    "\n",
    "    y_pred = logmodel.predict(X_test)\n",
    "\n",
    "    p = logmodel.predict_proba(X_test)\n",
    "    nn = 3\n",
    "    top_n = np.argsort(p)[:,:-nn-1:-1]\n",
    "#     for i in range(len(y_test)):\n",
    "#         print(y_test[i],top_n[i])\n",
    "    count=0\n",
    "    count1=0\n",
    "    count2=0\n",
    "    count3=0\n",
    "    count12=0\n",
    "    for i in range(len(y_pred)):\n",
    "        if(y_test[i] in top_n[i]):\n",
    "            count+=1\n",
    "        if(y_test[i] in top_n[i][:2]):\n",
    "            count12+=1\n",
    "        if(y_test[i] == top_n[i][0]):\n",
    "            count1+=1\n",
    "        elif(y_test[i] == top_n[i][1]):\n",
    "            count2+=1\n",
    "        elif(y_test[i] == top_n[i][2]):\n",
    "            count3+=1\n",
    "#         print(y_test[i],y_pred[i])\n",
    "    l=len(y_pred)\n",
    "    print(file)\n",
    "    print(l,count)\n",
    "    print(\"Any one : \",count/l)\n",
    "    print(\"At position 1 and 2 : \",count12/l)\n",
    "    print(\"At position 1 : \",count1/l)\n",
    "    print(\"At position 2 : \",count2/l)\n",
    "    print(\"At position 3 : \",count3/l)\n",
    "\n",
    "#     df = pd.DataFrame({'Actual': y_test, 'Predicted': y_pred})\n",
    "#     print(df)\n",
    "    score.append([accuracy_score(y_test, y_pred),file,count12/l])\n",
    "#     score.append(accuracy_score(y_test, y_pred))\n",
    "    \n",
    "\n",
    "# score.sort(reverse=True)\n",
    "print(\"------------------------------------------Test : --------------------------------------------\")\n",
    "for i in range(len(score)):\n",
    "#     print(score[i][1]+\" : \"+str(score[i][0]))\n",
    "    print(score[i][1])\n",
    "for i in range(len(score)):\n",
    "    print(score[i][0])\n",
    "print(\"------------------------------------------2nd guess : ---------------------------------------------\")\n",
    "for i in range(len(score)):\n",
    "    print(score[i][2])\n",
    "#     df"
   ]
  },
  {
   "cell_type": "code",
   "execution_count": 4,
   "metadata": {},
   "outputs": [],
   "source": [
    "# # save trained model\n",
    "# for file in pathex:\n",
    "#     ni=file.rfind(\"_\")+1\n",
    "#     n=int(file[ni:].split(\".\")[0])\n",
    "#     df=pd.read_csv(path+file)\n",
    "#     X = df.iloc[:, 0:n].values\n",
    "#     y = df.iloc[:, n].values\n",
    "#     X_train, X_test, y_train, y_test = train_test_split(X, y, random_state=1)\n",
    "#     #Create KNN Classifier\n",
    "#     logmodel = SVC(decision_function_shape='ovr',gamma=\"auto\")\n",
    "#     logmodel.fit(X_train, y_train)\n",
    "#     filename = \"svm_\"+file[:-4]+\".sav\"\n",
    "#     pickle.dump(logmodel, open(modelpath+filename, 'wb'))"
   ]
  }
 ],
 "metadata": {
  "kernelspec": {
   "display_name": "Python 3",
   "language": "python",
   "name": "python3"
  },
  "language_info": {
   "codemirror_mode": {
    "name": "ipython",
    "version": 3
   },
   "file_extension": ".py",
   "mimetype": "text/x-python",
   "name": "python",
   "nbconvert_exporter": "python",
   "pygments_lexer": "ipython3",
   "version": "3.7.4"
  }
 },
 "nbformat": 4,
 "nbformat_minor": 2
}
