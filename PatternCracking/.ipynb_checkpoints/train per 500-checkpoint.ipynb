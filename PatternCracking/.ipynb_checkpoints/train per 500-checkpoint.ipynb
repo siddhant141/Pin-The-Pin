{
 "cells": [
  {
   "cell_type": "code",
   "execution_count": 1,
   "metadata": {},
   "outputs": [],
   "source": [
    "import pandas as pd\n",
    "import numpy as np\n",
    "import os\n",
    "from math import ceil\n",
    "from sklearn.model_selection import train_test_split\n",
    "# from sklearn.preprocessing import StandardScaler\n",
    "# from sklearn.preprocessing import Normalizer\n",
    "# from sklearn.neighbors import KNeighborsClassifier\n",
    "# from sklearn.linear_model import LogisticRegression\n",
    "# from sklearn.naive_bayes import GaussianNB\n",
    "# from sklearn.neighbors import NearestCentroid\n",
    "from sklearn.svm import SVC\n",
    "# from sklearn.ensemble import RandomForestClassifier\n",
    "# from sklearn.linear_model import LogisticRegressionCV\n",
    "# from sklearn.neural_network import MLPClassifier\n",
    "from sklearn import metrics\n",
    "from os import listdir\n",
    "from os.path import isfile, join\n",
    "from sklearn.metrics import confusion_matrix,accuracy_score\n",
    "from sklearn.metrics import f1_score\n",
    "import pickle"
   ]
  },
  {
   "cell_type": "code",
   "execution_count": 2,
   "metadata": {},
   "outputs": [],
   "source": [
    "# path=\"C:\\\\Users\\\\nilu1\\\\Desktop\\\\Code\\\\AndroidPattern\\\\Data\\\\Spike\\\\Using\\\\\"\n",
    "path=\"C:\\\\Users\\\\nilu1\\\\Desktop\\\\Code\\\\AndroidPattern\\\\Data\\\\Useful\\\\\"\n",
    "pathex = [f for f in listdir(path) if isfile(join(path, f))]\n",
    "score=[]\n",
    "score12=[]\n",
    "# modelpath=\"C:\\\\Users\\\\nilu1\\\\Desktop\\\\Code\\\\AndroidPattern\\\\Data\\\\Spike\\\\Models\\\\\"\n",
    "modelpath=\"C:\\\\Users\\\\nilu1\\\\Desktop\\\\Code\\\\AndroidPattern\\\\Data\\\\Models\\\\\""
   ]
  },
  {
   "cell_type": "code",
   "execution_count": 3,
   "metadata": {
    "scrolled": true
   },
   "outputs": [
    {
     "name": "stdout",
     "output_type": "stream",
     "text": [
      "2724\n",
      "6\n",
      "3024000 600000\n"
     ]
    },
    {
     "name": "stderr",
     "output_type": "stream",
     "text": [
      "C:\\Users\\nilu1\\Anaconda3\\lib\\site-packages\\sklearn\\linear_model\\logistic.py:947: ConvergenceWarning: lbfgs failed to converge. Increase the number of iterations.\n",
      "  \"of iterations.\", ConvergenceWarning)\n"
     ]
    },
    {
     "name": "stdout",
     "output_type": "stream",
     "text": [
      "Acc_wGyro_400_window_4b0c17&4b0c18_1200.csv\n",
      "205 166\n",
      "Any one :  0.8097560975609757\n",
      "At position 1 and 2 :  0.7121951219512195\n",
      "At position 1 :  0.5073170731707317\n",
      "At position 2 :  0.2048780487804878\n",
      "At position 3 :  0.0975609756097561\n",
      "0.5073170731707317\n",
      "3024000 1200000\n"
     ]
    },
    {
     "name": "stderr",
     "output_type": "stream",
     "text": [
      "C:\\Users\\nilu1\\Anaconda3\\lib\\site-packages\\sklearn\\linear_model\\logistic.py:947: ConvergenceWarning: lbfgs failed to converge. Increase the number of iterations.\n",
      "  \"of iterations.\", ConvergenceWarning)\n"
     ]
    },
    {
     "name": "stdout",
     "output_type": "stream",
     "text": [
      "Acc_wGyro_400_window_4b0c17&4b0c18_1200.csv\n",
      "205 179\n",
      "Any one :  0.8731707317073171\n",
      "At position 1 and 2 :  0.7804878048780488\n",
      "At position 1 :  0.5609756097560976\n",
      "At position 2 :  0.21951219512195122\n",
      "At position 3 :  0.09268292682926829\n",
      "0.5609756097560976\n",
      "3024000 1800000\n"
     ]
    },
    {
     "name": "stderr",
     "output_type": "stream",
     "text": [
      "C:\\Users\\nilu1\\Anaconda3\\lib\\site-packages\\sklearn\\linear_model\\logistic.py:947: ConvergenceWarning: lbfgs failed to converge. Increase the number of iterations.\n",
      "  \"of iterations.\", ConvergenceWarning)\n"
     ]
    },
    {
     "name": "stdout",
     "output_type": "stream",
     "text": [
      "Acc_wGyro_400_window_4b0c17&4b0c18_1200.csv\n",
      "205 186\n",
      "Any one :  0.9073170731707317\n",
      "At position 1 and 2 :  0.7902439024390244\n",
      "At position 1 :  0.5756097560975609\n",
      "At position 2 :  0.2146341463414634\n",
      "At position 3 :  0.11707317073170732\n",
      "0.5756097560975609\n",
      "3024000 2400000\n"
     ]
    },
    {
     "name": "stderr",
     "output_type": "stream",
     "text": [
      "C:\\Users\\nilu1\\Anaconda3\\lib\\site-packages\\sklearn\\linear_model\\logistic.py:947: ConvergenceWarning: lbfgs failed to converge. Increase the number of iterations.\n",
      "  \"of iterations.\", ConvergenceWarning)\n"
     ]
    },
    {
     "name": "stdout",
     "output_type": "stream",
     "text": [
      "Acc_wGyro_400_window_4b0c17&4b0c18_1200.csv\n",
      "205 191\n",
      "Any one :  0.9317073170731708\n",
      "At position 1 and 2 :  0.8048780487804879\n",
      "At position 1 :  0.5951219512195122\n",
      "At position 2 :  0.2097560975609756\n",
      "At position 3 :  0.12682926829268293\n",
      "0.5951219512195122\n",
      "3024000 3000000\n"
     ]
    },
    {
     "name": "stderr",
     "output_type": "stream",
     "text": [
      "C:\\Users\\nilu1\\Anaconda3\\lib\\site-packages\\sklearn\\linear_model\\logistic.py:947: ConvergenceWarning: lbfgs failed to converge. Increase the number of iterations.\n",
      "  \"of iterations.\", ConvergenceWarning)\n"
     ]
    },
    {
     "name": "stdout",
     "output_type": "stream",
     "text": [
      "Acc_wGyro_400_window_4b0c17&4b0c18_1200.csv\n",
      "205 187\n",
      "Any one :  0.9121951219512195\n",
      "At position 1 and 2 :  0.7902439024390244\n",
      "At position 1 :  0.5902439024390244\n",
      "At position 2 :  0.2\n",
      "At position 3 :  0.12195121951219512\n",
      "0.5902439024390244\n",
      "3024000 3024000\n"
     ]
    },
    {
     "name": "stderr",
     "output_type": "stream",
     "text": [
      "C:\\Users\\nilu1\\Anaconda3\\lib\\site-packages\\sklearn\\linear_model\\logistic.py:947: ConvergenceWarning: lbfgs failed to converge. Increase the number of iterations.\n",
      "  \"of iterations.\", ConvergenceWarning)\n"
     ]
    },
    {
     "name": "stdout",
     "output_type": "stream",
     "text": [
      "Acc_wGyro_400_window_4b0c17&4b0c18_1200.csv\n",
      "205 186\n",
      "Any one :  0.9073170731707317\n",
      "At position 1 and 2 :  0.8146341463414634\n",
      "At position 1 :  0.5658536585365853\n",
      "At position 2 :  0.24878048780487805\n",
      "At position 3 :  0.09268292682926829\n",
      "0.5658536585365853\n",
      "2729\n",
      "6\n",
      "3030000 600000\n"
     ]
    },
    {
     "name": "stderr",
     "output_type": "stream",
     "text": [
      "C:\\Users\\nilu1\\Anaconda3\\lib\\site-packages\\sklearn\\linear_model\\logistic.py:947: ConvergenceWarning: lbfgs failed to converge. Increase the number of iterations.\n",
      "  \"of iterations.\", ConvergenceWarning)\n"
     ]
    },
    {
     "name": "stdout",
     "output_type": "stream",
     "text": [
      "Acc_wGyro_400_wininituniend_4b0c17&4b0c18_1200.csv\n",
      "205 143\n",
      "Any one :  0.697560975609756\n",
      "At position 1 and 2 :  0.5707317073170731\n",
      "At position 1 :  0.34146341463414637\n",
      "At position 2 :  0.22926829268292684\n",
      "At position 3 :  0.12682926829268293\n",
      "0.34146341463414637\n",
      "3030000 1200000\n"
     ]
    },
    {
     "name": "stderr",
     "output_type": "stream",
     "text": [
      "C:\\Users\\nilu1\\Anaconda3\\lib\\site-packages\\sklearn\\linear_model\\logistic.py:947: ConvergenceWarning: lbfgs failed to converge. Increase the number of iterations.\n",
      "  \"of iterations.\", ConvergenceWarning)\n"
     ]
    },
    {
     "name": "stdout",
     "output_type": "stream",
     "text": [
      "Acc_wGyro_400_wininituniend_4b0c17&4b0c18_1200.csv\n",
      "205 157\n",
      "Any one :  0.7658536585365854\n",
      "At position 1 and 2 :  0.5756097560975609\n",
      "At position 1 :  0.3902439024390244\n",
      "At position 2 :  0.18536585365853658\n",
      "At position 3 :  0.1902439024390244\n",
      "0.3902439024390244\n",
      "3030000 1800000\n"
     ]
    },
    {
     "name": "stderr",
     "output_type": "stream",
     "text": [
      "C:\\Users\\nilu1\\Anaconda3\\lib\\site-packages\\sklearn\\linear_model\\logistic.py:947: ConvergenceWarning: lbfgs failed to converge. Increase the number of iterations.\n",
      "  \"of iterations.\", ConvergenceWarning)\n"
     ]
    },
    {
     "name": "stdout",
     "output_type": "stream",
     "text": [
      "Acc_wGyro_400_wininituniend_4b0c17&4b0c18_1200.csv\n",
      "205 149\n",
      "Any one :  0.7268292682926829\n",
      "At position 1 and 2 :  0.6146341463414634\n",
      "At position 1 :  0.37073170731707317\n",
      "At position 2 :  0.24390243902439024\n",
      "At position 3 :  0.11219512195121951\n",
      "0.37073170731707317\n",
      "3030000 2400000\n"
     ]
    },
    {
     "name": "stderr",
     "output_type": "stream",
     "text": [
      "C:\\Users\\nilu1\\Anaconda3\\lib\\site-packages\\sklearn\\linear_model\\logistic.py:947: ConvergenceWarning: lbfgs failed to converge. Increase the number of iterations.\n",
      "  \"of iterations.\", ConvergenceWarning)\n"
     ]
    },
    {
     "name": "stdout",
     "output_type": "stream",
     "text": [
      "Acc_wGyro_400_wininituniend_4b0c17&4b0c18_1200.csv\n",
      "205 154\n",
      "Any one :  0.751219512195122\n",
      "At position 1 and 2 :  0.6\n",
      "At position 1 :  0.4\n",
      "At position 2 :  0.2\n",
      "At position 3 :  0.15121951219512195\n",
      "0.4\n",
      "3030000 3000000\n"
     ]
    },
    {
     "name": "stderr",
     "output_type": "stream",
     "text": [
      "C:\\Users\\nilu1\\Anaconda3\\lib\\site-packages\\sklearn\\linear_model\\logistic.py:947: ConvergenceWarning: lbfgs failed to converge. Increase the number of iterations.\n",
      "  \"of iterations.\", ConvergenceWarning)\n"
     ]
    },
    {
     "name": "stdout",
     "output_type": "stream",
     "text": [
      "Acc_wGyro_400_wininituniend_4b0c17&4b0c18_1200.csv\n",
      "205 151\n",
      "Any one :  0.7365853658536585\n",
      "At position 1 and 2 :  0.6341463414634146\n",
      "At position 1 :  0.4195121951219512\n",
      "At position 2 :  0.2146341463414634\n",
      "At position 3 :  0.1024390243902439\n",
      "0.4195121951219512\n",
      "3030000 3030000\n"
     ]
    },
    {
     "name": "stderr",
     "output_type": "stream",
     "text": [
      "C:\\Users\\nilu1\\Anaconda3\\lib\\site-packages\\sklearn\\linear_model\\logistic.py:947: ConvergenceWarning: lbfgs failed to converge. Increase the number of iterations.\n",
      "  \"of iterations.\", ConvergenceWarning)\n"
     ]
    },
    {
     "name": "stdout",
     "output_type": "stream",
     "text": [
      "Acc_wGyro_400_wininituniend_4b0c17&4b0c18_1200.csv\n",
      "205 149\n",
      "Any one :  0.7268292682926829\n",
      "At position 1 and 2 :  0.6146341463414634\n",
      "At position 1 :  0.4195121951219512\n",
      "At position 2 :  0.1951219512195122\n",
      "At position 3 :  0.11219512195121951\n",
      "0.4195121951219512\n",
      "2729\n",
      "6\n",
      "3030000 600000\n"
     ]
    },
    {
     "name": "stderr",
     "output_type": "stream",
     "text": [
      "C:\\Users\\nilu1\\Anaconda3\\lib\\site-packages\\sklearn\\linear_model\\logistic.py:947: ConvergenceWarning: lbfgs failed to converge. Increase the number of iterations.\n",
      "  \"of iterations.\", ConvergenceWarning)\n"
     ]
    },
    {
     "name": "stdout",
     "output_type": "stream",
     "text": [
      "Acc_wGyro_400_wininituni_4b0c17&4b0c18_1200.csv\n",
      "205 154\n",
      "Any one :  0.751219512195122\n",
      "At position 1 and 2 :  0.6390243902439025\n",
      "At position 1 :  0.3804878048780488\n",
      "At position 2 :  0.25853658536585367\n",
      "At position 3 :  0.11219512195121951\n",
      "0.3804878048780488\n",
      "3030000 1200000\n"
     ]
    },
    {
     "name": "stderr",
     "output_type": "stream",
     "text": [
      "C:\\Users\\nilu1\\Anaconda3\\lib\\site-packages\\sklearn\\linear_model\\logistic.py:947: ConvergenceWarning: lbfgs failed to converge. Increase the number of iterations.\n",
      "  \"of iterations.\", ConvergenceWarning)\n"
     ]
    },
    {
     "name": "stdout",
     "output_type": "stream",
     "text": [
      "Acc_wGyro_400_wininituni_4b0c17&4b0c18_1200.csv\n",
      "205 166\n",
      "Any one :  0.8097560975609757\n",
      "At position 1 and 2 :  0.6878048780487804\n",
      "At position 1 :  0.4585365853658537\n",
      "At position 2 :  0.22926829268292684\n",
      "At position 3 :  0.12195121951219512\n",
      "0.4585365853658537\n",
      "3030000 1800000\n"
     ]
    },
    {
     "name": "stderr",
     "output_type": "stream",
     "text": [
      "C:\\Users\\nilu1\\Anaconda3\\lib\\site-packages\\sklearn\\linear_model\\logistic.py:947: ConvergenceWarning: lbfgs failed to converge. Increase the number of iterations.\n",
      "  \"of iterations.\", ConvergenceWarning)\n"
     ]
    },
    {
     "name": "stdout",
     "output_type": "stream",
     "text": [
      "Acc_wGyro_400_wininituni_4b0c17&4b0c18_1200.csv\n",
      "205 170\n",
      "Any one :  0.8292682926829268\n",
      "At position 1 and 2 :  0.7268292682926829\n",
      "At position 1 :  0.44390243902439025\n",
      "At position 2 :  0.28292682926829266\n",
      "At position 3 :  0.1024390243902439\n",
      "0.44390243902439025\n",
      "3030000 2400000\n"
     ]
    },
    {
     "name": "stderr",
     "output_type": "stream",
     "text": [
      "C:\\Users\\nilu1\\Anaconda3\\lib\\site-packages\\sklearn\\linear_model\\logistic.py:947: ConvergenceWarning: lbfgs failed to converge. Increase the number of iterations.\n",
      "  \"of iterations.\", ConvergenceWarning)\n"
     ]
    },
    {
     "name": "stdout",
     "output_type": "stream",
     "text": [
      "Acc_wGyro_400_wininituni_4b0c17&4b0c18_1200.csv\n",
      "205 172\n",
      "Any one :  0.8390243902439024\n",
      "At position 1 and 2 :  0.7219512195121951\n",
      "At position 1 :  0.4975609756097561\n",
      "At position 2 :  0.22439024390243903\n",
      "At position 3 :  0.11707317073170732\n",
      "0.4975609756097561\n",
      "3030000 3000000\n"
     ]
    },
    {
     "name": "stderr",
     "output_type": "stream",
     "text": [
      "C:\\Users\\nilu1\\Anaconda3\\lib\\site-packages\\sklearn\\linear_model\\logistic.py:947: ConvergenceWarning: lbfgs failed to converge. Increase the number of iterations.\n",
      "  \"of iterations.\", ConvergenceWarning)\n"
     ]
    },
    {
     "name": "stdout",
     "output_type": "stream",
     "text": [
      "Acc_wGyro_400_wininituni_4b0c17&4b0c18_1200.csv\n",
      "205 169\n",
      "Any one :  0.824390243902439\n",
      "At position 1 and 2 :  0.7121951219512195\n",
      "At position 1 :  0.4926829268292683\n",
      "At position 2 :  0.21951219512195122\n",
      "At position 3 :  0.11219512195121951\n",
      "0.4926829268292683\n",
      "3030000 3030000\n"
     ]
    },
    {
     "name": "stderr",
     "output_type": "stream",
     "text": [
      "C:\\Users\\nilu1\\Anaconda3\\lib\\site-packages\\sklearn\\linear_model\\logistic.py:947: ConvergenceWarning: lbfgs failed to converge. Increase the number of iterations.\n",
      "  \"of iterations.\", ConvergenceWarning)\n"
     ]
    },
    {
     "name": "stdout",
     "output_type": "stream",
     "text": [
      "Acc_wGyro_400_wininituni_4b0c17&4b0c18_1200.csv\n",
      "205 167\n",
      "Any one :  0.8146341463414634\n",
      "At position 1 and 2 :  0.7121951219512195\n",
      "At position 1 :  0.47804878048780486\n",
      "At position 2 :  0.23414634146341465\n",
      "At position 3 :  0.1024390243902439\n",
      "0.47804878048780486\n",
      "2357\n",
      "5\n",
      "3925800 900000\n"
     ]
    },
    {
     "name": "stderr",
     "output_type": "stream",
     "text": [
      "C:\\Users\\nilu1\\Anaconda3\\lib\\site-packages\\sklearn\\linear_model\\logistic.py:947: ConvergenceWarning: lbfgs failed to converge. Increase the number of iterations.\n",
      "  \"of iterations.\", ConvergenceWarning)\n"
     ]
    },
    {
     "name": "stdout",
     "output_type": "stream",
     "text": [
      "Acc_wGyro_600_window_4b0c17&4b0c18_1800.csv\n",
      "177 153\n",
      "Any one :  0.864406779661017\n",
      "At position 1 and 2 :  0.7344632768361582\n",
      "At position 1 :  0.5706214689265536\n",
      "At position 2 :  0.1638418079096045\n",
      "At position 3 :  0.12994350282485875\n",
      "0.5706214689265536\n",
      "3925800 1800000\n"
     ]
    },
    {
     "name": "stderr",
     "output_type": "stream",
     "text": [
      "C:\\Users\\nilu1\\Anaconda3\\lib\\site-packages\\sklearn\\linear_model\\logistic.py:947: ConvergenceWarning: lbfgs failed to converge. Increase the number of iterations.\n",
      "  \"of iterations.\", ConvergenceWarning)\n"
     ]
    },
    {
     "name": "stdout",
     "output_type": "stream",
     "text": [
      "Acc_wGyro_600_window_4b0c17&4b0c18_1800.csv\n",
      "177 167\n",
      "Any one :  0.943502824858757\n",
      "At position 1 and 2 :  0.8361581920903954\n",
      "At position 1 :  0.6610169491525424\n",
      "At position 2 :  0.1751412429378531\n",
      "At position 3 :  0.10734463276836158\n",
      "0.6610169491525424\n",
      "3925800 2700000\n"
     ]
    },
    {
     "name": "stderr",
     "output_type": "stream",
     "text": [
      "C:\\Users\\nilu1\\Anaconda3\\lib\\site-packages\\sklearn\\linear_model\\logistic.py:947: ConvergenceWarning: lbfgs failed to converge. Increase the number of iterations.\n",
      "  \"of iterations.\", ConvergenceWarning)\n"
     ]
    },
    {
     "name": "stdout",
     "output_type": "stream",
     "text": [
      "Acc_wGyro_600_window_4b0c17&4b0c18_1800.csv\n",
      "177 166\n",
      "Any one :  0.9378531073446328\n",
      "At position 1 and 2 :  0.8531073446327684\n",
      "At position 1 :  0.6497175141242938\n",
      "At position 2 :  0.2033898305084746\n",
      "At position 3 :  0.0847457627118644\n",
      "0.6497175141242938\n",
      "3925800 3600000\n"
     ]
    },
    {
     "name": "stderr",
     "output_type": "stream",
     "text": [
      "C:\\Users\\nilu1\\Anaconda3\\lib\\site-packages\\sklearn\\linear_model\\logistic.py:947: ConvergenceWarning: lbfgs failed to converge. Increase the number of iterations.\n",
      "  \"of iterations.\", ConvergenceWarning)\n"
     ]
    },
    {
     "name": "stdout",
     "output_type": "stream",
     "text": [
      "Acc_wGyro_600_window_4b0c17&4b0c18_1800.csv\n",
      "177 168\n",
      "Any one :  0.9491525423728814\n",
      "At position 1 and 2 :  0.8870056497175142\n",
      "At position 1 :  0.6779661016949152\n",
      "At position 2 :  0.20903954802259886\n",
      "At position 3 :  0.062146892655367235\n",
      "0.6779661016949152\n",
      "3925800 3925800\n"
     ]
    },
    {
     "name": "stderr",
     "output_type": "stream",
     "text": [
      "C:\\Users\\nilu1\\Anaconda3\\lib\\site-packages\\sklearn\\linear_model\\logistic.py:947: ConvergenceWarning: lbfgs failed to converge. Increase the number of iterations.\n",
      "  \"of iterations.\", ConvergenceWarning)\n"
     ]
    },
    {
     "name": "stdout",
     "output_type": "stream",
     "text": [
      "Acc_wGyro_600_window_4b0c17&4b0c18_1800.csv\n",
      "177 169\n",
      "Any one :  0.9548022598870056\n",
      "At position 1 and 2 :  0.8700564971751412\n",
      "At position 1 :  0.6610169491525424\n",
      "At position 2 :  0.20903954802259886\n",
      "At position 3 :  0.0847457627118644\n",
      "0.6610169491525424\n",
      "2616\n",
      "6\n",
      "4356000 900000\n"
     ]
    },
    {
     "name": "stderr",
     "output_type": "stream",
     "text": [
      "C:\\Users\\nilu1\\Anaconda3\\lib\\site-packages\\sklearn\\linear_model\\logistic.py:947: ConvergenceWarning: lbfgs failed to converge. Increase the number of iterations.\n",
      "  \"of iterations.\", ConvergenceWarning)\n"
     ]
    },
    {
     "name": "stdout",
     "output_type": "stream",
     "text": [
      "Acc_wGyro_600_wininituniend_4b0c17&4b0c18_1800.csv\n",
      "197 145\n",
      "Any one :  0.7360406091370558\n",
      "At position 1 and 2 :  0.6091370558375635\n",
      "At position 1 :  0.36548223350253806\n",
      "At position 2 :  0.2436548223350254\n",
      "At position 3 :  0.12690355329949238\n",
      "0.36548223350253806\n",
      "4356000 1800000\n"
     ]
    },
    {
     "name": "stderr",
     "output_type": "stream",
     "text": [
      "C:\\Users\\nilu1\\Anaconda3\\lib\\site-packages\\sklearn\\linear_model\\logistic.py:947: ConvergenceWarning: lbfgs failed to converge. Increase the number of iterations.\n",
      "  \"of iterations.\", ConvergenceWarning)\n"
     ]
    },
    {
     "name": "stdout",
     "output_type": "stream",
     "text": [
      "Acc_wGyro_600_wininituniend_4b0c17&4b0c18_1800.csv\n",
      "197 151\n",
      "Any one :  0.766497461928934\n",
      "At position 1 and 2 :  0.6395939086294417\n",
      "At position 1 :  0.4365482233502538\n",
      "At position 2 :  0.20304568527918782\n",
      "At position 3 :  0.12690355329949238\n",
      "0.4365482233502538\n",
      "4356000 2700000\n"
     ]
    },
    {
     "name": "stderr",
     "output_type": "stream",
     "text": [
      "C:\\Users\\nilu1\\Anaconda3\\lib\\site-packages\\sklearn\\linear_model\\logistic.py:947: ConvergenceWarning: lbfgs failed to converge. Increase the number of iterations.\n",
      "  \"of iterations.\", ConvergenceWarning)\n"
     ]
    },
    {
     "name": "stdout",
     "output_type": "stream",
     "text": [
      "Acc_wGyro_600_wininituniend_4b0c17&4b0c18_1800.csv\n",
      "197 163\n",
      "Any one :  0.8274111675126904\n",
      "At position 1 and 2 :  0.6802030456852792\n",
      "At position 1 :  0.43147208121827413\n",
      "At position 2 :  0.24873096446700507\n",
      "At position 3 :  0.14720812182741116\n",
      "0.43147208121827413\n",
      "4356000 3600000\n"
     ]
    },
    {
     "name": "stderr",
     "output_type": "stream",
     "text": [
      "C:\\Users\\nilu1\\Anaconda3\\lib\\site-packages\\sklearn\\linear_model\\logistic.py:947: ConvergenceWarning: lbfgs failed to converge. Increase the number of iterations.\n",
      "  \"of iterations.\", ConvergenceWarning)\n"
     ]
    },
    {
     "name": "stdout",
     "output_type": "stream",
     "text": [
      "Acc_wGyro_600_wininituniend_4b0c17&4b0c18_1800.csv\n",
      "197 161\n",
      "Any one :  0.817258883248731\n",
      "At position 1 and 2 :  0.6903553299492385\n",
      "At position 1 :  0.467005076142132\n",
      "At position 2 :  0.2233502538071066\n",
      "At position 3 :  0.12690355329949238\n",
      "0.467005076142132\n",
      "4356000 4356000\n"
     ]
    },
    {
     "name": "stderr",
     "output_type": "stream",
     "text": [
      "C:\\Users\\nilu1\\Anaconda3\\lib\\site-packages\\sklearn\\linear_model\\logistic.py:947: ConvergenceWarning: lbfgs failed to converge. Increase the number of iterations.\n",
      "  \"of iterations.\", ConvergenceWarning)\n"
     ]
    },
    {
     "name": "stdout",
     "output_type": "stream",
     "text": [
      "Acc_wGyro_600_wininituniend_4b0c17&4b0c18_1800.csv\n",
      "197 166\n",
      "Any one :  0.8426395939086294\n",
      "At position 1 and 2 :  0.7055837563451777\n",
      "At position 1 :  0.4416243654822335\n",
      "At position 2 :  0.2639593908629442\n",
      "At position 3 :  0.13705583756345177\n",
      "0.4416243654822335\n",
      "4356000 4356000\n"
     ]
    },
    {
     "name": "stderr",
     "output_type": "stream",
     "text": [
      "C:\\Users\\nilu1\\Anaconda3\\lib\\site-packages\\sklearn\\linear_model\\logistic.py:947: ConvergenceWarning: lbfgs failed to converge. Increase the number of iterations.\n",
      "  \"of iterations.\", ConvergenceWarning)\n"
     ]
    },
    {
     "name": "stdout",
     "output_type": "stream",
     "text": [
      "Acc_wGyro_600_wininituniend_4b0c17&4b0c18_1800.csv\n",
      "197 166\n",
      "Any one :  0.8426395939086294\n",
      "At position 1 and 2 :  0.7055837563451777\n",
      "At position 1 :  0.4416243654822335\n",
      "At position 2 :  0.2639593908629442\n",
      "At position 3 :  0.13705583756345177\n",
      "0.4416243654822335\n",
      "2711\n",
      "6\n",
      "4514400 900000\n"
     ]
    },
    {
     "name": "stderr",
     "output_type": "stream",
     "text": [
      "C:\\Users\\nilu1\\Anaconda3\\lib\\site-packages\\sklearn\\linear_model\\logistic.py:947: ConvergenceWarning: lbfgs failed to converge. Increase the number of iterations.\n",
      "  \"of iterations.\", ConvergenceWarning)\n"
     ]
    },
    {
     "name": "stdout",
     "output_type": "stream",
     "text": [
      "Acc_wGyro_600_wininituni_4b0c17&4b0c18_1800.csv\n",
      "204 169\n",
      "Any one :  0.8284313725490197\n",
      "At position 1 and 2 :  0.6911764705882353\n",
      "At position 1 :  0.44607843137254904\n",
      "At position 2 :  0.24509803921568626\n",
      "At position 3 :  0.13725490196078433\n",
      "0.44607843137254904\n",
      "4514400 1800000\n"
     ]
    },
    {
     "name": "stderr",
     "output_type": "stream",
     "text": [
      "C:\\Users\\nilu1\\Anaconda3\\lib\\site-packages\\sklearn\\linear_model\\logistic.py:947: ConvergenceWarning: lbfgs failed to converge. Increase the number of iterations.\n",
      "  \"of iterations.\", ConvergenceWarning)\n"
     ]
    },
    {
     "name": "stdout",
     "output_type": "stream",
     "text": [
      "Acc_wGyro_600_wininituni_4b0c17&4b0c18_1800.csv\n",
      "204 171\n",
      "Any one :  0.8382352941176471\n",
      "At position 1 and 2 :  0.6862745098039216\n",
      "At position 1 :  0.4803921568627451\n",
      "At position 2 :  0.20588235294117646\n",
      "At position 3 :  0.15196078431372548\n",
      "0.4803921568627451\n",
      "4514400 2700000\n"
     ]
    },
    {
     "name": "stderr",
     "output_type": "stream",
     "text": [
      "C:\\Users\\nilu1\\Anaconda3\\lib\\site-packages\\sklearn\\linear_model\\logistic.py:947: ConvergenceWarning: lbfgs failed to converge. Increase the number of iterations.\n",
      "  \"of iterations.\", ConvergenceWarning)\n"
     ]
    },
    {
     "name": "stdout",
     "output_type": "stream",
     "text": [
      "Acc_wGyro_600_wininituni_4b0c17&4b0c18_1800.csv\n",
      "204 175\n",
      "Any one :  0.8578431372549019\n",
      "At position 1 and 2 :  0.7058823529411765\n",
      "At position 1 :  0.49019607843137253\n",
      "At position 2 :  0.21568627450980393\n",
      "At position 3 :  0.15196078431372548\n",
      "0.49019607843137253\n",
      "4514400 3600000\n"
     ]
    },
    {
     "name": "stderr",
     "output_type": "stream",
     "text": [
      "C:\\Users\\nilu1\\Anaconda3\\lib\\site-packages\\sklearn\\linear_model\\logistic.py:947: ConvergenceWarning: lbfgs failed to converge. Increase the number of iterations.\n",
      "  \"of iterations.\", ConvergenceWarning)\n"
     ]
    },
    {
     "name": "stdout",
     "output_type": "stream",
     "text": [
      "Acc_wGyro_600_wininituni_4b0c17&4b0c18_1800.csv\n",
      "204 175\n",
      "Any one :  0.8578431372549019\n",
      "At position 1 and 2 :  0.7107843137254902\n",
      "At position 1 :  0.4852941176470588\n",
      "At position 2 :  0.22549019607843138\n",
      "At position 3 :  0.14705882352941177\n",
      "0.4852941176470588\n",
      "4514400 4500000\n"
     ]
    },
    {
     "name": "stderr",
     "output_type": "stream",
     "text": [
      "C:\\Users\\nilu1\\Anaconda3\\lib\\site-packages\\sklearn\\linear_model\\logistic.py:947: ConvergenceWarning: lbfgs failed to converge. Increase the number of iterations.\n",
      "  \"of iterations.\", ConvergenceWarning)\n"
     ]
    },
    {
     "name": "stdout",
     "output_type": "stream",
     "text": [
      "Acc_wGyro_600_wininituni_4b0c17&4b0c18_1800.csv\n",
      "204 173\n",
      "Any one :  0.8480392156862745\n",
      "At position 1 and 2 :  0.7107843137254902\n",
      "At position 1 :  0.4852941176470588\n",
      "At position 2 :  0.22549019607843138\n",
      "At position 3 :  0.13725490196078433\n",
      "0.4852941176470588\n",
      "4514400 4514400\n"
     ]
    },
    {
     "name": "stderr",
     "output_type": "stream",
     "text": [
      "C:\\Users\\nilu1\\Anaconda3\\lib\\site-packages\\sklearn\\linear_model\\logistic.py:947: ConvergenceWarning: lbfgs failed to converge. Increase the number of iterations.\n",
      "  \"of iterations.\", ConvergenceWarning)\n"
     ]
    },
    {
     "name": "stdout",
     "output_type": "stream",
     "text": [
      "Acc_wGyro_600_wininituni_4b0c17&4b0c18_1800.csv\n",
      "204 178\n",
      "Any one :  0.8725490196078431\n",
      "At position 1 and 2 :  0.7303921568627451\n",
      "At position 1 :  0.5\n",
      "At position 2 :  0.23039215686274508\n",
      "At position 3 :  0.14215686274509803\n",
      "0.5\n",
      "2357\n",
      "5\n",
      "5234400 1200000\n"
     ]
    },
    {
     "name": "stderr",
     "output_type": "stream",
     "text": [
      "C:\\Users\\nilu1\\Anaconda3\\lib\\site-packages\\sklearn\\linear_model\\logistic.py:947: ConvergenceWarning: lbfgs failed to converge. Increase the number of iterations.\n",
      "  \"of iterations.\", ConvergenceWarning)\n"
     ]
    },
    {
     "name": "stdout",
     "output_type": "stream",
     "text": [
      "Acc_wGyro_800_window_4b0c17&4b0c18_2400.csv\n",
      "177 142\n",
      "Any one :  0.8022598870056498\n",
      "At position 1 and 2 :  0.655367231638418\n",
      "At position 1 :  0.480225988700565\n",
      "At position 2 :  0.1751412429378531\n",
      "At position 3 :  0.14689265536723164\n",
      "0.480225988700565\n",
      "5234400 2400000\n"
     ]
    },
    {
     "name": "stderr",
     "output_type": "stream",
     "text": [
      "C:\\Users\\nilu1\\Anaconda3\\lib\\site-packages\\sklearn\\linear_model\\logistic.py:947: ConvergenceWarning: lbfgs failed to converge. Increase the number of iterations.\n",
      "  \"of iterations.\", ConvergenceWarning)\n"
     ]
    },
    {
     "name": "stdout",
     "output_type": "stream",
     "text": [
      "Acc_wGyro_800_window_4b0c17&4b0c18_2400.csv\n",
      "177 152\n",
      "Any one :  0.8587570621468926\n",
      "At position 1 and 2 :  0.7231638418079096\n",
      "At position 1 :  0.5932203389830508\n",
      "At position 2 :  0.12994350282485875\n",
      "At position 3 :  0.13559322033898305\n",
      "0.5932203389830508\n",
      "5234400 3600000\n"
     ]
    },
    {
     "name": "stderr",
     "output_type": "stream",
     "text": [
      "C:\\Users\\nilu1\\Anaconda3\\lib\\site-packages\\sklearn\\linear_model\\logistic.py:947: ConvergenceWarning: lbfgs failed to converge. Increase the number of iterations.\n",
      "  \"of iterations.\", ConvergenceWarning)\n"
     ]
    },
    {
     "name": "stdout",
     "output_type": "stream",
     "text": [
      "Acc_wGyro_800_window_4b0c17&4b0c18_2400.csv\n",
      "177 155\n",
      "Any one :  0.8757062146892656\n",
      "At position 1 and 2 :  0.768361581920904\n",
      "At position 1 :  0.6101694915254238\n",
      "At position 2 :  0.15819209039548024\n",
      "At position 3 :  0.10734463276836158\n",
      "0.6101694915254238\n",
      "5234400 4800000\n"
     ]
    },
    {
     "name": "stderr",
     "output_type": "stream",
     "text": [
      "C:\\Users\\nilu1\\Anaconda3\\lib\\site-packages\\sklearn\\linear_model\\logistic.py:947: ConvergenceWarning: lbfgs failed to converge. Increase the number of iterations.\n",
      "  \"of iterations.\", ConvergenceWarning)\n"
     ]
    },
    {
     "name": "stdout",
     "output_type": "stream",
     "text": [
      "Acc_wGyro_800_window_4b0c17&4b0c18_2400.csv\n",
      "177 156\n",
      "Any one :  0.8813559322033898\n",
      "At position 1 and 2 :  0.7796610169491526\n",
      "At position 1 :  0.6214689265536724\n",
      "At position 2 :  0.15819209039548024\n",
      "At position 3 :  0.1016949152542373\n",
      "0.6214689265536724\n",
      "5234400 5234400\n"
     ]
    },
    {
     "name": "stderr",
     "output_type": "stream",
     "text": [
      "C:\\Users\\nilu1\\Anaconda3\\lib\\site-packages\\sklearn\\linear_model\\logistic.py:947: ConvergenceWarning: lbfgs failed to converge. Increase the number of iterations.\n",
      "  \"of iterations.\", ConvergenceWarning)\n"
     ]
    },
    {
     "name": "stdout",
     "output_type": "stream",
     "text": [
      "Acc_wGyro_800_window_4b0c17&4b0c18_2400.csv\n",
      "177 157\n",
      "Any one :  0.8870056497175142\n",
      "At position 1 and 2 :  0.7853107344632768\n",
      "At position 1 :  0.6271186440677966\n",
      "At position 2 :  0.15819209039548024\n",
      "At position 3 :  0.1016949152542373\n",
      "0.6271186440677966\n",
      "2616\n",
      "6\n",
      "5808000 1200000\n"
     ]
    },
    {
     "name": "stderr",
     "output_type": "stream",
     "text": [
      "C:\\Users\\nilu1\\Anaconda3\\lib\\site-packages\\sklearn\\linear_model\\logistic.py:947: ConvergenceWarning: lbfgs failed to converge. Increase the number of iterations.\n",
      "  \"of iterations.\", ConvergenceWarning)\n"
     ]
    },
    {
     "name": "stdout",
     "output_type": "stream",
     "text": [
      "Acc_wGyro_800_wininituniend_4b0c17&4b0c18_2400.csv\n",
      "197 154\n",
      "Any one :  0.7817258883248731\n",
      "At position 1 and 2 :  0.6345177664974619\n",
      "At position 1 :  0.4010152284263959\n",
      "At position 2 :  0.233502538071066\n",
      "At position 3 :  0.14720812182741116\n",
      "0.4010152284263959\n",
      "5808000 2400000\n"
     ]
    },
    {
     "name": "stderr",
     "output_type": "stream",
     "text": [
      "C:\\Users\\nilu1\\Anaconda3\\lib\\site-packages\\sklearn\\linear_model\\logistic.py:947: ConvergenceWarning: lbfgs failed to converge. Increase the number of iterations.\n",
      "  \"of iterations.\", ConvergenceWarning)\n"
     ]
    },
    {
     "name": "stdout",
     "output_type": "stream",
     "text": [
      "Acc_wGyro_800_wininituniend_4b0c17&4b0c18_2400.csv\n",
      "197 156\n",
      "Any one :  0.7918781725888325\n",
      "At position 1 and 2 :  0.6903553299492385\n",
      "At position 1 :  0.4619289340101523\n",
      "At position 2 :  0.22842639593908629\n",
      "At position 3 :  0.10152284263959391\n",
      "0.4619289340101523\n",
      "5808000 3600000\n"
     ]
    },
    {
     "name": "stderr",
     "output_type": "stream",
     "text": [
      "C:\\Users\\nilu1\\Anaconda3\\lib\\site-packages\\sklearn\\linear_model\\logistic.py:947: ConvergenceWarning: lbfgs failed to converge. Increase the number of iterations.\n",
      "  \"of iterations.\", ConvergenceWarning)\n"
     ]
    },
    {
     "name": "stdout",
     "output_type": "stream",
     "text": [
      "Acc_wGyro_800_wininituniend_4b0c17&4b0c18_2400.csv\n",
      "197 158\n",
      "Any one :  0.8020304568527918\n",
      "At position 1 and 2 :  0.6548223350253807\n",
      "At position 1 :  0.4619289340101523\n",
      "At position 2 :  0.19289340101522842\n",
      "At position 3 :  0.14720812182741116\n",
      "0.4619289340101523\n",
      "5808000 4800000\n"
     ]
    },
    {
     "name": "stderr",
     "output_type": "stream",
     "text": [
      "C:\\Users\\nilu1\\Anaconda3\\lib\\site-packages\\sklearn\\linear_model\\logistic.py:947: ConvergenceWarning: lbfgs failed to converge. Increase the number of iterations.\n",
      "  \"of iterations.\", ConvergenceWarning)\n"
     ]
    },
    {
     "name": "stdout",
     "output_type": "stream",
     "text": [
      "Acc_wGyro_800_wininituniend_4b0c17&4b0c18_2400.csv\n",
      "197 158\n",
      "Any one :  0.8020304568527918\n",
      "At position 1 and 2 :  0.6598984771573604\n",
      "At position 1 :  0.4873096446700508\n",
      "At position 2 :  0.17258883248730963\n",
      "At position 3 :  0.14213197969543148\n",
      "0.4873096446700508\n",
      "5808000 5808000\n"
     ]
    },
    {
     "name": "stderr",
     "output_type": "stream",
     "text": [
      "C:\\Users\\nilu1\\Anaconda3\\lib\\site-packages\\sklearn\\linear_model\\logistic.py:947: ConvergenceWarning: lbfgs failed to converge. Increase the number of iterations.\n",
      "  \"of iterations.\", ConvergenceWarning)\n"
     ]
    },
    {
     "name": "stdout",
     "output_type": "stream",
     "text": [
      "Acc_wGyro_800_wininituniend_4b0c17&4b0c18_2400.csv\n",
      "197 158\n",
      "Any one :  0.8020304568527918\n",
      "At position 1 and 2 :  0.6649746192893401\n",
      "At position 1 :  0.5076142131979695\n",
      "At position 2 :  0.15736040609137056\n",
      "At position 3 :  0.13705583756345177\n",
      "0.5076142131979695\n",
      "5808000 5808000\n"
     ]
    },
    {
     "name": "stderr",
     "output_type": "stream",
     "text": [
      "C:\\Users\\nilu1\\Anaconda3\\lib\\site-packages\\sklearn\\linear_model\\logistic.py:947: ConvergenceWarning: lbfgs failed to converge. Increase the number of iterations.\n",
      "  \"of iterations.\", ConvergenceWarning)\n"
     ]
    },
    {
     "name": "stdout",
     "output_type": "stream",
     "text": [
      "Acc_wGyro_800_wininituniend_4b0c17&4b0c18_2400.csv\n",
      "197 158\n",
      "Any one :  0.8020304568527918\n",
      "At position 1 and 2 :  0.6649746192893401\n",
      "At position 1 :  0.5076142131979695\n",
      "At position 2 :  0.15736040609137056\n",
      "At position 3 :  0.13705583756345177\n",
      "0.5076142131979695\n",
      "2711\n",
      "6\n",
      "6019200 1200000\n"
     ]
    },
    {
     "name": "stderr",
     "output_type": "stream",
     "text": [
      "C:\\Users\\nilu1\\Anaconda3\\lib\\site-packages\\sklearn\\linear_model\\logistic.py:947: ConvergenceWarning: lbfgs failed to converge. Increase the number of iterations.\n",
      "  \"of iterations.\", ConvergenceWarning)\n"
     ]
    },
    {
     "name": "stdout",
     "output_type": "stream",
     "text": [
      "Acc_wGyro_800_wininituni_4b0c17&4b0c18_2400.csv\n",
      "204 152\n",
      "Any one :  0.7450980392156863\n",
      "At position 1 and 2 :  0.6225490196078431\n",
      "At position 1 :  0.4019607843137255\n",
      "At position 2 :  0.22058823529411764\n",
      "At position 3 :  0.12254901960784313\n",
      "0.4019607843137255\n",
      "6019200 2400000\n"
     ]
    },
    {
     "name": "stderr",
     "output_type": "stream",
     "text": [
      "C:\\Users\\nilu1\\Anaconda3\\lib\\site-packages\\sklearn\\linear_model\\logistic.py:947: ConvergenceWarning: lbfgs failed to converge. Increase the number of iterations.\n",
      "  \"of iterations.\", ConvergenceWarning)\n"
     ]
    },
    {
     "name": "stdout",
     "output_type": "stream",
     "text": [
      "Acc_wGyro_800_wininituni_4b0c17&4b0c18_2400.csv\n",
      "204 165\n",
      "Any one :  0.8088235294117647\n",
      "At position 1 and 2 :  0.6323529411764706\n",
      "At position 1 :  0.45098039215686275\n",
      "At position 2 :  0.18137254901960784\n",
      "At position 3 :  0.17647058823529413\n",
      "0.45098039215686275\n",
      "6019200 3600000\n"
     ]
    },
    {
     "name": "stderr",
     "output_type": "stream",
     "text": [
      "C:\\Users\\nilu1\\Anaconda3\\lib\\site-packages\\sklearn\\linear_model\\logistic.py:947: ConvergenceWarning: lbfgs failed to converge. Increase the number of iterations.\n",
      "  \"of iterations.\", ConvergenceWarning)\n"
     ]
    },
    {
     "name": "stdout",
     "output_type": "stream",
     "text": [
      "Acc_wGyro_800_wininituni_4b0c17&4b0c18_2400.csv\n",
      "204 164\n",
      "Any one :  0.803921568627451\n",
      "At position 1 and 2 :  0.6715686274509803\n",
      "At position 1 :  0.46078431372549017\n",
      "At position 2 :  0.2107843137254902\n",
      "At position 3 :  0.1323529411764706\n",
      "0.46078431372549017\n",
      "6019200 4800000\n"
     ]
    },
    {
     "name": "stderr",
     "output_type": "stream",
     "text": [
      "C:\\Users\\nilu1\\Anaconda3\\lib\\site-packages\\sklearn\\linear_model\\logistic.py:947: ConvergenceWarning: lbfgs failed to converge. Increase the number of iterations.\n",
      "  \"of iterations.\", ConvergenceWarning)\n"
     ]
    },
    {
     "name": "stdout",
     "output_type": "stream",
     "text": [
      "Acc_wGyro_800_wininituni_4b0c17&4b0c18_2400.csv\n",
      "204 171\n",
      "Any one :  0.8382352941176471\n",
      "At position 1 and 2 :  0.7058823529411765\n",
      "At position 1 :  0.5098039215686274\n",
      "At position 2 :  0.19607843137254902\n",
      "At position 3 :  0.1323529411764706\n",
      "0.5098039215686274\n",
      "6019200 6000000\n"
     ]
    },
    {
     "name": "stderr",
     "output_type": "stream",
     "text": [
      "C:\\Users\\nilu1\\Anaconda3\\lib\\site-packages\\sklearn\\linear_model\\logistic.py:947: ConvergenceWarning: lbfgs failed to converge. Increase the number of iterations.\n",
      "  \"of iterations.\", ConvergenceWarning)\n"
     ]
    },
    {
     "name": "stdout",
     "output_type": "stream",
     "text": [
      "Acc_wGyro_800_wininituni_4b0c17&4b0c18_2400.csv\n",
      "204 172\n",
      "Any one :  0.8431372549019608\n",
      "At position 1 and 2 :  0.7009803921568627\n",
      "At position 1 :  0.47549019607843135\n",
      "At position 2 :  0.22549019607843138\n",
      "At position 3 :  0.14215686274509803\n",
      "0.47549019607843135\n",
      "6019200 6019200\n"
     ]
    },
    {
     "name": "stderr",
     "output_type": "stream",
     "text": [
      "C:\\Users\\nilu1\\Anaconda3\\lib\\site-packages\\sklearn\\linear_model\\logistic.py:947: ConvergenceWarning: lbfgs failed to converge. Increase the number of iterations.\n",
      "  \"of iterations.\", ConvergenceWarning)\n"
     ]
    },
    {
     "name": "stdout",
     "output_type": "stream",
     "text": [
      "Acc_wGyro_800_wininituni_4b0c17&4b0c18_2400.csv\n",
      "204 169\n",
      "Any one :  0.8284313725490197\n",
      "At position 1 and 2 :  0.7205882352941176\n",
      "At position 1 :  0.4852941176470588\n",
      "At position 2 :  0.23529411764705882\n",
      "At position 3 :  0.10784313725490197\n",
      "0.4852941176470588\n",
      "2729\n",
      "6\n",
      "1515000 300000\n"
     ]
    },
    {
     "name": "stderr",
     "output_type": "stream",
     "text": [
      "C:\\Users\\nilu1\\Anaconda3\\lib\\site-packages\\sklearn\\linear_model\\logistic.py:947: ConvergenceWarning: lbfgs failed to converge. Increase the number of iterations.\n",
      "  \"of iterations.\", ConvergenceWarning)\n"
     ]
    },
    {
     "name": "stdout",
     "output_type": "stream",
     "text": [
      "Acc_w_200_wininituniend_4b0c17&4b0c18_600.csv\n",
      "205 111\n",
      "Any one :  0.5414634146341464\n",
      "At position 1 and 2 :  0.45365853658536587\n",
      "At position 1 :  0.25853658536585367\n",
      "At position 2 :  0.1951219512195122\n",
      "At position 3 :  0.08780487804878048\n",
      "0.25853658536585367\n",
      "1515000 600000\n"
     ]
    },
    {
     "name": "stderr",
     "output_type": "stream",
     "text": [
      "C:\\Users\\nilu1\\Anaconda3\\lib\\site-packages\\sklearn\\linear_model\\logistic.py:947: ConvergenceWarning: lbfgs failed to converge. Increase the number of iterations.\n",
      "  \"of iterations.\", ConvergenceWarning)\n"
     ]
    },
    {
     "name": "stdout",
     "output_type": "stream",
     "text": [
      "Acc_w_200_wininituniend_4b0c17&4b0c18_600.csv\n",
      "205 125\n",
      "Any one :  0.6097560975609756\n",
      "At position 1 and 2 :  0.4878048780487805\n",
      "At position 1 :  0.2975609756097561\n",
      "At position 2 :  0.1902439024390244\n",
      "At position 3 :  0.12195121951219512\n",
      "0.2975609756097561\n",
      "1515000 900000\n"
     ]
    },
    {
     "name": "stderr",
     "output_type": "stream",
     "text": [
      "C:\\Users\\nilu1\\Anaconda3\\lib\\site-packages\\sklearn\\linear_model\\logistic.py:947: ConvergenceWarning: lbfgs failed to converge. Increase the number of iterations.\n",
      "  \"of iterations.\", ConvergenceWarning)\n"
     ]
    },
    {
     "name": "stdout",
     "output_type": "stream",
     "text": [
      "Acc_w_200_wininituniend_4b0c17&4b0c18_600.csv\n",
      "205 133\n",
      "Any one :  0.6487804878048781\n",
      "At position 1 and 2 :  0.526829268292683\n",
      "At position 1 :  0.3073170731707317\n",
      "At position 2 :  0.21951219512195122\n",
      "At position 3 :  0.12195121951219512\n",
      "0.3073170731707317\n",
      "1515000 1200000\n"
     ]
    },
    {
     "name": "stderr",
     "output_type": "stream",
     "text": [
      "C:\\Users\\nilu1\\Anaconda3\\lib\\site-packages\\sklearn\\linear_model\\logistic.py:947: ConvergenceWarning: lbfgs failed to converge. Increase the number of iterations.\n",
      "  \"of iterations.\", ConvergenceWarning)\n"
     ]
    },
    {
     "name": "stdout",
     "output_type": "stream",
     "text": [
      "Acc_w_200_wininituniend_4b0c17&4b0c18_600.csv\n",
      "205 133\n",
      "Any one :  0.6487804878048781\n",
      "At position 1 and 2 :  0.4926829268292683\n",
      "At position 1 :  0.34146341463414637\n",
      "At position 2 :  0.15121951219512195\n",
      "At position 3 :  0.15609756097560976\n",
      "0.34146341463414637\n",
      "1515000 1500000\n"
     ]
    },
    {
     "name": "stderr",
     "output_type": "stream",
     "text": [
      "C:\\Users\\nilu1\\Anaconda3\\lib\\site-packages\\sklearn\\linear_model\\logistic.py:947: ConvergenceWarning: lbfgs failed to converge. Increase the number of iterations.\n",
      "  \"of iterations.\", ConvergenceWarning)\n"
     ]
    },
    {
     "name": "stdout",
     "output_type": "stream",
     "text": [
      "Acc_w_200_wininituniend_4b0c17&4b0c18_600.csv\n",
      "205 133\n",
      "Any one :  0.6487804878048781\n",
      "At position 1 and 2 :  0.5219512195121951\n",
      "At position 1 :  0.33170731707317075\n",
      "At position 2 :  0.1902439024390244\n",
      "At position 3 :  0.12682926829268293\n",
      "0.33170731707317075\n",
      "1515000 1515000\n"
     ]
    },
    {
     "name": "stderr",
     "output_type": "stream",
     "text": [
      "C:\\Users\\nilu1\\Anaconda3\\lib\\site-packages\\sklearn\\linear_model\\logistic.py:947: ConvergenceWarning: lbfgs failed to converge. Increase the number of iterations.\n",
      "  \"of iterations.\", ConvergenceWarning)\n"
     ]
    },
    {
     "name": "stdout",
     "output_type": "stream",
     "text": [
      "Acc_w_200_wininituniend_4b0c17&4b0c18_600.csv\n",
      "205 130\n",
      "Any one :  0.6341463414634146\n",
      "At position 1 and 2 :  0.5073170731707317\n",
      "At position 1 :  0.32195121951219513\n",
      "At position 2 :  0.18536585365853658\n",
      "At position 3 :  0.12682926829268293\n",
      "0.32195121951219513\n",
      "2729\n",
      "6\n",
      "1515000 300000\n"
     ]
    },
    {
     "name": "stderr",
     "output_type": "stream",
     "text": [
      "C:\\Users\\nilu1\\Anaconda3\\lib\\site-packages\\sklearn\\linear_model\\logistic.py:947: ConvergenceWarning: lbfgs failed to converge. Increase the number of iterations.\n",
      "  \"of iterations.\", ConvergenceWarning)\n"
     ]
    },
    {
     "name": "stdout",
     "output_type": "stream",
     "text": [
      "Acc_w_200_wininituni_4b0c17&4b0c18_600.csv\n",
      "205 142\n",
      "Any one :  0.6926829268292682\n",
      "At position 1 and 2 :  0.5609756097560976\n",
      "At position 1 :  0.35121951219512193\n",
      "At position 2 :  0.2097560975609756\n",
      "At position 3 :  0.13170731707317074\n",
      "0.35121951219512193\n",
      "1515000 600000\n"
     ]
    },
    {
     "name": "stderr",
     "output_type": "stream",
     "text": [
      "C:\\Users\\nilu1\\Anaconda3\\lib\\site-packages\\sklearn\\linear_model\\logistic.py:947: ConvergenceWarning: lbfgs failed to converge. Increase the number of iterations.\n",
      "  \"of iterations.\", ConvergenceWarning)\n"
     ]
    },
    {
     "name": "stdout",
     "output_type": "stream",
     "text": [
      "Acc_w_200_wininituni_4b0c17&4b0c18_600.csv\n",
      "205 153\n",
      "Any one :  0.7463414634146341\n",
      "At position 1 and 2 :  0.6292682926829268\n",
      "At position 1 :  0.4292682926829268\n",
      "At position 2 :  0.2\n",
      "At position 3 :  0.11707317073170732\n",
      "0.4292682926829268\n",
      "1515000 900000\n"
     ]
    },
    {
     "name": "stderr",
     "output_type": "stream",
     "text": [
      "C:\\Users\\nilu1\\Anaconda3\\lib\\site-packages\\sklearn\\linear_model\\logistic.py:947: ConvergenceWarning: lbfgs failed to converge. Increase the number of iterations.\n",
      "  \"of iterations.\", ConvergenceWarning)\n"
     ]
    },
    {
     "name": "stdout",
     "output_type": "stream",
     "text": [
      "Acc_w_200_wininituni_4b0c17&4b0c18_600.csv\n",
      "205 152\n",
      "Any one :  0.7414634146341463\n",
      "At position 1 and 2 :  0.6487804878048781\n",
      "At position 1 :  0.4292682926829268\n",
      "At position 2 :  0.21951219512195122\n",
      "At position 3 :  0.09268292682926829\n",
      "0.4292682926829268\n",
      "1515000 1200000\n"
     ]
    },
    {
     "name": "stderr",
     "output_type": "stream",
     "text": [
      "C:\\Users\\nilu1\\Anaconda3\\lib\\site-packages\\sklearn\\linear_model\\logistic.py:947: ConvergenceWarning: lbfgs failed to converge. Increase the number of iterations.\n",
      "  \"of iterations.\", ConvergenceWarning)\n"
     ]
    },
    {
     "name": "stdout",
     "output_type": "stream",
     "text": [
      "Acc_w_200_wininituni_4b0c17&4b0c18_600.csv\n",
      "205 155\n",
      "Any one :  0.7560975609756098\n",
      "At position 1 and 2 :  0.6390243902439025\n",
      "At position 1 :  0.44878048780487806\n",
      "At position 2 :  0.1902439024390244\n",
      "At position 3 :  0.11707317073170732\n",
      "0.44878048780487806\n",
      "1515000 1500000\n"
     ]
    },
    {
     "name": "stderr",
     "output_type": "stream",
     "text": [
      "C:\\Users\\nilu1\\Anaconda3\\lib\\site-packages\\sklearn\\linear_model\\logistic.py:947: ConvergenceWarning: lbfgs failed to converge. Increase the number of iterations.\n",
      "  \"of iterations.\", ConvergenceWarning)\n"
     ]
    },
    {
     "name": "stdout",
     "output_type": "stream",
     "text": [
      "Acc_w_200_wininituni_4b0c17&4b0c18_600.csv\n",
      "205 156\n",
      "Any one :  0.7609756097560976\n",
      "At position 1 and 2 :  0.6634146341463415\n",
      "At position 1 :  0.4682926829268293\n",
      "At position 2 :  0.1951219512195122\n",
      "At position 3 :  0.0975609756097561\n",
      "0.4682926829268293\n",
      "1515000 1515000\n"
     ]
    },
    {
     "name": "stderr",
     "output_type": "stream",
     "text": [
      "C:\\Users\\nilu1\\Anaconda3\\lib\\site-packages\\sklearn\\linear_model\\logistic.py:947: ConvergenceWarning: lbfgs failed to converge. Increase the number of iterations.\n",
      "  \"of iterations.\", ConvergenceWarning)\n"
     ]
    },
    {
     "name": "stdout",
     "output_type": "stream",
     "text": [
      "Acc_w_200_wininituni_4b0c17&4b0c18_600.csv\n",
      "205 156\n",
      "Any one :  0.7609756097560976\n",
      "At position 1 and 2 :  0.6487804878048781\n",
      "At position 1 :  0.44878048780487806\n",
      "At position 2 :  0.2\n",
      "At position 3 :  0.11219512195121951\n",
      "0.44878048780487806\n",
      "2357\n",
      "5\n",
      "2617200 600000\n"
     ]
    },
    {
     "name": "stderr",
     "output_type": "stream",
     "text": [
      "C:\\Users\\nilu1\\Anaconda3\\lib\\site-packages\\sklearn\\linear_model\\logistic.py:947: ConvergenceWarning: lbfgs failed to converge. Increase the number of iterations.\n",
      "  \"of iterations.\", ConvergenceWarning)\n"
     ]
    },
    {
     "name": "stdout",
     "output_type": "stream",
     "text": [
      "Acc_w_400_window_4b0c17&4b0c18_1200.csv\n",
      "177 144\n",
      "Any one :  0.8135593220338984\n",
      "At position 1 and 2 :  0.6497175141242938\n",
      "At position 1 :  0.4689265536723164\n",
      "At position 2 :  0.1807909604519774\n",
      "At position 3 :  0.1638418079096045\n",
      "0.4689265536723164\n",
      "2617200 1200000\n"
     ]
    },
    {
     "name": "stderr",
     "output_type": "stream",
     "text": [
      "C:\\Users\\nilu1\\Anaconda3\\lib\\site-packages\\sklearn\\linear_model\\logistic.py:947: ConvergenceWarning: lbfgs failed to converge. Increase the number of iterations.\n",
      "  \"of iterations.\", ConvergenceWarning)\n"
     ]
    },
    {
     "name": "stdout",
     "output_type": "stream",
     "text": [
      "Acc_w_400_window_4b0c17&4b0c18_1200.csv\n",
      "177 151\n",
      "Any one :  0.8531073446327684\n",
      "At position 1 and 2 :  0.7401129943502824\n",
      "At position 1 :  0.5141242937853108\n",
      "At position 2 :  0.22598870056497175\n",
      "At position 3 :  0.11299435028248588\n",
      "0.5141242937853108\n",
      "2617200 1800000\n"
     ]
    },
    {
     "name": "stderr",
     "output_type": "stream",
     "text": [
      "C:\\Users\\nilu1\\Anaconda3\\lib\\site-packages\\sklearn\\linear_model\\logistic.py:947: ConvergenceWarning: lbfgs failed to converge. Increase the number of iterations.\n",
      "  \"of iterations.\", ConvergenceWarning)\n"
     ]
    },
    {
     "name": "stdout",
     "output_type": "stream",
     "text": [
      "Acc_w_400_window_4b0c17&4b0c18_1200.csv\n",
      "177 150\n",
      "Any one :  0.847457627118644\n",
      "At position 1 and 2 :  0.7909604519774012\n",
      "At position 1 :  0.5536723163841808\n",
      "At position 2 :  0.23728813559322035\n",
      "At position 3 :  0.05649717514124294\n",
      "0.5536723163841808\n",
      "2617200 2400000\n"
     ]
    },
    {
     "name": "stderr",
     "output_type": "stream",
     "text": [
      "C:\\Users\\nilu1\\Anaconda3\\lib\\site-packages\\sklearn\\linear_model\\logistic.py:947: ConvergenceWarning: lbfgs failed to converge. Increase the number of iterations.\n",
      "  \"of iterations.\", ConvergenceWarning)\n"
     ]
    },
    {
     "name": "stdout",
     "output_type": "stream",
     "text": [
      "Acc_w_400_window_4b0c17&4b0c18_1200.csv\n",
      "177 153\n",
      "Any one :  0.864406779661017\n",
      "At position 1 and 2 :  0.7796610169491526\n",
      "At position 1 :  0.5649717514124294\n",
      "At position 2 :  0.21468926553672316\n",
      "At position 3 :  0.0847457627118644\n",
      "0.5649717514124294\n",
      "2617200 2617200\n"
     ]
    },
    {
     "name": "stderr",
     "output_type": "stream",
     "text": [
      "C:\\Users\\nilu1\\Anaconda3\\lib\\site-packages\\sklearn\\linear_model\\logistic.py:947: ConvergenceWarning: lbfgs failed to converge. Increase the number of iterations.\n",
      "  \"of iterations.\", ConvergenceWarning)\n"
     ]
    },
    {
     "name": "stdout",
     "output_type": "stream",
     "text": [
      "Acc_w_400_window_4b0c17&4b0c18_1200.csv\n",
      "177 151\n",
      "Any one :  0.8531073446327684\n",
      "At position 1 and 2 :  0.751412429378531\n",
      "At position 1 :  0.5536723163841808\n",
      "At position 2 :  0.1977401129943503\n",
      "At position 3 :  0.1016949152542373\n",
      "0.5536723163841808\n",
      "2616\n",
      "6\n",
      "2904000 600000\n"
     ]
    },
    {
     "name": "stderr",
     "output_type": "stream",
     "text": [
      "C:\\Users\\nilu1\\Anaconda3\\lib\\site-packages\\sklearn\\linear_model\\logistic.py:947: ConvergenceWarning: lbfgs failed to converge. Increase the number of iterations.\n",
      "  \"of iterations.\", ConvergenceWarning)\n"
     ]
    },
    {
     "name": "stdout",
     "output_type": "stream",
     "text": [
      "Acc_w_400_wininituniend_4b0c17&4b0c18_1200.csv\n",
      "197 129\n",
      "Any one :  0.6548223350253807\n",
      "At position 1 and 2 :  0.5329949238578681\n",
      "At position 1 :  0.3197969543147208\n",
      "At position 2 :  0.2131979695431472\n",
      "At position 3 :  0.1218274111675127\n",
      "0.3197969543147208\n",
      "2904000 1200000\n"
     ]
    },
    {
     "name": "stderr",
     "output_type": "stream",
     "text": [
      "C:\\Users\\nilu1\\Anaconda3\\lib\\site-packages\\sklearn\\linear_model\\logistic.py:947: ConvergenceWarning: lbfgs failed to converge. Increase the number of iterations.\n",
      "  \"of iterations.\", ConvergenceWarning)\n"
     ]
    },
    {
     "name": "stdout",
     "output_type": "stream",
     "text": [
      "Acc_w_400_wininituniend_4b0c17&4b0c18_1200.csv\n",
      "197 136\n",
      "Any one :  0.6903553299492385\n",
      "At position 1 and 2 :  0.5939086294416244\n",
      "At position 1 :  0.3553299492385787\n",
      "At position 2 :  0.23857868020304568\n",
      "At position 3 :  0.09644670050761421\n",
      "0.3553299492385787\n",
      "2904000 1800000\n"
     ]
    },
    {
     "name": "stderr",
     "output_type": "stream",
     "text": [
      "C:\\Users\\nilu1\\Anaconda3\\lib\\site-packages\\sklearn\\linear_model\\logistic.py:947: ConvergenceWarning: lbfgs failed to converge. Increase the number of iterations.\n",
      "  \"of iterations.\", ConvergenceWarning)\n"
     ]
    },
    {
     "name": "stdout",
     "output_type": "stream",
     "text": [
      "Acc_w_400_wininituniend_4b0c17&4b0c18_1200.csv\n",
      "197 142\n",
      "Any one :  0.7208121827411168\n",
      "At position 1 and 2 :  0.5685279187817259\n",
      "At position 1 :  0.350253807106599\n",
      "At position 2 :  0.2182741116751269\n",
      "At position 3 :  0.15228426395939088\n",
      "0.350253807106599\n",
      "2904000 2400000\n"
     ]
    },
    {
     "name": "stderr",
     "output_type": "stream",
     "text": [
      "C:\\Users\\nilu1\\Anaconda3\\lib\\site-packages\\sklearn\\linear_model\\logistic.py:947: ConvergenceWarning: lbfgs failed to converge. Increase the number of iterations.\n",
      "  \"of iterations.\", ConvergenceWarning)\n"
     ]
    },
    {
     "name": "stdout",
     "output_type": "stream",
     "text": [
      "Acc_w_400_wininituniend_4b0c17&4b0c18_1200.csv\n",
      "197 147\n",
      "Any one :  0.7461928934010152\n",
      "At position 1 and 2 :  0.5989847715736041\n",
      "At position 1 :  0.3604060913705584\n",
      "At position 2 :  0.23857868020304568\n",
      "At position 3 :  0.14720812182741116\n",
      "0.3604060913705584\n",
      "2904000 2904000\n"
     ]
    },
    {
     "name": "stderr",
     "output_type": "stream",
     "text": [
      "C:\\Users\\nilu1\\Anaconda3\\lib\\site-packages\\sklearn\\linear_model\\logistic.py:947: ConvergenceWarning: lbfgs failed to converge. Increase the number of iterations.\n",
      "  \"of iterations.\", ConvergenceWarning)\n"
     ]
    },
    {
     "name": "stdout",
     "output_type": "stream",
     "text": [
      "Acc_w_400_wininituniend_4b0c17&4b0c18_1200.csv\n",
      "197 144\n",
      "Any one :  0.7309644670050761\n",
      "At position 1 and 2 :  0.583756345177665\n",
      "At position 1 :  0.38578680203045684\n",
      "At position 2 :  0.19796954314720813\n",
      "At position 3 :  0.14720812182741116\n",
      "0.38578680203045684\n",
      "2904000 2904000\n"
     ]
    },
    {
     "name": "stderr",
     "output_type": "stream",
     "text": [
      "C:\\Users\\nilu1\\Anaconda3\\lib\\site-packages\\sklearn\\linear_model\\logistic.py:947: ConvergenceWarning: lbfgs failed to converge. Increase the number of iterations.\n",
      "  \"of iterations.\", ConvergenceWarning)\n"
     ]
    },
    {
     "name": "stdout",
     "output_type": "stream",
     "text": [
      "Acc_w_400_wininituniend_4b0c17&4b0c18_1200.csv\n",
      "197 144\n",
      "Any one :  0.7309644670050761\n",
      "At position 1 and 2 :  0.583756345177665\n",
      "At position 1 :  0.38578680203045684\n",
      "At position 2 :  0.19796954314720813\n",
      "At position 3 :  0.14720812182741116\n",
      "0.38578680203045684\n",
      "2712\n",
      "6\n",
      "3010800 600000\n"
     ]
    },
    {
     "name": "stderr",
     "output_type": "stream",
     "text": [
      "C:\\Users\\nilu1\\Anaconda3\\lib\\site-packages\\sklearn\\linear_model\\logistic.py:947: ConvergenceWarning: lbfgs failed to converge. Increase the number of iterations.\n",
      "  \"of iterations.\", ConvergenceWarning)\n"
     ]
    },
    {
     "name": "stdout",
     "output_type": "stream",
     "text": [
      "Acc_w_400_wininituni_4b0c17&4b0c18_1200.csv\n",
      "204 151\n",
      "Any one :  0.7401960784313726\n",
      "At position 1 and 2 :  0.6176470588235294\n",
      "At position 1 :  0.4068627450980392\n",
      "At position 2 :  0.2107843137254902\n",
      "At position 3 :  0.12254901960784313\n",
      "0.4068627450980392\n",
      "3010800 1200000\n"
     ]
    },
    {
     "name": "stderr",
     "output_type": "stream",
     "text": [
      "C:\\Users\\nilu1\\Anaconda3\\lib\\site-packages\\sklearn\\linear_model\\logistic.py:947: ConvergenceWarning: lbfgs failed to converge. Increase the number of iterations.\n",
      "  \"of iterations.\", ConvergenceWarning)\n"
     ]
    },
    {
     "name": "stdout",
     "output_type": "stream",
     "text": [
      "Acc_w_400_wininituni_4b0c17&4b0c18_1200.csv\n",
      "204 160\n",
      "Any one :  0.7843137254901961\n",
      "At position 1 and 2 :  0.6470588235294118\n",
      "At position 1 :  0.4411764705882353\n",
      "At position 2 :  0.20588235294117646\n",
      "At position 3 :  0.13725490196078433\n",
      "0.4411764705882353\n",
      "3010800 1800000\n"
     ]
    },
    {
     "name": "stderr",
     "output_type": "stream",
     "text": [
      "C:\\Users\\nilu1\\Anaconda3\\lib\\site-packages\\sklearn\\linear_model\\logistic.py:947: ConvergenceWarning: lbfgs failed to converge. Increase the number of iterations.\n",
      "  \"of iterations.\", ConvergenceWarning)\n"
     ]
    },
    {
     "name": "stdout",
     "output_type": "stream",
     "text": [
      "Acc_w_400_wininituni_4b0c17&4b0c18_1200.csv\n",
      "204 158\n",
      "Any one :  0.7745098039215687\n",
      "At position 1 and 2 :  0.6470588235294118\n",
      "At position 1 :  0.4117647058823529\n",
      "At position 2 :  0.23529411764705882\n",
      "At position 3 :  0.12745098039215685\n",
      "0.4117647058823529\n",
      "3010800 2400000\n"
     ]
    },
    {
     "name": "stderr",
     "output_type": "stream",
     "text": [
      "C:\\Users\\nilu1\\Anaconda3\\lib\\site-packages\\sklearn\\linear_model\\logistic.py:947: ConvergenceWarning: lbfgs failed to converge. Increase the number of iterations.\n",
      "  \"of iterations.\", ConvergenceWarning)\n"
     ]
    },
    {
     "name": "stdout",
     "output_type": "stream",
     "text": [
      "Acc_w_400_wininituni_4b0c17&4b0c18_1200.csv\n",
      "204 157\n",
      "Any one :  0.7696078431372549\n",
      "At position 1 and 2 :  0.6666666666666666\n",
      "At position 1 :  0.44607843137254904\n",
      "At position 2 :  0.22058823529411764\n",
      "At position 3 :  0.10294117647058823\n",
      "0.44607843137254904\n",
      "3010800 3000000\n"
     ]
    },
    {
     "name": "stderr",
     "output_type": "stream",
     "text": [
      "C:\\Users\\nilu1\\Anaconda3\\lib\\site-packages\\sklearn\\linear_model\\logistic.py:947: ConvergenceWarning: lbfgs failed to converge. Increase the number of iterations.\n",
      "  \"of iterations.\", ConvergenceWarning)\n"
     ]
    },
    {
     "name": "stdout",
     "output_type": "stream",
     "text": [
      "Acc_w_400_wininituni_4b0c17&4b0c18_1200.csv\n",
      "204 162\n",
      "Any one :  0.7941176470588235\n",
      "At position 1 and 2 :  0.6813725490196079\n",
      "At position 1 :  0.4411764705882353\n",
      "At position 2 :  0.24019607843137256\n",
      "At position 3 :  0.11274509803921569\n",
      "0.4411764705882353\n",
      "3010800 3010800\n"
     ]
    },
    {
     "name": "stderr",
     "output_type": "stream",
     "text": [
      "C:\\Users\\nilu1\\Anaconda3\\lib\\site-packages\\sklearn\\linear_model\\logistic.py:947: ConvergenceWarning: lbfgs failed to converge. Increase the number of iterations.\n",
      "  \"of iterations.\", ConvergenceWarning)\n"
     ]
    },
    {
     "name": "stdout",
     "output_type": "stream",
     "text": [
      "Acc_w_400_wininituni_4b0c17&4b0c18_1200.csv\n",
      "204 167\n",
      "Any one :  0.8186274509803921\n",
      "At position 1 and 2 :  0.6470588235294118\n",
      "At position 1 :  0.4166666666666667\n",
      "At position 2 :  0.23039215686274508\n",
      "At position 3 :  0.1715686274509804\n",
      "0.4166666666666667\n",
      "2729\n",
      "6\n",
      "1515000 300000\n",
      "Gyro_200_wininituniend_4b0c17&4b0c18_600.csv\n",
      "205 140\n",
      "Any one :  0.6829268292682927\n",
      "At position 1 and 2 :  0.5317073170731708\n",
      "At position 1 :  0.2926829268292683\n",
      "At position 2 :  0.23902439024390243\n",
      "At position 3 :  0.15121951219512195\n",
      "0.2926829268292683\n",
      "1515000 600000\n",
      "Gyro_200_wininituniend_4b0c17&4b0c18_600.csv\n",
      "205 144\n",
      "Any one :  0.7024390243902439\n",
      "At position 1 and 2 :  0.5560975609756098\n",
      "At position 1 :  0.3463414634146341\n",
      "At position 2 :  0.2097560975609756\n",
      "At position 3 :  0.14634146341463414\n",
      "0.3463414634146341\n",
      "1515000 900000\n",
      "Gyro_200_wininituniend_4b0c17&4b0c18_600.csv\n",
      "205 143\n",
      "Any one :  0.697560975609756\n",
      "At position 1 and 2 :  0.5658536585365853\n",
      "At position 1 :  0.34146341463414637\n",
      "At position 2 :  0.22439024390243903\n",
      "At position 3 :  0.13170731707317074\n",
      "0.34146341463414637\n",
      "1515000 1200000\n",
      "Gyro_200_wininituniend_4b0c17&4b0c18_600.csv\n",
      "205 141\n",
      "Any one :  0.6878048780487804\n",
      "At position 1 and 2 :  0.5707317073170731\n",
      "At position 1 :  0.375609756097561\n",
      "At position 2 :  0.1951219512195122\n",
      "At position 3 :  0.11707317073170732\n",
      "0.375609756097561\n",
      "1515000 1500000\n",
      "Gyro_200_wininituniend_4b0c17&4b0c18_600.csv\n",
      "205 143\n",
      "Any one :  0.697560975609756\n",
      "At position 1 and 2 :  0.5804878048780487\n",
      "At position 1 :  0.37073170731707317\n",
      "At position 2 :  0.2097560975609756\n",
      "At position 3 :  0.11707317073170732\n",
      "0.37073170731707317\n",
      "1515000 1515000\n",
      "Gyro_200_wininituniend_4b0c17&4b0c18_600.csv\n",
      "205 140\n",
      "Any one :  0.6829268292682927\n",
      "At position 1 and 2 :  0.5707317073170731\n",
      "At position 1 :  0.37073170731707317\n",
      "At position 2 :  0.2\n",
      "At position 3 :  0.11219512195121951\n",
      "0.37073170731707317\n",
      "2729\n",
      "6\n",
      "1515000 300000\n",
      "Gyro_200_wininituni_4b0c17&4b0c18_600.csv\n",
      "205 154\n",
      "Any one :  0.751219512195122\n",
      "At position 1 and 2 :  0.5463414634146342\n",
      "At position 1 :  0.35609756097560974\n",
      "At position 2 :  0.1902439024390244\n",
      "At position 3 :  0.2048780487804878\n",
      "0.35609756097560974\n",
      "1515000 600000\n",
      "Gyro_200_wininituni_4b0c17&4b0c18_600.csv\n",
      "205 149\n",
      "Any one :  0.7268292682926829\n",
      "At position 1 and 2 :  0.5853658536585366\n",
      "At position 1 :  0.37073170731707317\n",
      "At position 2 :  0.2146341463414634\n",
      "At position 3 :  0.14146341463414633\n",
      "0.37073170731707317\n",
      "1515000 900000\n",
      "Gyro_200_wininituni_4b0c17&4b0c18_600.csv\n",
      "205 157\n",
      "Any one :  0.7658536585365854\n",
      "At position 1 and 2 :  0.6195121951219512\n",
      "At position 1 :  0.36585365853658536\n",
      "At position 2 :  0.25365853658536586\n",
      "At position 3 :  0.14634146341463414\n",
      "0.36585365853658536\n",
      "1515000 1200000\n",
      "Gyro_200_wininituni_4b0c17&4b0c18_600.csv\n",
      "205 156\n",
      "Any one :  0.7609756097560976\n",
      "At position 1 and 2 :  0.6292682926829268\n",
      "At position 1 :  0.35609756097560974\n",
      "At position 2 :  0.2731707317073171\n",
      "At position 3 :  0.13170731707317074\n",
      "0.35609756097560974\n",
      "1515000 1500000\n",
      "Gyro_200_wininituni_4b0c17&4b0c18_600.csv\n",
      "205 156\n",
      "Any one :  0.7609756097560976\n",
      "At position 1 and 2 :  0.6390243902439025\n",
      "At position 1 :  0.3804878048780488\n",
      "At position 2 :  0.25853658536585367\n",
      "At position 3 :  0.12195121951219512\n",
      "0.3804878048780488\n",
      "1515000 1515000\n",
      "Gyro_200_wininituni_4b0c17&4b0c18_600.csv\n",
      "205 156\n",
      "Any one :  0.7609756097560976\n",
      "At position 1 and 2 :  0.6341463414634146\n",
      "At position 1 :  0.3853658536585366\n",
      "At position 2 :  0.24878048780487805\n",
      "At position 3 :  0.12682926829268293\n",
      "0.3853658536585366\n",
      "2357\n",
      "5\n",
      "2617200 600000\n",
      "Gyro_400_window_4b0c17&4b0c18_1200.csv\n",
      "177 156\n",
      "Any one :  0.8813559322033898\n",
      "At position 1 and 2 :  0.7796610169491526\n",
      "At position 1 :  0.559322033898305\n",
      "At position 2 :  0.22033898305084745\n",
      "At position 3 :  0.1016949152542373\n",
      "0.559322033898305\n",
      "2617200 1200000\n",
      "Gyro_400_window_4b0c17&4b0c18_1200.csv\n",
      "177 157\n",
      "Any one :  0.8870056497175142\n",
      "At position 1 and 2 :  0.8022598870056498\n",
      "At position 1 :  0.5706214689265536\n",
      "At position 2 :  0.23163841807909605\n",
      "At position 3 :  0.0847457627118644\n",
      "0.5706214689265536\n",
      "2617200 1800000\n",
      "Gyro_400_window_4b0c17&4b0c18_1200.csv\n",
      "177 157\n",
      "Any one :  0.8870056497175142\n",
      "At position 1 and 2 :  0.8192090395480226\n",
      "At position 1 :  0.5932203389830508\n",
      "At position 2 :  0.22598870056497175\n",
      "At position 3 :  0.06779661016949153\n",
      "0.5932203389830508\n",
      "2617200 2400000\n",
      "Gyro_400_window_4b0c17&4b0c18_1200.csv\n",
      "177 165\n",
      "Any one :  0.9322033898305084\n",
      "At position 1 and 2 :  0.8248587570621468\n",
      "At position 1 :  0.576271186440678\n",
      "At position 2 :  0.24858757062146894\n",
      "At position 3 :  0.10734463276836158\n",
      "0.576271186440678\n",
      "2617200 2617200\n",
      "Gyro_400_window_4b0c17&4b0c18_1200.csv\n",
      "177 160\n",
      "Any one :  0.903954802259887\n",
      "At position 1 and 2 :  0.8305084745762712\n",
      "At position 1 :  0.5988700564971752\n",
      "At position 2 :  0.23163841807909605\n",
      "At position 3 :  0.07344632768361582\n",
      "0.5988700564971752\n",
      "2616\n",
      "6\n",
      "2904000 600000\n",
      "Gyro_400_wininituniend_4b0c17&4b0c18_1200.csv\n",
      "197 135\n",
      "Any one :  0.6852791878172588\n",
      "At position 1 and 2 :  0.5279187817258884\n",
      "At position 1 :  0.3604060913705584\n",
      "At position 2 :  0.16751269035532995\n",
      "At position 3 :  0.15736040609137056\n",
      "0.3604060913705584\n",
      "2904000 1200000\n",
      "Gyro_400_wininituniend_4b0c17&4b0c18_1200.csv\n",
      "197 144\n",
      "Any one :  0.7309644670050761\n",
      "At position 1 and 2 :  0.5482233502538071\n",
      "At position 1 :  0.350253807106599\n",
      "At position 2 :  0.19796954314720813\n",
      "At position 3 :  0.18274111675126903\n",
      "0.350253807106599\n",
      "2904000 1800000\n",
      "Gyro_400_wininituniend_4b0c17&4b0c18_1200.csv\n",
      "197 143\n",
      "Any one :  0.7258883248730964\n",
      "At position 1 and 2 :  0.5532994923857868\n",
      "At position 1 :  0.34517766497461927\n",
      "At position 2 :  0.20812182741116753\n",
      "At position 3 :  0.17258883248730963\n",
      "0.34517766497461927\n",
      "2904000 2400000\n",
      "Gyro_400_wininituniend_4b0c17&4b0c18_1200.csv\n",
      "197 138\n",
      "Any one :  0.700507614213198\n",
      "At position 1 and 2 :  0.5736040609137056\n",
      "At position 1 :  0.36548223350253806\n",
      "At position 2 :  0.20812182741116753\n",
      "At position 3 :  0.12690355329949238\n",
      "0.36548223350253806\n",
      "2904000 2904000\n",
      "Gyro_400_wininituniend_4b0c17&4b0c18_1200.csv\n",
      "197 140\n",
      "Any one :  0.7106598984771574\n",
      "At position 1 and 2 :  0.583756345177665\n",
      "At position 1 :  0.350253807106599\n",
      "At position 2 :  0.233502538071066\n",
      "At position 3 :  0.12690355329949238\n",
      "0.350253807106599\n",
      "2904000 2904000\n",
      "Gyro_400_wininituniend_4b0c17&4b0c18_1200.csv\n",
      "197 140\n",
      "Any one :  0.7106598984771574\n",
      "At position 1 and 2 :  0.583756345177665\n",
      "At position 1 :  0.350253807106599\n",
      "At position 2 :  0.233502538071066\n",
      "At position 3 :  0.12690355329949238\n",
      "0.350253807106599\n",
      "2711\n",
      "6\n",
      "3009600 600000\n",
      "Gyro_400_wininituni_4b0c17&4b0c18_1200.csv\n",
      "204 153\n",
      "Any one :  0.75\n",
      "At position 1 and 2 :  0.6372549019607843\n",
      "At position 1 :  0.4264705882352941\n",
      "At position 2 :  0.2107843137254902\n",
      "At position 3 :  0.11274509803921569\n",
      "0.4264705882352941\n",
      "3009600 1200000\n",
      "Gyro_400_wininituni_4b0c17&4b0c18_1200.csv\n",
      "204 156\n",
      "Any one :  0.7647058823529411\n",
      "At position 1 and 2 :  0.6372549019607843\n",
      "At position 1 :  0.37254901960784315\n",
      "At position 2 :  0.2647058823529412\n",
      "At position 3 :  0.12745098039215685\n",
      "0.37254901960784315\n",
      "3009600 1800000\n",
      "Gyro_400_wininituni_4b0c17&4b0c18_1200.csv\n",
      "204 161\n",
      "Any one :  0.7892156862745098\n",
      "At position 1 and 2 :  0.6127450980392157\n",
      "At position 1 :  0.4019607843137255\n",
      "At position 2 :  0.2107843137254902\n",
      "At position 3 :  0.17647058823529413\n",
      "0.4019607843137255\n",
      "3009600 2400000\n",
      "Gyro_400_wininituni_4b0c17&4b0c18_1200.csv\n",
      "204 165\n",
      "Any one :  0.8088235294117647\n",
      "At position 1 and 2 :  0.6127450980392157\n",
      "At position 1 :  0.39705882352941174\n",
      "At position 2 :  0.21568627450980393\n",
      "At position 3 :  0.19607843137254902\n",
      "0.39705882352941174\n",
      "3009600 3000000\n",
      "Gyro_400_wininituni_4b0c17&4b0c18_1200.csv\n",
      "204 165\n",
      "Any one :  0.8088235294117647\n",
      "At position 1 and 2 :  0.6617647058823529\n",
      "At position 1 :  0.44607843137254904\n",
      "At position 2 :  0.21568627450980393\n",
      "At position 3 :  0.14705882352941177\n",
      "0.44607843137254904\n",
      "3009600 3009600\n",
      "Gyro_400_wininituni_4b0c17&4b0c18_1200.csv\n",
      "204 166\n",
      "Any one :  0.8137254901960784\n",
      "At position 1 and 2 :  0.6568627450980392\n",
      "At position 1 :  0.4362745098039216\n",
      "At position 2 :  0.22058823529411764\n",
      "At position 3 :  0.1568627450980392\n",
      "0.4362745098039216\n"
     ]
    }
   ],
   "source": [
    "for file in pathex:\n",
    "    iters=500\n",
    "#     file=pathex[0]\n",
    "    ni=file.rfind(\"_\")+1\n",
    "    n=int(file[ni:].split(\".\")[0])\n",
    "    dfuni=pd.read_csv(path+file)\n",
    "    last=ceil(dfuni.index[-1]/iters)\n",
    "    print(dfuni.index[-1])\n",
    "    print(last)\n",
    "\n",
    "    fpath=\"C:\\\\Users\\\\nilu1\\\\Desktop\\\\Code\\\\AndroidPattern\\\\Data\\\\Resultsvc\\\\\"\n",
    "    f = open(fpath+file+\"svc\"+\".txt\", \"w\")\n",
    "    f.write(\"\\n\"+str(dfuni.index[-1]))\n",
    "    f.write(\"\\n\"+str(last))\n",
    "\n",
    "    # X = dfuni.iloc[:, 0:n].values\n",
    "    # y = dfuni.iloc[:, n].values\n",
    "    # X_train, X_test, y_train, y_test = train_test_split(X, y, test_size=0.08)\n",
    "\n",
    "    # patht=\"C:\\\\Users\\\\nilu1\\\\Desktop\\\\Code\\\\AndroidPattern\\\\Data\\\\Testing\\\\\"\n",
    "    # filest=\"Acc_wGyro_800_wininituni_4b0c15_2400.csv\"\n",
    "    # filest=\"Acc_wGyro_600_wininituni_4b0c15_1800.csv\"\n",
    "\n",
    "    # dft=pd.read_csv(patht+filest)\n",
    "    # X = dft.iloc[:, 0:n].values\n",
    "    # y = dft.iloc[:, n].values\n",
    "    # _, X_test, _, y_test = train_test_split(X, y, test_size=0.99)\n",
    "\n",
    "    # dft=dfuni.sample(n=200)\n",
    "\n",
    "    X = dfuni.iloc[:, 0:n].values\n",
    "    y = dfuni.iloc[:, n].values\n",
    "    X_train, X_test, y_train, y_test = train_test_split(X, y, test_size=0.075)\n",
    "\n",
    "    # dfuni=pd.merge(dfuni,dft, indicator=True, how='outer').query('_merge==\"left_only\"').drop('_merge', axis=1)\n",
    "    # dfuni.reset_index(inplace=True)\n",
    "    # dfuni=dfuni.drop(columns=\"index\")\n",
    "    # print(dfuni.index[-1])\n",
    "\n",
    "    # filest=[\"Acc_wGyro_800_wininituni_4b0c10_2400.csv\"]\n",
    "    # logmodel = KNeighborsClassifier(n_neighbors=7)\n",
    "#     logmodel=LogisticRegression(multi_class=\"auto\",solver=\"lbfgs\",max_iter=500)\n",
    "    # logmodel=GaussianNB()\n",
    "    # logmodel=NearestCentroid()\n",
    "    # logmodel=RandomForestClassifier(n_estimators=10, random_state=0, max_depth=10)\n",
    "    logmodel=SVC(decision_function_shape='ovr',gamma=\"auto\",probability=True)\n",
    "    # logmodel=LogisticRegressionCV(cv=5,random_state=0,multi_class=\"auto\",max_iter=1000)\n",
    "    # logmodel=MLPClassifier(solver=\"lbfgs\",max_iter=1500,warm_start=True,activation=\"identity\")\n",
    "\n",
    "    # logmodel=MLPClassifier(solver=\"lbfgs\",max_iter=500,warm_start=True,activation=\"logistic\",hidden_layer_sizes=(800,10))\n",
    "    # logmodel=MLPClassifier(solver=\"lbfgs\",max_iter=500,warm_start=True,activation=\"logistic\")\n",
    "\n",
    "    for i in range(last):\n",
    "    #     df=dfuni\n",
    "    #     if(i!=last-1):\n",
    "    #         df=dfuni.head(iters*(i+1))\n",
    "\n",
    "    #     if(i!=last-1):\n",
    "    #         df=dfuni.head(iters*(i+1))\n",
    "    #         df=df.tail(iters)\n",
    "    #         df.reset_index(inplace=True)\n",
    "    #         df=df.drop(columns=\"index\")\n",
    "    #     else:\n",
    "    #         df=df.tail(dfuni.index[-1]-(iters*i))\n",
    "    #         df.reset_index(inplace=True)\n",
    "    #         df=df.drop(columns=\"index\")\n",
    "    #     print(df.index[-1])\n",
    "\n",
    "        if(i!=last-1):\n",
    "    #         df=dfuni.head(iters*(i+1))\n",
    "            X = X_train[:iters*(i+1)]\n",
    "            y = y_train[:iters*(i+1)]\n",
    "        else:\n",
    "            X=X_train\n",
    "            y=y_train\n",
    "\n",
    "    #     X_train, X_test, y_train, y_test = train_test_split(X, y, random_state=1)\n",
    "    #     if(i==last-1):\n",
    "    #         X_train, X_test, y_train, y_test = train_test_split(X, y, test_size=0.25, random_state=1)\n",
    "\n",
    "    #     if(i==0):\n",
    "    #         X_train, X_test, y_train, y_test = train_test_split(X, y, test_size=0.4, random_state=1)\n",
    "    #     else:\n",
    "\n",
    "    #     X = df.iloc[:, 0:n].values\n",
    "    #     y = df.iloc[:, n].values\n",
    "        print(X_train.size,X.size)\n",
    "        f.write(\"\\n\"+str(X_train.size)+str(X.size))\n",
    "\n",
    "    #     logmodel.fit(X_train, y_train)\n",
    "        logmodel.fit(X, y)\n",
    "        y_pred = logmodel.predict(X_test)\n",
    "\n",
    "        p = logmodel.predict_proba(X_test)\n",
    "        nn = 3\n",
    "        top_n = np.argsort(p)[:,:-nn-1:-1]\n",
    "        #     for i in range(len(y_test)):\n",
    "        #         print(y_test[i],top_n[i])\n",
    "        count=0\n",
    "        count1=0\n",
    "        count2=0\n",
    "        count3=0\n",
    "        count12=0\n",
    "        for i in range(len(y_pred)):\n",
    "            if(y_test[i] in top_n[i]):\n",
    "                count+=1\n",
    "            if(y_test[i] in top_n[i][:2]):\n",
    "                count12+=1\n",
    "            if(y_test[i] == top_n[i][0]):\n",
    "                count1+=1\n",
    "            elif(y_test[i] == top_n[i][1]):\n",
    "                count2+=1\n",
    "            elif(y_test[i] == top_n[i][2]):\n",
    "                count3+=1\n",
    "        #         print(y_test[i],y_pred[i])\n",
    "        l=len(y_pred)\n",
    "        print(file)\n",
    "        print(l,count)\n",
    "        print(\"Any one : \",count/l)\n",
    "        print(\"At position 1 and 2 : \",count12/l)\n",
    "        print(\"At position 1 : \",count1/l)\n",
    "        print(\"At position 2 : \",count2/l)\n",
    "        print(\"At position 3 : \",count3/l)\n",
    "        print(accuracy_score(y_test, y_pred))\n",
    "\n",
    "        f.write(\"\\n\"+file)\n",
    "        f.write(\"\\n\"+str(l)+str(count))\n",
    "        f.write(\"\\nAny one : \"+str(count/l))\n",
    "        f.write(\"\\nAt position 1 and 2 : \"+str(count12/l))\n",
    "        f.write(\"\\nAt position 1 : \"+str(count1/l))\n",
    "        f.write(\"\\nAt position 2 : \"+str(count2/l))\n",
    "        f.write(\"\\nAt position 3 : \"+str(count3/l))\n",
    "        f.write(\"\\n\"+str(accuracy_score(y_test, y_pred)))\n",
    "    f.close()\n",
    "    \n",
    "# filename = \"zmlp500_\"+file[:-4]+\".sav\"\n",
    "# pickle.dump(logmodel, open(modelpath+filename, 'wb'))\n",
    "    \n",
    "# y_pred = logmodel.predict(X_test)\n",
    "\n",
    "# p = logmodel.predict_proba(X_test)\n",
    "# nn = 3\n",
    "# top_n = np.argsort(p)[:,:-nn-1:-1]\n",
    "# #     for i in range(len(y_test)):\n",
    "# #         print(y_test[i],top_n[i])\n",
    "# count=0\n",
    "# count1=0\n",
    "# count2=0\n",
    "# count3=0\n",
    "# count12=0\n",
    "# for i in range(len(y_pred)):\n",
    "#     if(y_test[i] in top_n[i]):\n",
    "#         count+=1\n",
    "#     if(y_test[i] in top_n[i][:2]):\n",
    "#         count12+=1\n",
    "#     if(y_test[i] == top_n[i][0]):\n",
    "#         count1+=1\n",
    "#     elif(y_test[i] == top_n[i][1]):\n",
    "#         count2+=1\n",
    "#     elif(y_test[i] == top_n[i][2]):\n",
    "#         count3+=1\n",
    "# #         print(y_test[i],y_pred[i])\n",
    "# l=len(y_pred)\n",
    "# print(file)\n",
    "# print(l,count)\n",
    "# print(\"Any one : \",count/l)\n",
    "# print(\"At position 1 and 2 : \",count12/l)\n",
    "# print(\"At position 1 : \",count1/l)\n",
    "# print(\"At position 2 : \",count2/l)\n",
    "# print(\"At position 3 : \",count3/l)\n",
    "# print(accuracy_score(y_test, y_pred))\n",
    "\n",
    "\n",
    "#     score.append([count/l,file])\n",
    "#     score12.append([count12/l,file])\n",
    "    \n",
    "#     df = pd.DataFrame({'Actual': y_test, 'Predicted': y_pred})\n",
    "#     print(df)\n",
    "#     score.append([accuracy_score(y_test, y_pred),file])\n",
    "#     score.append(accuracy_score(y_test, y_pred))\n",
    "# score12.sort(reverse=True)\n",
    "# score.sort(reverse=True)\n",
    "# print(\"------------------------------------------Test : ---------------------------------------------\")\n",
    "# for i in range(len(score)):\n",
    "# #     print(score[i][1]+\" : \"+str(score[i][0]))\n",
    "#     print(score[i][1])\n",
    "# for i in range(len(score)):\n",
    "#     print(score[i][0])\n",
    "# print(\"--------------------------Test : ----------------------------\")\n",
    "# for i in range(len(score)):\n",
    "#     print(score12[i][1]+\" : \"+str(score12[i][0]))\n",
    "#     df"
   ]
  },
  {
   "cell_type": "code",
   "execution_count": 4,
   "metadata": {},
   "outputs": [],
   "source": [
    "# # save trained model\n",
    "# for file in pathex:\n",
    "#     ni=file.rfind(\"_\")+1\n",
    "#     n=int(file[ni:].split(\".\")[0])\n",
    "#     df=pd.read_csv(path+file)\n",
    "#     X = df.iloc[:, 0:n].values\n",
    "#     y = df.iloc[:, n].values\n",
    "#     X_train, X_test, y_train, y_test = train_test_split(X, y, random_state=1)\n",
    "#     #Create KNN Classifier\n",
    "#     logmodel = KNeighborsClassifier(n_neighbors=7)\n",
    "#     logmodel.fit(X_train, y_train)\n",
    "#     filename = \"knn_\"+file[:-4]+\".sav\"\n",
    "#     pickle.dump(logmodel, open(modelpath+filename, 'wb'))"
   ]
  }
 ],
 "metadata": {
  "kernelspec": {
   "display_name": "Python 3",
   "language": "python",
   "name": "python3"
  },
  "language_info": {
   "codemirror_mode": {
    "name": "ipython",
    "version": 3
   },
   "file_extension": ".py",
   "mimetype": "text/x-python",
   "name": "python",
   "nbconvert_exporter": "python",
   "pygments_lexer": "ipython3",
   "version": "3.7.4"
  }
 },
 "nbformat": 4,
 "nbformat_minor": 2
}
