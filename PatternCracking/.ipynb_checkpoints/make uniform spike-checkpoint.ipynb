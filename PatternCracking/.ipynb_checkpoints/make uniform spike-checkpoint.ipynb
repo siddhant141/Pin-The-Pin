{
 "cells": [
  {
   "cell_type": "code",
   "execution_count": null,
   "metadata": {},
   "outputs": [],
   "source": [
    "import os\n",
    "from os import listdir\n",
    "from os.path import isfile, join\n",
    "import pandas as pd\n",
    "import numpy as np\n",
    "import concurrent.futures"
   ]
  },
  {
   "cell_type": "code",
   "execution_count": null,
   "metadata": {},
   "outputs": [],
   "source": [
    "folder=\"Acc_w\"\n",
    "path=\"C:\\\\Users\\\\nilu1\\\\Desktop\\\\Code\\\\AndroidPattern\\\\Data\\\\Test\\\\\"+folder+\"\\\\\"\n",
    "pathex=[]\n",
    "temp = [f for f in listdir(path) if isfile(join(path, f))]\n",
    "files=[\"4b0c19\"]\n",
    "for i in range(len(temp)):\n",
    "    st=temp[i]\n",
    "    if(os.path.getsize(path+st)<4096):\n",
    "        continue\n",
    "    if(temp[i][:6] in files):\n",
    "        pathex.append(temp[i])\n",
    "\n",
    "print(len(temp))\n",
    "print(len(pathex))"
   ]
  }
 ],
 "metadata": {
  "kernelspec": {
   "display_name": "Python 3",
   "language": "python",
   "name": "python3"
  },
  "language_info": {
   "codemirror_mode": {
    "name": "ipython",
    "version": 3
   },
   "file_extension": ".py",
   "mimetype": "text/x-python",
   "name": "python",
   "nbconvert_exporter": "python",
   "pygments_lexer": "ipython3",
   "version": "3.7.4"
  }
 },
 "nbformat": 4,
 "nbformat_minor": 2
}
