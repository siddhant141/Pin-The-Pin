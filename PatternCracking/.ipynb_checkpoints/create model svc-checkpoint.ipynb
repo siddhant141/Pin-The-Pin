{
 "cells": [
  {
   "cell_type": "code",
   "execution_count": null,
   "metadata": {},
   "outputs": [],
   "source": [
    "import pandas as pd\n",
    "import numpy as np\n",
    "import os\n",
    "from math import ceil\n",
    "from sklearn.model_selection import train_test_split\n",
    "from sklearn.svm import SVC\n",
    "from sklearn import metrics\n",
    "from os import listdir\n",
    "from os.path import isfile, join\n",
    "from sklearn.metrics import confusion_matrix,accuracy_score\n",
    "from sklearn.metrics import f1_score\n",
    "import pickle"
   ]
  },
  {
   "cell_type": "code",
   "execution_count": null,
   "metadata": {},
   "outputs": [],
   "source": [
    "# path=\"C:\\\\Users\\\\nilu1\\\\Desktop\\\\Code\\\\AndroidPattern\\\\Data\\\\Spike\\\\Using\\\\\"\n",
    "path=\"C:\\\\Users\\\\nilu1\\\\Desktop\\\\Code\\\\AndroidPattern\\\\Data\\\\Using\\\\\"\n",
    "pathex = [f for f in listdir(path) if isfile(join(path, f))]\n",
    "score=[]\n",
    "score12=[]\n",
    "# modelpath=\"C:\\\\Users\\\\nilu1\\\\Desktop\\\\Code\\\\AndroidPattern\\\\Data\\\\Spike\\\\Models\\\\\"\n",
    "modelpath=\"C:\\\\Users\\\\nilu1\\\\Desktop\\\\Code\\\\AndroidPattern\\\\Data\\\\Models\\\\\""
   ]
  },
  {
   "cell_type": "code",
   "execution_count": null,
   "metadata": {},
   "outputs": [],
   "source": [
    "for file in pathex:\n",
    "    iters=500\n",
    "    ni=file.rfind(\"_\")+1\n",
    "    n=int(file[ni:].split(\".\")[0])\n",
    "    dfuni=pd.read_csv(path+file)\n",
    "    last=ceil(dfuni.index[-1]/iters)\n",
    "    print(dfuni.index[-1])\n",
    "    print(last)\n",
    "    \n",
    "    X = dfuni.iloc[:, 0:n].values\n",
    "    y = dfuni.iloc[:, n].values\n",
    "    \n",
    "    X_train, X_test, y_train, y_test = train_test_split(X, y)\n",
    "\n",
    "    logmodel=SVC(decision_function_shape='ovr',gamma=\"auto\",probability=True)\n",
    "\n",
    "    for i in range(last):\n",
    "\n",
    "        if(i!=last-1):\n",
    "            X = X_train[:iters*(i+1)]\n",
    "            y = y_train[:iters*(i+1)]\n",
    "        else:\n",
    "            X=X_train\n",
    "            y=y_train\n",
    "\n",
    "        print(X_train.size,X.size)\n",
    "\n",
    "        logmodel.fit(X, y)\n",
    "    \n",
    "    mname = \"logistic500_\"+file[:-4]+\".sav\"\n",
    "    pickle.dump(logmodel, open(modelpath+mname, 'wb'))"
   ]
  }
 ],
 "metadata": {
  "kernelspec": {
   "display_name": "Python 3",
   "language": "python",
   "name": "python3"
  },
  "language_info": {
   "codemirror_mode": {
    "name": "ipython",
    "version": 3
   },
   "file_extension": ".py",
   "mimetype": "text/x-python",
   "name": "python",
   "nbconvert_exporter": "python",
   "pygments_lexer": "ipython3",
   "version": "3.7.4"
  }
 },
 "nbformat": 4,
 "nbformat_minor": 2
}
