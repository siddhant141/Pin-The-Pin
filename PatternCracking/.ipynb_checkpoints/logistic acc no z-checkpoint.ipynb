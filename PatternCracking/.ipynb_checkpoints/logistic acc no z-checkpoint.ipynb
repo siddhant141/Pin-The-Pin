{
 "cells": [
  {
   "cell_type": "code",
   "execution_count": 1,
   "metadata": {},
   "outputs": [],
   "source": [
    "import pandas as pd\n",
    "import numpy as np\n",
    "from sklearn.model_selection import train_test_split\n",
    "from sklearn.linear_model import LogisticRegression\n",
    "from sklearn.metrics import classification_report\n",
    "from sklearn.metrics import confusion_matrix,accuracy_score\n",
    "from sklearn import metrics\n",
    "from os import listdir\n",
    "from os.path import isfile, join\n",
    "from sklearn.preprocessing import Normalizer\n",
    "from sklearn.metrics import f1_score"
   ]
  },
  {
   "cell_type": "code",
   "execution_count": 2,
   "metadata": {},
   "outputs": [],
   "source": [
    "path=\"C:\\\\Users\\\\nilu1\\\\PatternCracking\\\\acc\\\\\"\n",
    "pathex=[]\n",
    "temp = [f for f in listdir(path) if isfile(join(path, f))]\n",
    "temp.sort()\n",
    "for i in range(len(temp)):\n",
    "    st=temp[i]\n",
    "    if(st[:2]==\"18\"):\n",
    "        pathex.append(temp[i])\n",
    "# print(pathex)"
   ]
  },
  {
   "cell_type": "code",
   "execution_count": 3,
   "metadata": {},
   "outputs": [
    {
     "ename": "ValueError",
     "evalue": "invalid literal for int() with base 10: '1874.cs'",
     "output_type": "error",
     "traceback": [
      "\u001b[1;31m---------------------------------------------------------------------------\u001b[0m",
      "\u001b[1;31mValueError\u001b[0m                                Traceback (most recent call last)",
      "\u001b[1;32m<ipython-input-3-8e6879f1b362>\u001b[0m in \u001b[0;36m<module>\u001b[1;34m\u001b[0m\n\u001b[0;32m     12\u001b[0m     \u001b[0mkeyui\u001b[0m\u001b[1;33m=\u001b[0m\u001b[0mpathex\u001b[0m\u001b[1;33m[\u001b[0m\u001b[0mi\u001b[0m\u001b[1;33m]\u001b[0m\u001b[1;33m.\u001b[0m\u001b[0mrfind\u001b[0m\u001b[1;33m(\u001b[0m\u001b[1;34m\"&\"\u001b[0m\u001b[1;33m)\u001b[0m\u001b[1;33m+\u001b[0m\u001b[1;36m1\u001b[0m\u001b[1;33m\u001b[0m\u001b[1;33m\u001b[0m\u001b[0m\n\u001b[0;32m     13\u001b[0m     \u001b[1;32mfor\u001b[0m \u001b[0mj\u001b[0m \u001b[1;32min\u001b[0m \u001b[0mdff\u001b[0m\u001b[1;33m.\u001b[0m\u001b[0mindex\u001b[0m\u001b[1;33m:\u001b[0m\u001b[1;33m\u001b[0m\u001b[1;33m\u001b[0m\u001b[0m\n\u001b[1;32m---> 14\u001b[1;33m         \u001b[0mt\u001b[0m\u001b[1;33m=\u001b[0m\u001b[0mabs\u001b[0m\u001b[1;33m(\u001b[0m\u001b[0mdff\u001b[0m\u001b[1;33m[\u001b[0m\u001b[1;34m'Time'\u001b[0m\u001b[1;33m]\u001b[0m\u001b[1;33m[\u001b[0m\u001b[0mj\u001b[0m\u001b[1;33m]\u001b[0m \u001b[1;33m-\u001b[0m \u001b[0mint\u001b[0m\u001b[1;33m(\u001b[0m\u001b[0mpathex\u001b[0m\u001b[1;33m[\u001b[0m\u001b[0mi\u001b[0m\u001b[1;33m]\u001b[0m\u001b[1;33m[\u001b[0m\u001b[0mkeydi\u001b[0m\u001b[1;33m:\u001b[0m\u001b[0mkeyui\u001b[0m\u001b[1;33m-\u001b[0m\u001b[1;36m1\u001b[0m\u001b[1;33m]\u001b[0m\u001b[1;33m)\u001b[0m\u001b[1;33m)\u001b[0m\u001b[1;33m\u001b[0m\u001b[1;33m\u001b[0m\u001b[0m\n\u001b[0m\u001b[0;32m     15\u001b[0m         \u001b[1;32mif\u001b[0m\u001b[1;33m(\u001b[0m\u001b[0mt\u001b[0m \u001b[1;33m<\u001b[0m \u001b[0mmini\u001b[0m\u001b[1;33m)\u001b[0m\u001b[1;33m:\u001b[0m\u001b[1;33m\u001b[0m\u001b[1;33m\u001b[0m\u001b[0m\n\u001b[0;32m     16\u001b[0m             \u001b[0mmini\u001b[0m\u001b[1;33m=\u001b[0m\u001b[0mt\u001b[0m\u001b[1;33m\u001b[0m\u001b[1;33m\u001b[0m\u001b[0m\n",
      "\u001b[1;31mValueError\u001b[0m: invalid literal for int() with base 10: '1874.cs'"
     ]
    }
   ],
   "source": [
    "# n -> number of lines in csv file\n",
    "# actual -> the actual key pressed\n",
    "n=25\n",
    "actual=1\n",
    "df=pd.read_csv(path+pathex[0])\n",
    "for i in range(len(pathex)):\n",
    "    dff=pd.read_csv(path+pathex[i])\n",
    "    mini=10000\n",
    "    minkeyd=1000\n",
    "    minkeyu=1000\n",
    "    keydi=pathex[i].rfind(\"_\")+4\n",
    "    keyui=pathex[i].rfind(\"&\")+1\n",
    "    for j in dff.index:\n",
    "        t=abs(dff['Time'][j] - int(pathex[i][keydi:keyui-1]))\n",
    "        if(t < mini):\n",
    "            mini=t\n",
    "            minkeyd=j\n",
    "    mini=10000\n",
    "    for j in dff.index:\n",
    "        t=abs(dff['Time'][j] - int(pathex[i][keyui:-4]))\n",
    "        if(t < mini):\n",
    "            mini=t\n",
    "            minkeyu=j\n",
    "#     print(minkeyd)\n",
    "#     print(minkeyu)\n",
    "    window=minkeyu-minkeyd\n",
    "    left=n-window    \n",
    "    dff=dff.head(minkeyu + round(left/2))\n",
    "    dff=dff.tail(n)\n",
    "    dff.reset_index(inplace=True)\n",
    "    dff=dff.drop(columns=\"index\")\n",
    "    dff=dff.drop(columns=\"Time\")\n",
    "    dff=dff.drop(columns=\"Z\")\n",
    "    df1=dff.stack().swaplevel()\n",
    "    df1.index=df1.index.map('{0[0]}_{0[1]}'.format) \n",
    "    dff=df1.to_frame().T\n",
    "    ind=pathex[i].rfind(\"_\")+3\n",
    "#     print(pathex[i])\n",
    "    dff.insert(n*2, \"key\", int(pathex[i][ind]))\n",
    "    if(i==0):\n",
    "        df=dff\n",
    "    else:\n",
    "        df=df.append(dff,ignore_index = True)\n",
    "# df"
   ]
  },
  {
   "cell_type": "code",
   "execution_count": null,
   "metadata": {},
   "outputs": [],
   "source": [
    "x = df.iloc[:, 0:n*2].values\n",
    "y = df.iloc[:, n*2].values"
   ]
  },
  {
   "cell_type": "code",
   "execution_count": null,
   "metadata": {},
   "outputs": [],
   "source": [
    "# x = df.drop('Home', axis=1)\n",
    "# y = df['Home']\n",
    "x_train, x_test, y_train, y_test = train_test_split(x, y, test_size=0.25, random_state=0)\n",
    "# sc = Normalizer()\n",
    "# x_train = sc.fit_transform(x_train)\n",
    "# x_test = sc.transform(x_test)\n",
    "logmodel = LogisticRegression(random_state=0, solver=\"lbfgs\", multi_class=\"multinomial\")\n",
    "logmodel.fit(x_train, y_train)\n",
    " \n",
    "predictions = logmodel.predict(x_test)\n",
    "df = pd.DataFrame({'Actual': y_test, 'Predicted': predictions})\n",
    "df"
   ]
  },
  {
   "cell_type": "code",
   "execution_count": null,
   "metadata": {},
   "outputs": [],
   "source": [
    "f1_score(y_test, predictions, average=\"micro\")"
   ]
  }
 ],
 "metadata": {
  "kernelspec": {
   "display_name": "Python 3",
   "language": "python",
   "name": "python3"
  },
  "language_info": {
   "codemirror_mode": {
    "name": "ipython",
    "version": 3
   },
   "file_extension": ".py",
   "mimetype": "text/x-python",
   "name": "python",
   "nbconvert_exporter": "python",
   "pygments_lexer": "ipython3",
   "version": "3.7.4"
  }
 },
 "nbformat": 4,
 "nbformat_minor": 2
}
