{
 "cells": [
  {
   "cell_type": "code",
   "execution_count": 1,
   "metadata": {},
   "outputs": [],
   "source": [
    "import pandas as pd\n",
    "import numpy as np\n",
    "from sklearn.model_selection import train_test_split\n",
    "from sklearn.preprocessing import StandardScaler,Normalizer\n",
    "from sklearn import metrics\n",
    "from os import listdir\n",
    "from os.path import isfile, join\n",
    "from sklearn import datasets \n",
    "from sklearn.metrics import confusion_matrix,accuracy_score\n",
    "from sklearn.tree import DecisionTreeClassifier\n",
    "from sklearn.metrics import f1_score"
   ]
  },
  {
   "cell_type": "code",
   "execution_count": 2,
   "metadata": {},
   "outputs": [],
   "source": [
    "path=\"C:\\\\Users\\\\nilu1\\\\Desktop\\\\Code\\\\AndroidPattern\\\\Data\\\\Using\\\\\"\n",
    "pathex = [f for f in listdir(path) if isfile(join(path, f))]\n",
    "score=[]\n",
    "# for i in range(len(pathex)):\n",
    "#     print(pathex[i])"
   ]
  },
  {
   "cell_type": "code",
   "execution_count": 3,
   "metadata": {
    "scrolled": true
   },
   "outputs": [
    {
     "name": "stdout",
     "output_type": "stream",
     "text": [
      "Acc_w_25_4vuni_66b325&b56522_9.csv : 0.919047619047619\n",
      "Acc_w_25_4vuni_a99828&a99830&66b325&b56522_9.csv : 0.8527777777777777\n",
      "Acc_w_25_4vuni_a99828&a99830_9.csv : 0.7866666666666666\n",
      "Acc_w_25_4v_66b325&b56522_9.csv : 0.9761904761904762\n",
      "Acc_w_25_4v_a99828&a99830&66b325&b56522_9.csv : 0.9041666666666667\n",
      "Acc_w_25_4v_a99828&a99830_9.csv : 0.9266666666666666\n",
      "Acc_w_25_window_66b325&b56522_75.csv : 0.9809523809523809\n",
      "Acc_w_25_window_a99828&a99830&66b325&b56522_75.csv : 0.8930555555555556\n",
      "Acc_w_25_window_a99828&a99830_75.csv : 0.9833333333333333\n",
      "Acc_w_30_4vuni_66b325&b56522_9.csv : 0.9214285714285714\n",
      "Acc_w_30_4vuni_a99828&a99830&66b325&b56522_9.csv : 0.8583333333333333\n",
      "Acc_w_30_4vuni_a99828&a99830_9.csv : 0.9466666666666667\n",
      "Acc_w_30_4v_66b325&b56522_9.csv : 0.9809523809523809\n",
      "Acc_w_30_4v_a99828&a99830&66b325&b56522_9.csv : 0.7944444444444444\n",
      "Acc_w_30_4v_a99828&a99830_9.csv : 0.9366666666666666\n",
      "Acc_w_30_window_66b325&b56522_90.csv : 0.9928571428571429\n",
      "Acc_w_30_window_a99828&a99830&66b325&b56522_90.csv : 0.8319444444444445\n",
      "Acc_w_30_window_a99828&a99830_90.csv : 0.9433333333333334\n",
      "Gyro_25_4vuni_66b325&b56522_9.csv : 1.0\n",
      "Gyro_25_4vuni_a99828&a99830&66b325&b56522_9.csv : 0.9694444444444444\n",
      "Gyro_25_4vuni_a99828&a99830_9.csv : 0.9733333333333334\n",
      "Gyro_25_4v_66b325&b56522_9.csv : 1.0\n",
      "Gyro_25_4v_a99828&a99830&66b325&b56522_9.csv : 0.9944444444444445\n",
      "Gyro_25_4v_a99828&a99830_9.csv : 1.0\n",
      "Gyro_25_window_66b325&b56522_75.csv : 0.9952380952380953\n",
      "Gyro_25_window_a99828&a99830&66b325&b56522_75.csv : 0.9986111111111111\n",
      "Gyro_25_window_a99828&a99830_75.csv : 1.0\n",
      "Gyro_30_4vuni_66b325&b56522_9.csv : 0.9857142857142858\n",
      "Gyro_30_4vuni_a99828&a99830&66b325&b56522_9.csv : 0.9444444444444444\n",
      "Gyro_30_4vuni_a99828&a99830_9.csv : 1.0\n",
      "Gyro_30_4v_66b325&b56522_9.csv : 0.9880952380952381\n",
      "Gyro_30_4v_a99828&a99830&66b325&b56522_9.csv : 0.9625\n",
      "Gyro_30_4v_a99828&a99830_9.csv : 0.9866666666666667\n",
      "Gyro_30_window_66b325&b56522_90.csv : 1.0\n",
      "Gyro_30_window_a99828&a99830&66b325&b56522_90.csv : 0.9888888888888889\n",
      "Gyro_30_window_a99828&a99830_90.csv : 1.0\n",
      "-----------------------------Test : ------------------------\n",
      "Acc_w_25_4vuni_66b325&b56522_9.csv : 0.24113475177304963\n",
      "Acc_w_25_4vuni_a99828&a99830&66b325&b56522_9.csv : 0.1991701244813278\n",
      "Acc_w_25_4vuni_a99828&a99830_9.csv : 0.14\n",
      "Acc_w_25_4v_66b325&b56522_9.csv : 0.24113475177304963\n",
      "Acc_w_25_4v_a99828&a99830&66b325&b56522_9.csv : 0.23651452282157676\n",
      "Acc_w_25_4v_a99828&a99830_9.csv : 0.12\n",
      "Acc_w_25_window_66b325&b56522_75.csv : 0.28368794326241137\n",
      "Acc_w_25_window_a99828&a99830&66b325&b56522_75.csv : 0.3070539419087137\n",
      "Acc_w_25_window_a99828&a99830_75.csv : 0.22\n",
      "Acc_w_30_4vuni_66b325&b56522_9.csv : 0.24113475177304963\n",
      "Acc_w_30_4vuni_a99828&a99830&66b325&b56522_9.csv : 0.1908713692946058\n",
      "Acc_w_30_4vuni_a99828&a99830_9.csv : 0.16\n",
      "Acc_w_30_4v_66b325&b56522_9.csv : 0.2978723404255319\n",
      "Acc_w_30_4v_a99828&a99830&66b325&b56522_9.csv : 0.23651452282157676\n",
      "Acc_w_30_4v_a99828&a99830_9.csv : 0.17\n",
      "Acc_w_30_window_66b325&b56522_90.csv : 0.2624113475177305\n",
      "Acc_w_30_window_a99828&a99830&66b325&b56522_90.csv : 0.23236514522821577\n",
      "Acc_w_30_window_a99828&a99830_90.csv : 0.22\n",
      "Gyro_25_4vuni_66b325&b56522_9.csv : 0.2765957446808511\n",
      "Gyro_25_4vuni_a99828&a99830&66b325&b56522_9.csv : 0.25311203319502074\n",
      "Gyro_25_4vuni_a99828&a99830_9.csv : 0.22\n",
      "Gyro_25_4v_66b325&b56522_9.csv : 0.3120567375886525\n",
      "Gyro_25_4v_a99828&a99830&66b325&b56522_9.csv : 0.3112033195020747\n",
      "Gyro_25_4v_a99828&a99830_9.csv : 0.31\n",
      "Gyro_25_window_66b325&b56522_75.csv : 0.23404255319148937\n",
      "Gyro_25_window_a99828&a99830&66b325&b56522_75.csv : 0.2821576763485477\n",
      "Gyro_25_window_a99828&a99830_75.csv : 0.3\n",
      "Gyro_30_4vuni_66b325&b56522_9.csv : 0.3262411347517731\n",
      "Gyro_30_4vuni_a99828&a99830&66b325&b56522_9.csv : 0.2946058091286307\n",
      "Gyro_30_4vuni_a99828&a99830_9.csv : 0.2\n",
      "Gyro_30_4v_66b325&b56522_9.csv : 0.20567375886524822\n",
      "Gyro_30_4v_a99828&a99830&66b325&b56522_9.csv : 0.27800829875518673\n",
      "Gyro_30_4v_a99828&a99830_9.csv : 0.3\n",
      "Gyro_30_window_66b325&b56522_90.csv : 0.2127659574468085\n",
      "Gyro_30_window_a99828&a99830&66b325&b56522_90.csv : 0.27800829875518673\n",
      "Gyro_30_window_a99828&a99830_90.csv : 0.24\n"
     ]
    }
   ],
   "source": [
    "for file in pathex:\n",
    "    ni=file.rfind(\"_\")+1\n",
    "    n=int(file[ni:].split(\".\")[0])\n",
    "    df=pd.read_csv(path+file)\n",
    "    X = df.iloc[:, 0:n].values\n",
    "    y = df.iloc[:, n].values\n",
    "    X_train, X_test, y_train, y_test = train_test_split(X, y, test_size=0.25, random_state=0)\n",
    "#     sc = StandardScaler()\n",
    "#     X_train = sc.fit_transform(X_train)\n",
    "#     X_test = sc.transform(X_test)\n",
    "#     sc = Normalizer()\n",
    "#     X_train = sc.fit_transform(X_train)\n",
    "#     X_test = sc.transform(X_test)\n",
    "    dtree_model = DecisionTreeClassifier(max_depth = 15).fit(X_train, y_train)\n",
    "    y_pred = dtree_model.predict(X_train)\n",
    "    print(file,end=\" : \")\n",
    "    print(accuracy_score(y_train,y_pred))\n",
    "    y_pred = dtree_model.predict(X_test)\n",
    "    df = pd.DataFrame({'Actual': y_test, 'Predicted': y_pred})\n",
    "#     score.append([f1_score(y_test, y_pred, average=\"micro\"),file])    \n",
    "    score.append([accuracy_score(y_test, y_pred),file])\n",
    "score.sort(reverse=True)\n",
    "print(\"-----------------------------Test : ------------------------\")\n",
    "for i in range(len(score)):\n",
    "    print(score[i][1]+\" : \"+str(score[i][0]))\n",
    "#     df"
   ]
  },
  {
   "cell_type": "code",
   "execution_count": 4,
   "metadata": {},
   "outputs": [],
   "source": [
    "# non-uniform = 0.57\n",
    "#non = 0.61 (2 days data)\n",
    "#uniform = 0.57"
   ]
  }
 ],
 "metadata": {
  "kernelspec": {
   "display_name": "Python 3",
   "language": "python",
   "name": "python3"
  },
  "language_info": {
   "codemirror_mode": {
    "name": "ipython",
    "version": 3
   },
   "file_extension": ".py",
   "mimetype": "text/x-python",
   "name": "python",
   "nbconvert_exporter": "python",
   "pygments_lexer": "ipython3",
   "version": "3.7.4"
  }
 },
 "nbformat": 4,
 "nbformat_minor": 2
}
