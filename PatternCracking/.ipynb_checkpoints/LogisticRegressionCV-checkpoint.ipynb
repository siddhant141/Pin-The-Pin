{
 "cells": [
  {
   "cell_type": "code",
   "execution_count": 1,
   "metadata": {},
   "outputs": [],
   "source": [
    "import pandas as pd\n",
    "import numpy as np\n",
    "import os\n",
    "from sklearn.model_selection import train_test_split\n",
    "from sklearn.preprocessing import StandardScaler\n",
    "from sklearn.linear_model import LogisticRegressionCV #0.32. maybe few options in here too\n",
    "from sklearn.metrics import classification_report\n",
    "from sklearn.metrics import confusion_matrix,accuracy_score\n",
    "from sklearn import metrics\n",
    "from os import listdir\n",
    "from os.path import isfile, join\n",
    "from sklearn.preprocessing import Normalizer\n",
    "from sklearn.metrics import f1_score\n",
    "import pickle"
   ]
  },
  {
   "cell_type": "code",
   "execution_count": 2,
   "metadata": {},
   "outputs": [],
   "source": [
    "path=\"C:\\\\Users\\\\nilu1\\\\Desktop\\\\Code\\\\AndroidPattern\\\\Data\\\\Using\\\\\"\n",
    "# path=\"C:\\\\Users\\\\nilu1\\\\Desktop\\\\Code\\\\AndroidPattern\\\\Data\\\\Spike\\\\Using\\\\\"\n",
    "pathex = [f for f in listdir(path) if isfile(join(path, f))]\n",
    "pathex.sort()\n",
    "score=[]\n",
    "score12=[]\n",
    "# modelpath=\"C:\\\\Users\\\\nilu1\\\\Desktop\\\\Code\\\\AndroidPattern\\\\Data\\\\Spike\\\\Models\\\\\"\n",
    "modelpath=\"C:\\\\Users\\\\nilu1\\\\Desktop\\\\Code\\\\AndroidPattern\\\\Data\\\\Models\\\\\""
   ]
  },
  {
   "cell_type": "code",
   "execution_count": null,
   "metadata": {
    "scrolled": true
   },
   "outputs": [
    {
     "name": "stderr",
     "output_type": "stream",
     "text": [
      "C:\\Users\\nilu1\\Anaconda3\\lib\\site-packages\\sklearn\\linear_model\\logistic.py:947: ConvergenceWarning: lbfgs failed to converge. Increase the number of iterations.\n",
      "  \"of iterations.\", ConvergenceWarning)\n",
      "C:\\Users\\nilu1\\Anaconda3\\lib\\site-packages\\sklearn\\linear_model\\logistic.py:947: ConvergenceWarning: lbfgs failed to converge. Increase the number of iterations.\n",
      "  \"of iterations.\", ConvergenceWarning)\n",
      "C:\\Users\\nilu1\\Anaconda3\\lib\\site-packages\\sklearn\\linear_model\\logistic.py:947: ConvergenceWarning: lbfgs failed to converge. Increase the number of iterations.\n",
      "  \"of iterations.\", ConvergenceWarning)\n",
      "C:\\Users\\nilu1\\Anaconda3\\lib\\site-packages\\sklearn\\linear_model\\logistic.py:947: ConvergenceWarning: lbfgs failed to converge. Increase the number of iterations.\n",
      "  \"of iterations.\", ConvergenceWarning)\n",
      "C:\\Users\\nilu1\\Anaconda3\\lib\\site-packages\\sklearn\\linear_model\\logistic.py:947: ConvergenceWarning: lbfgs failed to converge. Increase the number of iterations.\n",
      "  \"of iterations.\", ConvergenceWarning)\n"
     ]
    },
    {
     "name": "stdout",
     "output_type": "stream",
     "text": [
      "Acc_w_200_wininituni_4b0c16_600.csv\n",
      "683 490\n",
      "Any one :  0.7174231332357247\n",
      "At position 1 and 2 :  0.595900439238653\n",
      "At position 1 :  0.363103953147877\n",
      "At position 2 :  0.232796486090776\n",
      "At position 3 :  0.12152269399707175\n"
     ]
    },
    {
     "name": "stderr",
     "output_type": "stream",
     "text": [
      "C:\\Users\\nilu1\\Anaconda3\\lib\\site-packages\\sklearn\\linear_model\\logistic.py:947: ConvergenceWarning: lbfgs failed to converge. Increase the number of iterations.\n",
      "  \"of iterations.\", ConvergenceWarning)\n",
      "C:\\Users\\nilu1\\Anaconda3\\lib\\site-packages\\sklearn\\linear_model\\logistic.py:947: ConvergenceWarning: lbfgs failed to converge. Increase the number of iterations.\n",
      "  \"of iterations.\", ConvergenceWarning)\n",
      "C:\\Users\\nilu1\\Anaconda3\\lib\\site-packages\\sklearn\\linear_model\\logistic.py:947: ConvergenceWarning: lbfgs failed to converge. Increase the number of iterations.\n",
      "  \"of iterations.\", ConvergenceWarning)\n",
      "C:\\Users\\nilu1\\Anaconda3\\lib\\site-packages\\sklearn\\linear_model\\logistic.py:947: ConvergenceWarning: lbfgs failed to converge. Increase the number of iterations.\n",
      "  \"of iterations.\", ConvergenceWarning)\n",
      "C:\\Users\\nilu1\\Anaconda3\\lib\\site-packages\\sklearn\\linear_model\\logistic.py:947: ConvergenceWarning: lbfgs failed to converge. Increase the number of iterations.\n",
      "  \"of iterations.\", ConvergenceWarning)\n"
     ]
    },
    {
     "name": "stdout",
     "output_type": "stream",
     "text": [
      "Acc_w_200_wininituniend_4b0c16_600.csv\n",
      "684 432\n",
      "Any one :  0.631578947368421\n",
      "At position 1 and 2 :  0.5102339181286549\n",
      "At position 1 :  0.3260233918128655\n",
      "At position 2 :  0.18421052631578946\n",
      "At position 3 :  0.12134502923976608\n"
     ]
    },
    {
     "name": "stderr",
     "output_type": "stream",
     "text": [
      "C:\\Users\\nilu1\\Anaconda3\\lib\\site-packages\\sklearn\\linear_model\\logistic.py:947: ConvergenceWarning: lbfgs failed to converge. Increase the number of iterations.\n",
      "  \"of iterations.\", ConvergenceWarning)\n",
      "C:\\Users\\nilu1\\Anaconda3\\lib\\site-packages\\sklearn\\linear_model\\logistic.py:947: ConvergenceWarning: lbfgs failed to converge. Increase the number of iterations.\n",
      "  \"of iterations.\", ConvergenceWarning)\n"
     ]
    }
   ],
   "source": [
    "for file in pathex:\n",
    "    ni=file.rfind(\"_\")+1\n",
    "    n=int(file[ni:].split(\".\")[0])\n",
    "    df=pd.read_csv(path+file)\n",
    "    x = df.iloc[:, 0:n].values\n",
    "    y = df.iloc[:, n].values\n",
    "    X_train, X_test, y_train, y_test = train_test_split(x, y, test_size=0.25)\n",
    "#     sc = StandardScaler()\n",
    "#     X_train = sc.fit_transform(X_train)\n",
    "#     X_test = sc.transform(X_test)\n",
    "#     keeping max_iter=1000\n",
    "    logmodel = LogisticRegressionCV(cv=5,random_state=0,multi_class=\"auto\",max_iter=500)\n",
    "    logmodel.fit(X_train, y_train)\n",
    "#     y_pred = logmodel.predict(X_train)\n",
    "#     print(file,end=\" : \")\n",
    "#     print(accuracy_score(y_train,y_pred))\n",
    "    y_pred = logmodel.predict(X_test)\n",
    "    \n",
    "    p = logmodel.predict_proba(X_test)\n",
    "    nn = 3\n",
    "    top_n = np.argsort(p)[:,:-nn-1:-1]\n",
    "#     for i in range(len(y_test)):\n",
    "#         print(y_test[i],top_n[i])\n",
    "    count=0\n",
    "    count1=0\n",
    "    count2=0\n",
    "    count3=0\n",
    "    count12=0\n",
    "    for i in range(len(y_pred)):\n",
    "        if(y_test[i] in top_n[i]):\n",
    "            count+=1\n",
    "        if(y_test[i] in top_n[i][:2]):\n",
    "            count12+=1\n",
    "        if(y_test[i] == top_n[i][0]):\n",
    "            count1+=1\n",
    "        elif(y_test[i] == top_n[i][1]):\n",
    "            count2+=1\n",
    "        elif(y_test[i] == top_n[i][2]):\n",
    "            count3+=1\n",
    "#         print(y_test[i],y_pred[i])\n",
    "    l=len(y_pred)\n",
    "    print(file)\n",
    "    print(l,count)\n",
    "    print(\"Any one : \",count/l)\n",
    "    print(\"At position 1 and 2 : \",count12/l)\n",
    "    print(\"At position 1 : \",count1/l)\n",
    "    print(\"At position 2 : \",count2/l)\n",
    "    print(\"At position 3 : \",count3/l)\n",
    "    \n",
    "#     df = pd.DataFrame({'Actual': y_test, 'Predicted': top_n})\n",
    "    \n",
    "#     print(df)\n",
    "#     score.append([f1_score(y_test, y_pred, average=\"micro\"),file])\n",
    "    score.append([accuracy_score(y_test, y_pred),file])\n",
    "#     score.append([count/l,file])\n",
    "#     score12.append([count12/l,file])\n",
    "#     print(confusion_matrix(y_pred=y_pred, y_true=y_test))\n",
    "#     print(classification_report(y_test, y_pred))\n",
    "#     df = pd.DataFrame({'Actual': y_test, 'Predicted': y_pred})\n",
    "#     score.append([f1_score(y_test, y_pred, average=\"micro\"),file])\n",
    "#     score.append([accuracy_score(y_test, y_pred),file])\n",
    "#     print(df)\n",
    "# score.sort(reverse=True)\n",
    "# score12.sort(reverse=True)\n",
    "print(\"-------------------------------------------Test : ----------------------------------------------\")\n",
    "for i in range(len(score)):\n",
    "#     print(score[i][1]+\" : \"+str(score[i][0]))\n",
    "    print(score[i][1])\n",
    "for i in range(len(score)):\n",
    "    print(score[i][0])\n",
    "# print(\"-----------------------------------------Test : ----------------------------------------------\")\n",
    "# for i in range(len(score)):\n",
    "#     print(score12[i][1]+\" : \"+str(score12[i][0]))\n",
    "# df"
   ]
  },
  {
   "cell_type": "code",
   "execution_count": null,
   "metadata": {},
   "outputs": [],
   "source": [
    "# # save trained model\n",
    "# for file in pathex:\n",
    "#     ni=file.rfind(\"_\")+1\n",
    "#     n=int(file[ni:].split(\".\")[0])\n",
    "#     df=pd.read_csv(path+file)\n",
    "#     X = df.iloc[:, 0:n].values\n",
    "#     y = df.iloc[:, n].values\n",
    "#     X_train, X_test, y_train, y_test = train_test_split(X, y, random_state=1)\n",
    "#     #Create KNN Classifier\n",
    "#     logmodel = LogisticRegressionCV(cv=5,random_state=0,multi_class=\"auto\",max_iter=1000)\n",
    "#     logmodel.fit(X_train, y_train)\n",
    "#     filename = \"yLogcv_\"+file[:-4]+\".sav\"\n",
    "#     pickle.dump(logmodel, open(modelpath+filename, 'wb'))"
   ]
  }
 ],
 "metadata": {
  "kernelspec": {
   "display_name": "Python 3",
   "language": "python",
   "name": "python3"
  },
  "language_info": {
   "codemirror_mode": {
    "name": "ipython",
    "version": 3
   },
   "file_extension": ".py",
   "mimetype": "text/x-python",
   "name": "python",
   "nbconvert_exporter": "python",
   "pygments_lexer": "ipython3",
   "version": "3.7.4"
  }
 },
 "nbformat": 4,
 "nbformat_minor": 2
}
