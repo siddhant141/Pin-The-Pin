{
 "cells": [
  {
   "cell_type": "code",
   "execution_count": 1,
   "metadata": {},
   "outputs": [],
   "source": [
    "import pandas as pd\n",
    "import numpy as np\n",
    "import os\n",
    "from math import ceil\n",
    "from sklearn.model_selection import train_test_split\n",
    "from sklearn.neural_network import MLPClassifier\n",
    "from sklearn import metrics\n",
    "from os import listdir\n",
    "from os.path import isfile, join\n",
    "from sklearn.metrics import confusion_matrix,accuracy_score\n",
    "from sklearn.metrics import f1_score\n",
    "import pickle"
   ]
  },
  {
   "cell_type": "code",
   "execution_count": 2,
   "metadata": {},
   "outputs": [],
   "source": [
    "# path=\"C:\\\\Users\\\\nilu1\\\\Desktop\\\\Code\\\\AndroidPattern\\\\Data\\\\Spike\\\\Using\\\\\"\n",
    "path=\"C:\\\\Users\\\\nilu1\\\\Desktop\\\\Code\\\\AndroidPattern\\\\Data\\\\Using\\\\\"\n",
    "pathex = [f for f in listdir(path) if isfile(join(path, f))]\n",
    "score=[]\n",
    "score12=[]\n",
    "# modelpath=\"C:\\\\Users\\\\nilu1\\\\Desktop\\\\Code\\\\AndroidPattern\\\\Data\\\\Spike\\\\Models\\\\\"\n",
    "modelpath=\"C:\\\\Users\\\\nilu1\\\\Desktop\\\\Code\\\\AndroidPattern\\\\Data\\\\Models\\\\\""
   ]
  },
  {
   "cell_type": "code",
   "execution_count": 3,
   "metadata": {},
   "outputs": [
    {
     "name": "stdout",
     "output_type": "stream",
     "text": [
      "1200\n",
      "6\n"
     ]
    },
    {
     "ename": "TypeError",
     "evalue": "write() takes exactly one argument (2 given)",
     "output_type": "error",
     "traceback": [
      "\u001b[1;31m---------------------------------------------------------------------------\u001b[0m",
      "\u001b[1;31mTypeError\u001b[0m                                 Traceback (most recent call last)",
      "\u001b[1;32m<ipython-input-3-e5a829993f35>\u001b[0m in \u001b[0;36m<module>\u001b[1;34m\u001b[0m\n\u001b[0;32m     11\u001b[0m     \u001b[0mfpath\u001b[0m\u001b[1;33m=\u001b[0m\u001b[1;34m\"C:\\\\Users\\\\nilu1\\\\Desktop\\\\Code\\\\AndroidPattern\\\\Data\\\\Results\\\\\"\u001b[0m\u001b[1;33m\u001b[0m\u001b[1;33m\u001b[0m\u001b[0m\n\u001b[0;32m     12\u001b[0m     \u001b[0mf\u001b[0m \u001b[1;33m=\u001b[0m \u001b[0mopen\u001b[0m\u001b[1;33m(\u001b[0m\u001b[0mfpath\u001b[0m\u001b[1;33m+\u001b[0m\u001b[0mfile\u001b[0m\u001b[1;33m+\u001b[0m\u001b[1;34m\"iden\"\u001b[0m\u001b[1;33m+\u001b[0m\u001b[1;34m\".txt\"\u001b[0m\u001b[1;33m,\u001b[0m \u001b[1;34m\"w\"\u001b[0m\u001b[1;33m)\u001b[0m\u001b[1;33m\u001b[0m\u001b[1;33m\u001b[0m\u001b[0m\n\u001b[1;32m---> 13\u001b[1;33m     \u001b[0mf\u001b[0m\u001b[1;33m.\u001b[0m\u001b[0mwrite\u001b[0m\u001b[1;33m(\u001b[0m\u001b[1;34m\"\\n\"\u001b[0m\u001b[1;33m,\u001b[0m\u001b[0mn\u001b[0m\u001b[1;33m)\u001b[0m\u001b[1;33m\u001b[0m\u001b[1;33m\u001b[0m\u001b[0m\n\u001b[0m\u001b[0;32m     14\u001b[0m     \u001b[0mf\u001b[0m\u001b[1;33m.\u001b[0m\u001b[0mwrite\u001b[0m\u001b[1;33m(\u001b[0m\u001b[1;34m\"\\n\"\u001b[0m\u001b[1;33m,\u001b[0m\u001b[0mlast\u001b[0m\u001b[1;33m)\u001b[0m\u001b[1;33m\u001b[0m\u001b[1;33m\u001b[0m\u001b[0m\n\u001b[0;32m     15\u001b[0m \u001b[1;33m\u001b[0m\u001b[0m\n",
      "\u001b[1;31mTypeError\u001b[0m: write() takes exactly one argument (2 given)"
     ]
    }
   ],
   "source": [
    "for file in pathex:\n",
    "    iters=500\n",
    "#     file=pathex[0]\n",
    "    ni=file.rfind(\"_\")+1\n",
    "    n=int(file[ni:].split(\".\")[0])\n",
    "    dfuni=pd.read_csv(path+file)\n",
    "    last=ceil(dfuni.index[-1]/iters)\n",
    "    print(n)\n",
    "    print(last)\n",
    "\n",
    "    fpath=\"C:\\\\Users\\\\nilu1\\\\Desktop\\\\Code\\\\AndroidPattern\\\\Data\\\\Results\\\\\"\n",
    "    f = open(fpath+file+\"iden\"+\".txt\", \"w\")\n",
    "    f.write(\"\\n\"+str(n))\n",
    "    f.write(\"\\n\"+str(last))\n",
    "\n",
    "    X = dfuni.iloc[:, 0:n].values\n",
    "    y = dfuni.iloc[:, n].values\n",
    "    X_train, X_test, y_train, y_test = train_test_split(X, y, test_size=0.075)\n",
    "\n",
    "    # logmodel=MLPClassifier(solver=\"lbfgs\",max_iter=500,warm_start=True,activation=\"identity\",hidden_layer_sizes=(800,10))\n",
    "    logmodel=MLPClassifier(solver=\"lbfgs\",max_iter=500,warm_start=True,activation=\"identity\")\n",
    "\n",
    "    for i in range(last):\n",
    "\n",
    "        if(i!=last-1):\n",
    "    #         df=dfuni.head(iters*(i+1))\n",
    "            X = X_train[:iters*(i+1)]\n",
    "            y = y_train[:iters*(i+1)]\n",
    "        else:\n",
    "            X=X_train\n",
    "            y=y_train\n",
    "\n",
    "        print(X_train.size,X.size)\n",
    "        f.write(\"\\n\"+str(X_train.size)+str(X.size))\n",
    "\n",
    "    #     logmodel.fit(X_train, y_train)\n",
    "        logmodel.fit(X, y)\n",
    "        y_pred = logmodel.predict(X_test)\n",
    "\n",
    "        p = logmodel.predict_proba(X_test)\n",
    "        nn = 3\n",
    "        top_n = np.argsort(p)[:,:-nn-1:-1]\n",
    "        #     for i in range(len(y_test)):\n",
    "        #         print(y_test[i],top_n[i])\n",
    "        count=0\n",
    "        count1=0\n",
    "        count2=0\n",
    "        count3=0\n",
    "        count12=0\n",
    "        for i in range(len(y_pred)):\n",
    "            if(y_test[i] in top_n[i]):\n",
    "                count+=1\n",
    "            if(y_test[i] in top_n[i][:2]):\n",
    "                count12+=1\n",
    "            if(y_test[i] == top_n[i][0]):\n",
    "                count1+=1\n",
    "            elif(y_test[i] == top_n[i][1]):\n",
    "                count2+=1\n",
    "            elif(y_test[i] == top_n[i][2]):\n",
    "                count3+=1\n",
    "        #         print(y_test[i],y_pred[i])\n",
    "        l=len(y_pred)\n",
    "        print(file)\n",
    "        print(l,count)\n",
    "        print(\"Any one : \",count/l)\n",
    "        print(\"At position 1 and 2 : \",count12/l)\n",
    "        print(\"At position 1 : \",count1/l)\n",
    "        print(\"At position 2 : \",count2/l)\n",
    "        print(\"At position 3 : \",count3/l)\n",
    "        print(accuracy_score(y_test, y_pred))\n",
    "\n",
    "        f.write(\"\\n\"+file)\n",
    "        f.write(\"\\n\"+str(l)+str(count))\n",
    "        f.write(\"\\nAny one : \"+str(count/l))\n",
    "        f.write(\"\\nAt position 1 and 2 : \"+str(count12/l))\n",
    "        f.write(\"\\nAt position 1 : \"+str(count1/l))\n",
    "        f.write(\"\\nAt position 2 : \"+str(count2/l))\n",
    "        f.write(\"\\nAt position 3 : \"+str(count3/l))\n",
    "        f.write(\"\\n\"+str(accuracy_score(y_test, y_pred)))\n",
    "\n",
    "    f.close()\n",
    "    \n",
    "# filename = \"zmlp500_\"+file[:-4]+\".sav\"\n",
    "# pickle.dump(logmodel, open(modelpath+filename, 'wb'))"
   ]
  }
 ],
 "metadata": {
  "kernelspec": {
   "display_name": "Python 3",
   "language": "python",
   "name": "python3"
  },
  "language_info": {
   "codemirror_mode": {
    "name": "ipython",
    "version": 3
   },
   "file_extension": ".py",
   "mimetype": "text/x-python",
   "name": "python",
   "nbconvert_exporter": "python",
   "pygments_lexer": "ipython3",
   "version": "3.7.4"
  }
 },
 "nbformat": 4,
 "nbformat_minor": 2
}
