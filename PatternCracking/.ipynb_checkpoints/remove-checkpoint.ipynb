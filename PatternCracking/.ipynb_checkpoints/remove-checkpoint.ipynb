{
 "cells": [
  {
   "cell_type": "code",
   "execution_count": 1,
   "metadata": {},
   "outputs": [],
   "source": [
    "import os\n",
    "from os.path import isfile, join"
   ]
  },
  {
   "cell_type": "code",
   "execution_count": 2,
   "metadata": {},
   "outputs": [
    {
     "name": "stdout",
     "output_type": "stream",
     "text": [
      "The file does not exist :  Acc_w_25_windowend_66b325&b56522_75.csv\n",
      "The file does not exist :  Acc_w_25_windowinitend_66b325&b56522_75.csv\n",
      "The file does not exist :  Gyro_50_window_a99828&a99830&66b325&b56522_150.csv\n",
      "The file does not exist :  Acc_w_25_4vuni_66b325&b56522_9.csv\n",
      "The file does not exist :  Acc_w_25_window_66b325&b56522_75.csv\n",
      "The file does not exist :  Acc_w_30_4vuni_66b325&b56522_9.csv\n",
      "The file does not exist :  Acc_w_30_window_66b325&b56522_90.csv\n",
      "The file does not exist :  Gyro_45_window_a99828&a99830&66b325&b56522_135.csv\n",
      "The file does not exist :  Acc_w_30_windowend_66b325&b56522_90.csv\n",
      "The file does not exist :  Acc_w_30_windowinitend_66b325&b56522_90.csv\n",
      "The file does not exist :  Gyro_25_window_66b325&b56522_75.csv\n",
      "The file does not exist :  Gyro_60_windowend_a99828&a99830&66b325&b56522_180.csv\n",
      "The file does not exist :  Gyro_30_windowend_a99828&a99830&66b325&b56522_90.csv\n",
      "The file does not exist :  Gyro_30_windowinitend_a99828&a99830&66b325&b56522_90.csv\n",
      "The file does not exist :  Gyro_55_windowend_a99828&a99830&66b325&b56522_165.csv\n",
      "The file does not exist :  Gyro_35_windowend_a99828&a99830&66b325&b56522_105.csv\n",
      "The file does not exist :  Gyro_25_window_a99828&a99830_75.csv\n",
      "The file does not exist :  Gyro_30_4v_a99828&a99830&66b325&b56522_9.csv\n",
      "The file does not exist :  Gyro_40_windowend_a99828&a99830&66b325&b56522_120.csv\n",
      "The file does not exist :  Gyro_50_windowend_a99828&a99830&66b325&b56522_150.csv\n",
      "The file does not exist :  Acc_w_30_4v_a99828&a99830&66b325&b56522_9.csv\n",
      "The file does not exist :  Gyro_25_window_a99828&a99830&66b325&b56522_75.csv\n",
      "The file does not exist :  Gyro_40_window_a99828&a99830&66b325&b56522_120.csv\n",
      "The file does not exist :  Gyro_25_4vuni_a99828&a99830&66b325&b56522_9.csv\n",
      "The file does not exist :  Gyro_35_window_a99828&a99830&66b325&b56522_105.csv\n",
      "The file does not exist :  Gyro_25_windowend_a99828&a99830&66b325&b56522_75.csv\n",
      "The file does not exist :  Gyro_25_windowinitend_a99828&a99830&66b325&b56522_75.csv\n",
      "The file does not exist :  Gyro_45_windowend_a99828&a99830&66b325&b56522_135.csv\n",
      "The file does not exist :  Gyro_30_4v_a99828&a99830_9.csv\n",
      "The file does not exist :  Gyro_40_window_a99828&a99830_120.csv\n",
      "The file does not exist :  Gyro_25_4v_a99828&a99830&66b325&b56522_9.csv\n",
      "The file does not exist :  Gyro_30_window_a99828&a99830&66b325&b56522_90.csv\n",
      "The file does not exist :  Acc_w_25_window_a99828&a99830&66b325&b56522_75.csv\n",
      "The file does not exist :  Gyro_30_4vuni_a99828&a99830&66b325&b56522_9.csv\n",
      "The file does not exist :  Acc_w_25_4v_a99828&a99830&66b325&b56522_9.csv\n",
      "The file does not exist :  Gyro_25_4v_a99828&a99830_9.csv\n",
      "The file does not exist :  Gyro_50_window_a99828&a99830_150.csv\n",
      "The file does not exist :  Acc_w_30_window_a99828&a99830&66b325&b56522_90.csv\n",
      "The file does not exist :  Gyro_50_windowend_a99828&a99830_150.csv\n",
      "The file does not exist :  Gyro_55_window_a99828&a99830_165.csv\n",
      "The file does not exist :  Acc_w_25_windowend_a99828&a99830&66b325&b56522_75.csv\n",
      "The file does not exist :  Acc_w_25_windowinitend_a99828&a99830&66b325&b56522_75.csv\n",
      "The file does not exist :  Acc_wGyro_25_windowinitend_a99828&a99830&66b325&b56522_75.csv\n",
      "The file does not exist :  Gyro_35_window_a99828&a99830_105.csv\n",
      "The file does not exist :  Gyro_45_window_a99828&a99830_135.csv\n",
      "The file does not exist :  Acc_w_25_4vuni_a99828&a99830&66b325&b56522_9.csv\n",
      "The file does not exist :  Acc_w_30_windowend_a99828&a99830&66b325&b56522_90.csv\n",
      "The file does not exist :  Acc_w_30_windowinitend_a99828&a99830&66b325&b56522_90.csv\n",
      "The file does not exist :  Acc_w_30_4vuni_a99828&a99830&66b325&b56522_9.csv\n",
      "The file does not exist :  Gyro_45_windowend_a99828&a99830_135.csv\n",
      "The file does not exist :  Gyro_60_window_a99828&a99830_180.csv\n",
      "The file does not exist :  Acc_wGyro_30_windowinitend_a99828&a99830&66b325&b56522_90.csv\n",
      "The file does not exist :  Gyro_25_4vuni_a99828&a99830_9.csv\n",
      "The file does not exist :  Gyro_30_window_a99828&a99830_90.csv\n",
      "The file does not exist :  Gyro_35_windowend_a99828&a99830_105.csv\n",
      "The file does not exist :  Gyro_55_windowend_a99828&a99830_165.csv\n",
      "The file does not exist :  Acc_w_30_window_a99828&a99830_90.csv\n",
      "The file does not exist :  Gyro_40_windowend_a99828&a99830_120.csv\n",
      "The file does not exist :  Gyro_60_windowend_a99828&a99830_180.csv\n",
      "The file does not exist :  Acc_w_25_window_a99828&a99830_75.csv\n",
      "The file does not exist :  Gyro_30_4vuni_a99828&a99830_9.csv\n",
      "The file does not exist :  Gyro_25_windowend_a99828&a99830_75.csv\n",
      "The file does not exist :  Gyro_25_windowinitend_a99828&a99830_75.csv\n",
      "The file does not exist :  Acc_w_25_4vuni_a99828&a99830_9.csv\n",
      "The file does not exist :  Gyro_30_windowend_a99828&a99830_90.csv\n",
      "The file does not exist :  Gyro_30_windowinitend_a99828&a99830_90.csv\n",
      "The file does not exist :  Acc_w_25_windowend_a99828&a99830_75.csv\n",
      "The file does not exist :  Acc_w_25_windowinitend_a99828&a99830_75.csv\n",
      "The file does not exist :  Acc_w_30_4vuni_a99828&a99830_9.csv\n",
      "The file does not exist :  Acc_w_30_windowend_a99828&a99830_90.csv\n",
      "The file does not exist :  Acc_w_30_windowinitend_a99828&a99830_90.csv\n",
      "The file does not exist :  Acc_w_25_4v_a99828&a99830_9.csv\n",
      "The file does not exist :  Acc_w_30_4v_a99828&a99830_9.csv\n"
     ]
    }
   ],
   "source": [
    "path=\"C:\\\\Users\\\\nilu1\\\\Desktop\\\\Code\\\\AndroidPattern\\\\Data\\\\\"\n",
    "file=open(path+\"remove.txt\",\"r\")\n",
    "pathex=file.readlines()\n",
    "for i in pathex:\n",
    "    i=i.strip(\"\\n\")\n",
    "    if os.path.exists(path+\"Used\\\\\"+i):\n",
    "        os.remove(path+\"Used\\\\\"+i)\n",
    "#     else:\n",
    "#         print(\"The file does not exist : \",i)"
   ]
  }
 ],
 "metadata": {
  "kernelspec": {
   "display_name": "Python 3",
   "language": "python",
   "name": "python3"
  },
  "language_info": {
   "codemirror_mode": {
    "name": "ipython",
    "version": 3
   },
   "file_extension": ".py",
   "mimetype": "text/x-python",
   "name": "python",
   "nbconvert_exporter": "python",
   "pygments_lexer": "ipython3",
   "version": "3.7.4"
  }
 },
 "nbformat": 4,
 "nbformat_minor": 2
}
