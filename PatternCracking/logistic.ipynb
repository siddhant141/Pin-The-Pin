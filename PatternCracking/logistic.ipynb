{
 "cells": [
  {
   "cell_type": "code",
   "execution_count": 1,
   "metadata": {},
   "outputs": [],
   "source": [
    "import pandas as pd\n",
    "import numpy as np\n",
    "import os\n",
    "from sklearn.model_selection import train_test_split\n",
    "from sklearn.preprocessing import StandardScaler\n",
    "from sklearn.linear_model import LogisticRegression\n",
    "from sklearn.metrics import classification_report\n",
    "from sklearn.metrics import confusion_matrix,accuracy_score\n",
    "from sklearn import metrics\n",
    "from os import listdir\n",
    "from os.path import isfile, join\n",
    "from sklearn.preprocessing import Normalizer\n",
    "from sklearn.metrics import f1_score"
   ]
  },
  {
   "cell_type": "code",
   "execution_count": 2,
   "metadata": {},
   "outputs": [],
   "source": [
    "path=\"C:\\\\Users\\\\nilu1\\\\Desktop\\\\Code\\\\AndroidPattern\\\\Data\\\\Standardized\\\\\"\n",
    "pathex = [f for f in listdir(path) if isfile(join(path, f))]\n",
    "score=[]\n",
    "# for i in range(len(pathex)):\n",
    "#     print(pathex[i])"
   ]
  },
  {
   "cell_type": "code",
   "execution_count": 3,
   "metadata": {
    "scrolled": true
   },
   "outputs": [
    {
     "name": "stderr",
     "output_type": "stream",
     "text": [
      "C:\\Users\\nilu1\\Anaconda3\\lib\\site-packages\\sklearn\\linear_model\\logistic.py:947: ConvergenceWarning: lbfgs failed to converge. Increase the number of iterations.\n",
      "  \"of iterations.\", ConvergenceWarning)\n",
      "C:\\Users\\nilu1\\Anaconda3\\lib\\site-packages\\sklearn\\linear_model\\logistic.py:947: ConvergenceWarning: lbfgs failed to converge. Increase the number of iterations.\n",
      "  \"of iterations.\", ConvergenceWarning)\n",
      "C:\\Users\\nilu1\\Anaconda3\\lib\\site-packages\\sklearn\\linear_model\\logistic.py:947: ConvergenceWarning: lbfgs failed to converge. Increase the number of iterations.\n",
      "  \"of iterations.\", ConvergenceWarning)\n",
      "C:\\Users\\nilu1\\Anaconda3\\lib\\site-packages\\sklearn\\linear_model\\logistic.py:947: ConvergenceWarning: lbfgs failed to converge. Increase the number of iterations.\n",
      "  \"of iterations.\", ConvergenceWarning)\n",
      "C:\\Users\\nilu1\\Anaconda3\\lib\\site-packages\\sklearn\\linear_model\\logistic.py:947: ConvergenceWarning: lbfgs failed to converge. Increase the number of iterations.\n",
      "  \"of iterations.\", ConvergenceWarning)\n",
      "C:\\Users\\nilu1\\Anaconda3\\lib\\site-packages\\sklearn\\linear_model\\logistic.py:947: ConvergenceWarning: lbfgs failed to converge. Increase the number of iterations.\n",
      "  \"of iterations.\", ConvergenceWarning)\n",
      "C:\\Users\\nilu1\\Anaconda3\\lib\\site-packages\\sklearn\\linear_model\\logistic.py:947: ConvergenceWarning: lbfgs failed to converge. Increase the number of iterations.\n",
      "  \"of iterations.\", ConvergenceWarning)\n",
      "C:\\Users\\nilu1\\Anaconda3\\lib\\site-packages\\sklearn\\linear_model\\logistic.py:947: ConvergenceWarning: lbfgs failed to converge. Increase the number of iterations.\n",
      "  \"of iterations.\", ConvergenceWarning)\n",
      "C:\\Users\\nilu1\\Anaconda3\\lib\\site-packages\\sklearn\\linear_model\\logistic.py:947: ConvergenceWarning: lbfgs failed to converge. Increase the number of iterations.\n",
      "  \"of iterations.\", ConvergenceWarning)\n",
      "C:\\Users\\nilu1\\Anaconda3\\lib\\site-packages\\sklearn\\linear_model\\logistic.py:947: ConvergenceWarning: lbfgs failed to converge. Increase the number of iterations.\n",
      "  \"of iterations.\", ConvergenceWarning)\n"
     ]
    },
    {
     "name": "stdout",
     "output_type": "stream",
     "text": [
      "--------------------------Test : ----------------------------\n",
      "Gyro_30_window_66b325&b56522_90.csv : 0.425531914893617\n",
      "Gyro_30_4vuni_66b325&b56522_9.csv : 0.40425531914893614\n",
      "Gyro_30_4v_66b325&b56522_9.csv : 0.3971631205673759\n",
      "Acc_w_25_window_66b325&b56522_75.csv : 0.3829787234042553\n",
      "Acc_w_25_4v_66b325&b56522_9.csv : 0.3829787234042553\n",
      "Gyro_25_window_66b325&b56522_75.csv : 0.375886524822695\n",
      "Gyro_25_4vuni_66b325&b56522_9.csv : 0.36879432624113473\n",
      "Gyro_25_4v_66b325&b56522_9.csv : 0.36879432624113473\n",
      "Acc_w_30_window_66b325&b56522_90.csv : 0.36879432624113473\n",
      "Acc_w_30_4v_66b325&b56522_9.csv : 0.3617021276595745\n",
      "Acc_w_25_4vuni_66b325&b56522_9.csv : 0.3546099290780142\n",
      "Gyro_25_4v_a99828&a99830_9.csv : 0.31\n",
      "Acc_w_30_4vuni_66b325&b56522_9.csv : 0.28368794326241137\n",
      "Gyro_25_window_a99828&a99830&66b325&b56522_75.csv : 0.2821576763485477\n",
      "Gyro_30_window_a99828&a99830&66b325&b56522_90.csv : 0.27385892116182575\n",
      "Gyro_25_4vuni_a99828&a99830_9.csv : 0.27\n",
      "Gyro_25_4vuni_a99828&a99830&66b325&b56522_9.csv : 0.26141078838174275\n",
      "Gyro_25_window_a99828&a99830_75.csv : 0.26\n",
      "Acc_w_30_window_a99828&a99830_90.csv : 0.25\n",
      "Gyro_30_4vuni_a99828&a99830&66b325&b56522_9.csv : 0.24066390041493776\n",
      "Gyro_25_4v_a99828&a99830&66b325&b56522_9.csv : 0.24066390041493776\n",
      "Gyro_30_4v_a99828&a99830&66b325&b56522_9.csv : 0.22821576763485477\n",
      "Acc_w_30_window_a99828&a99830&66b325&b56522_90.csv : 0.22406639004149378\n",
      "Gyro_30_window_a99828&a99830_90.csv : 0.22\n",
      "Gyro_30_4vuni_a99828&a99830_9.csv : 0.22\n",
      "Gyro_30_4v_a99828&a99830_9.csv : 0.22\n",
      "Acc_w_30_4vuni_a99828&a99830_9.csv : 0.22\n",
      "Acc_w_25_window_a99828&a99830_75.csv : 0.22\n",
      "Acc_w_25_4v_a99828&a99830_9.csv : 0.22\n",
      "Acc_w_30_4v_a99828&a99830&66b325&b56522_9.csv : 0.21161825726141079\n",
      "Acc_w_25_window_a99828&a99830&66b325&b56522_75.csv : 0.2033195020746888\n",
      "Acc_w_25_4vuni_a99828&a99830_9.csv : 0.2\n",
      "Acc_w_25_4v_a99828&a99830&66b325&b56522_9.csv : 0.18672199170124482\n",
      "Acc_w_30_4vuni_a99828&a99830&66b325&b56522_9.csv : 0.1825726141078838\n",
      "Acc_w_25_4vuni_a99828&a99830&66b325&b56522_9.csv : 0.1825726141078838\n",
      "Acc_w_30_4v_a99828&a99830_9.csv : 0.18\n"
     ]
    },
    {
     "name": "stderr",
     "output_type": "stream",
     "text": [
      "C:\\Users\\nilu1\\Anaconda3\\lib\\site-packages\\sklearn\\linear_model\\logistic.py:947: ConvergenceWarning: lbfgs failed to converge. Increase the number of iterations.\n",
      "  \"of iterations.\", ConvergenceWarning)\n",
      "C:\\Users\\nilu1\\Anaconda3\\lib\\site-packages\\sklearn\\linear_model\\logistic.py:947: ConvergenceWarning: lbfgs failed to converge. Increase the number of iterations.\n",
      "  \"of iterations.\", ConvergenceWarning)\n"
     ]
    }
   ],
   "source": [
    "for file in pathex:\n",
    "    ni=file.rfind(\"_\")+1\n",
    "    n=int(file[ni:].split(\".\")[0])\n",
    "    df=pd.read_csv(path+file)\n",
    "    x = df.iloc[:, 0:n].values\n",
    "    y = df.iloc[:, n].values\n",
    "    # x = df.drop('Home', axis=1)\n",
    "    # y = df['Home']\n",
    "    X_train, X_test, y_train, y_test = train_test_split(x, y, test_size=0.25, random_state=0)\n",
    "#     sc = StandardScaler()\n",
    "#     X_train = sc.fit_transform(X_train)\n",
    "#     X_test = sc.transform(X_test)\n",
    "    logmodel = LogisticRegression(random_state=0, multi_class=\"auto\",solver=\"lbfgs\")\n",
    "    logmodel.fit(X_train, y_train)\n",
    "#     y_pred = logmodel.predict(X_train)\n",
    "#     print(file,end=\" : \")\n",
    "#     print(accuracy_score(y_train,y_pred))\n",
    "    y_pred = logmodel.predict(X_test)\n",
    "    df = pd.DataFrame({'Actual': y_test, 'Predicted': y_pred})\n",
    "#     score.append([f1_score(y_test, y_pred, average=\"micro\"),file])\n",
    "    score.append([accuracy_score(y_test, y_pred),file])\n",
    "score.sort(reverse=True)\n",
    "print(\"--------------------------Test : ----------------------------\")\n",
    "for i in range(len(score)):\n",
    "    print(score[i][1]+\" : \"+str(score[i][0]))\n",
    "    #df"
   ]
  },
  {
   "cell_type": "code",
   "execution_count": 4,
   "metadata": {},
   "outputs": [],
   "source": [
    "# non-uniform = 0.428, 0.44(2 days), 0.37(some data), 0.14(lot data)\n",
    "# 3 values: 0.3(n=25), 0.325 (n=30) (260 files)\n",
    "# uniform = 0.5\n",
    "# 160 files=0.275\n",
    "# lot data=0.125"
   ]
  }
 ],
 "metadata": {
  "kernelspec": {
   "display_name": "Python 3",
   "language": "python",
   "name": "python3"
  },
  "language_info": {
   "codemirror_mode": {
    "name": "ipython",
    "version": 3
   },
   "file_extension": ".py",
   "mimetype": "text/x-python",
   "name": "python",
   "nbconvert_exporter": "python",
   "pygments_lexer": "ipython3",
   "version": "3.7.4"
  }
 },
 "nbformat": 4,
 "nbformat_minor": 2
}
