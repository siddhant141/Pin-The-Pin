{
 "cells": [
  {
   "cell_type": "code",
   "execution_count": 1,
   "metadata": {},
   "outputs": [],
   "source": [
    "import pandas as pd\n",
    "import numpy as np\n",
    "from sklearn.model_selection import train_test_split\n",
    "from sklearn.preprocessing import StandardScaler\n",
    "from sklearn.ensemble import RandomForestRegressor\n",
    "from sklearn import metrics\n",
    "from os import listdir\n",
    "from os.path import isfile, join\n",
    "from sklearn import datasets \n",
    "from sklearn.metrics import confusion_matrix \n",
    "from sklearn.tree import DecisionTreeClassifier\n",
    "from sklearn.metrics import f1_score"
   ]
  },
  {
   "cell_type": "code",
   "execution_count": 2,
   "metadata": {},
   "outputs": [],
   "source": [
    "path=\"C:\\\\Users\\\\nilu1\\\\Desktop\\\\Code\\\\AndroidPattern\\\\Data\\\\Using\\\\\"\n",
    "pathex = [f for f in listdir(path) if isfile(join(path, f))]\n",
    "score=[]\n",
    "# for i in range(len(pathex)):\n",
    "#     print(pathex[i])"
   ]
  },
  {
   "cell_type": "code",
   "execution_count": 3,
   "metadata": {},
   "outputs": [
    {
     "name": "stdout",
     "output_type": "stream",
     "text": [
      "Acc_w_25_window_66b325&b56522_75.csv : 0.3191489361702128\n",
      "Acc_w_30_4v_66b325&b56522_9.csv : 0.2907801418439716\n",
      "Acc_w_25_4vuni_66b325&b56522_9.csv : 0.2695035460992908\n",
      "Acc_w_30_window_66b325_90.csv : 0.26732673267326734\n",
      "Acc_w_25_window_66b325_75.csv : 0.26732673267326734\n",
      "Acc_w_25_4v_66b325_9.csv : 0.25742574257425743\n",
      "Acc_w_30_window_66b325&b56522_90.csv : 0.24822695035460993\n",
      "Acc_w_30_4vuni_66b325&b56522_9.csv : 0.24113475177304963\n",
      "Acc_w_30_4vuni_66b325_9.csv : 0.22772277227722773\n",
      "Acc_w_25_4vuni_66b325_9.csv : 0.2079207920792079\n",
      "Acc_w_25_4v_66b325&b56522_9.csv : 0.2056737588652482\n",
      "Acc_w_30_4v_66b325_9.csv : 0.18811881188118812\n",
      "Acc_w_30_windowdelinit_66b325_90.csv : 0.1485148514851485\n",
      "Acc_w_25_windowdelinit_66b325_75.csv : 0.09900990099009901\n"
     ]
    }
   ],
   "source": [
    "for file in pathex:\n",
    "    ni=file.rfind(\"_\")+1\n",
    "    n=int(file[ni:].split(\".\")[0])\n",
    "    df=pd.read_csv(path+file)\n",
    "    X = df.iloc[:, 0:n].values\n",
    "    y = df.iloc[:, n].values\n",
    "    X_train, X_test, y_train, y_test = train_test_split(X, y, test_size=0.25, random_state=0)\n",
    "    dtree_model = DecisionTreeClassifier(max_depth = 15).fit(X_train, y_train)\n",
    "    y_pred = dtree_model.predict(X_test)\n",
    "    df = pd.DataFrame({'Actual': y_test, 'Predicted': y_pred})\n",
    "    score.append([f1_score(y_test, y_pred, average=\"micro\"),file])\n",
    "score.sort(reverse=True)\n",
    "for i in range(len(score)):\n",
    "    print(score[i][1]+\" : \"+str(score[i][0]))\n",
    "#     df"
   ]
  },
  {
   "cell_type": "code",
   "execution_count": 4,
   "metadata": {},
   "outputs": [],
   "source": [
    "# non-uniform = 0.57\n",
    "#non = 0.61 (2 days data)\n",
    "#uniform = 0.57"
   ]
  }
 ],
 "metadata": {
  "kernelspec": {
   "display_name": "Python 3",
   "language": "python",
   "name": "python3"
  },
  "language_info": {
   "codemirror_mode": {
    "name": "ipython",
    "version": 3
   },
   "file_extension": ".py",
   "mimetype": "text/x-python",
   "name": "python",
   "nbconvert_exporter": "python",
   "pygments_lexer": "ipython3",
   "version": "3.7.4"
  }
 },
 "nbformat": 4,
 "nbformat_minor": 2
}
