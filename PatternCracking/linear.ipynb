{
 "cells": [
  {
   "cell_type": "code",
   "execution_count": 1,
   "metadata": {},
   "outputs": [],
   "source": [
    "import pandas as pd\n",
    "import numpy as np\n",
    "import matplotlib.pyplot as plt\n",
    "%matplotlib inline\n",
    "from sklearn.model_selection import train_test_split\n",
    "from sklearn.linear_model import LinearRegression\n",
    "from sklearn import metrics"
   ]
  },
  {
   "cell_type": "code",
   "execution_count": 2,
   "metadata": {},
   "outputs": [],
   "source": [
    "path=\"C:\\\\Users\\\\nilu1\\\\PatternCracking\\\\gyro\\\\\"\n",
    "pathex=[\"20-Dec-2019_115007_PM\",\"20-Dec-2019_115016_PM\",\"20-Dec-2019_115028_PM\",\"20-Dec-2019_115035_PM\",\"20-Dec-2019_115042_PM\",\"20-Dec-2019_115054_PM\",\"20-Dec-2019_115105_PM\",\n",
    "       \"21-Dec-2019_11052_AM\",\"21-Dec-2019_11058_AM\",\"21-Dec-2019_11103_AM\",\"21-Dec-2019_11108_AM\",\n",
    "       \"21-Dec-2019_11114_AM\",\"21-Dec-2019_11125_AM\",\"21-Dec-2019_11129_AM\",\"21-Dec-2019_11134_AM\"]\n",
    "df=pd.read_csv(path+pathex[0]+\".csv\")\n",
    "df=df.head(240)\n",
    "df1=df.stack().swaplevel()\n",
    "df1.index=df1.index.map('{0[0]}_{0[1]}'.format)\n",
    "df=df1.to_frame().T\n",
    "df.insert(960, \"key\", \"1\")"
   ]
  },
  {
   "cell_type": "code",
   "execution_count": 3,
   "metadata": {},
   "outputs": [],
   "source": [
    "for i in range(1,len(pathex)):\n",
    "    dff=pd.read_csv(path+pathex[i]+\".csv\")\n",
    "    dff=dff.head(240)\n",
    "    df1=dff.stack().swaplevel()\n",
    "    df1.index=df1.index.map('{0[0]}_{0[1]}'.format) \n",
    "    dff=df1.to_frame().T\n",
    "    if(i>=7 and i<=8):\n",
    "        dff.insert(960, \"key\", \"0\")\n",
    "    elif(i>=9 and i<=11):\n",
    "        dff.insert(960, \"key\", \"7\")\n",
    "    elif(i>=7 and i<=8):\n",
    "        dff.insert(960, \"key\", \"3\")\n",
    "    else:\n",
    "        dff.insert(960, \"key\", \"1\")\n",
    "    df=df.append(dff,ignore_index = True)"
   ]
  },
  {
   "cell_type": "code",
   "execution_count": 4,
   "metadata": {},
   "outputs": [],
   "source": [
    "cols=[\"Time_\",\"X_\",\"Y_\",\"Z_\"]\n",
    "temp=[]\n",
    "for i in range(240):\n",
    "    for j in range(4):\n",
    "        temp.append(cols[j]+str(i))\n",
    "X = df[temp]\n",
    "y = df['key']"
   ]
  },
  {
   "cell_type": "code",
   "execution_count": 5,
   "metadata": {},
   "outputs": [],
   "source": [
    "#divide train and test data\n",
    "X_train, X_test, y_train, y_test = train_test_split(X, y, test_size=0.2, random_state=0)"
   ]
  },
  {
   "cell_type": "code",
   "execution_count": 6,
   "metadata": {},
   "outputs": [
    {
     "data": {
      "text/plain": [
       "LinearRegression(copy_X=True, fit_intercept=True, n_jobs=None, normalize=False)"
      ]
     },
     "execution_count": 6,
     "metadata": {},
     "output_type": "execute_result"
    }
   ],
   "source": [
    "regressor = LinearRegression()\n",
    "regressor.fit(X_train, y_train)"
   ]
  },
  {
   "cell_type": "code",
   "execution_count": 7,
   "metadata": {},
   "outputs": [
    {
     "data": {
      "text/html": [
       "<div>\n",
       "<style scoped>\n",
       "    .dataframe tbody tr th:only-of-type {\n",
       "        vertical-align: middle;\n",
       "    }\n",
       "\n",
       "    .dataframe tbody tr th {\n",
       "        vertical-align: top;\n",
       "    }\n",
       "\n",
       "    .dataframe thead th {\n",
       "        text-align: right;\n",
       "    }\n",
       "</style>\n",
       "<table border=\"1\" class=\"dataframe\">\n",
       "  <thead>\n",
       "    <tr style=\"text-align: right;\">\n",
       "      <th></th>\n",
       "      <th>Coefficient</th>\n",
       "    </tr>\n",
       "  </thead>\n",
       "  <tbody>\n",
       "    <tr>\n",
       "      <td>Time_0</td>\n",
       "      <td>3.900990e-08</td>\n",
       "    </tr>\n",
       "    <tr>\n",
       "      <td>X_0</td>\n",
       "      <td>5.063824e-10</td>\n",
       "    </tr>\n",
       "    <tr>\n",
       "      <td>Y_0</td>\n",
       "      <td>-1.088447e-11</td>\n",
       "    </tr>\n",
       "    <tr>\n",
       "      <td>Z_0</td>\n",
       "      <td>-3.937112e-11</td>\n",
       "    </tr>\n",
       "    <tr>\n",
       "      <td>Time_1</td>\n",
       "      <td>4.458274e-08</td>\n",
       "    </tr>\n",
       "    <tr>\n",
       "      <td>...</td>\n",
       "      <td>...</td>\n",
       "    </tr>\n",
       "    <tr>\n",
       "      <td>Z_238</td>\n",
       "      <td>9.875945e-10</td>\n",
       "    </tr>\n",
       "    <tr>\n",
       "      <td>Time_239</td>\n",
       "      <td>-1.438351e-05</td>\n",
       "    </tr>\n",
       "    <tr>\n",
       "      <td>X_239</td>\n",
       "      <td>2.085479e-09</td>\n",
       "    </tr>\n",
       "    <tr>\n",
       "      <td>Y_239</td>\n",
       "      <td>1.128922e-09</td>\n",
       "    </tr>\n",
       "    <tr>\n",
       "      <td>Z_239</td>\n",
       "      <td>1.011404e-09</td>\n",
       "    </tr>\n",
       "  </tbody>\n",
       "</table>\n",
       "<p>960 rows × 1 columns</p>\n",
       "</div>"
      ],
      "text/plain": [
       "           Coefficient\n",
       "Time_0    3.900990e-08\n",
       "X_0       5.063824e-10\n",
       "Y_0      -1.088447e-11\n",
       "Z_0      -3.937112e-11\n",
       "Time_1    4.458274e-08\n",
       "...                ...\n",
       "Z_238     9.875945e-10\n",
       "Time_239 -1.438351e-05\n",
       "X_239     2.085479e-09\n",
       "Y_239     1.128922e-09\n",
       "Z_239     1.011404e-09\n",
       "\n",
       "[960 rows x 1 columns]"
      ]
     },
     "execution_count": 7,
     "metadata": {},
     "output_type": "execute_result"
    }
   ],
   "source": [
    "coeff_df = pd.DataFrame(regressor.coef_, X.columns, columns=['Coefficient'])\n",
    "coeff_df"
   ]
  },
  {
   "cell_type": "code",
   "execution_count": 8,
   "metadata": {},
   "outputs": [],
   "source": [
    "y_pred = regressor.predict(X_test)"
   ]
  },
  {
   "cell_type": "code",
   "execution_count": 9,
   "metadata": {},
   "outputs": [
    {
     "data": {
      "text/html": [
       "<div>\n",
       "<style scoped>\n",
       "    .dataframe tbody tr th:only-of-type {\n",
       "        vertical-align: middle;\n",
       "    }\n",
       "\n",
       "    .dataframe tbody tr th {\n",
       "        vertical-align: top;\n",
       "    }\n",
       "\n",
       "    .dataframe thead th {\n",
       "        text-align: right;\n",
       "    }\n",
       "</style>\n",
       "<table border=\"1\" class=\"dataframe\">\n",
       "  <thead>\n",
       "    <tr style=\"text-align: right;\">\n",
       "      <th></th>\n",
       "      <th>Actual</th>\n",
       "      <th>Predicted</th>\n",
       "    </tr>\n",
       "  </thead>\n",
       "  <tbody>\n",
       "    <tr>\n",
       "      <td>5</td>\n",
       "      <td>1</td>\n",
       "      <td>1.000000</td>\n",
       "    </tr>\n",
       "    <tr>\n",
       "      <td>1</td>\n",
       "      <td>1</td>\n",
       "      <td>1.000000</td>\n",
       "    </tr>\n",
       "    <tr>\n",
       "      <td>7</td>\n",
       "      <td>0</td>\n",
       "      <td>3.428571</td>\n",
       "    </tr>\n",
       "  </tbody>\n",
       "</table>\n",
       "</div>"
      ],
      "text/plain": [
       "  Actual  Predicted\n",
       "5      1   1.000000\n",
       "1      1   1.000000\n",
       "7      0   3.428571"
      ]
     },
     "execution_count": 9,
     "metadata": {},
     "output_type": "execute_result"
    }
   ],
   "source": [
    "df = pd.DataFrame({'Actual': y_test, 'Predicted': y_pred})\n",
    "df"
   ]
  },
  {
   "cell_type": "code",
   "execution_count": 10,
   "metadata": {},
   "outputs": [
    {
     "name": "stdout",
     "output_type": "stream",
     "text": [
      "Mean Absolute Error: 1.1428571428571435\n",
      "Mean Squared Error: 3.918367346938774\n",
      "Root Mean Squared Error: 1.9794866372215736\n"
     ]
    }
   ],
   "source": [
    "print('Mean Absolute Error:', metrics.mean_absolute_error(y_test, y_pred))\n",
    "print('Mean Squared Error:', metrics.mean_squared_error(y_test, y_pred))\n",
    "print('Root Mean Squared Error:', np.sqrt(metrics.mean_squared_error(y_test, y_pred)))"
   ]
  }
 ],
 "metadata": {
  "kernelspec": {
   "display_name": "Python 3",
   "language": "python",
   "name": "python3"
  },
  "language_info": {
   "codemirror_mode": {
    "name": "ipython",
    "version": 3
   },
   "file_extension": ".py",
   "mimetype": "text/x-python",
   "name": "python",
   "nbconvert_exporter": "python",
   "pygments_lexer": "ipython3",
   "version": "3.7.4"
  }
 },
 "nbformat": 4,
 "nbformat_minor": 2
}
