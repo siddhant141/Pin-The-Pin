{
 "cells": [
  {
   "cell_type": "code",
   "execution_count": 1,
   "metadata": {},
   "outputs": [],
   "source": [
    "import pandas as pd\n",
    "import numpy as np\n",
    "import os\n",
    "from sklearn.model_selection import train_test_split\n",
    "from sklearn.preprocessing import StandardScaler\n",
    "from sklearn.preprocessing import Normalizer\n",
    "from sklearn.ensemble import RandomForestRegressor\n",
    "from sklearn.ensemble import RandomForestClassifier\n",
    "from sklearn import metrics\n",
    "from os import listdir\n",
    "from os.path import isfile, join\n",
    "from sklearn.metrics import confusion_matrix,accuracy_score\n",
    "from sklearn.metrics import f1_score"
   ]
  },
  {
   "cell_type": "code",
   "execution_count": 2,
   "metadata": {
    "scrolled": true
   },
   "outputs": [],
   "source": [
    "path=\"C:\\\\Users\\\\nilu1\\\\Desktop\\\\Code\\\\AndroidPattern\\\\Data\\\\Standardized\\\\\"\n",
    "pathex = [f for f in listdir(path) if isfile(join(path, f))]\n",
    "score=[]\n",
    "# for i in range(len(pathex)):\n",
    "#     print(pathex[i])"
   ]
  },
  {
   "cell_type": "code",
   "execution_count": 3,
   "metadata": {
    "scrolled": true
   },
   "outputs": [
    {
     "name": "stdout",
     "output_type": "stream",
     "text": [
      "Acc_w_25_4vuni_66b325&b56522_9.csv : 0.8660714285714286\n",
      "Acc_w_25_4vuni_a99828&a99830&66b325&b56522_9.csv : 0.7942708333333334\n",
      "Acc_w_25_4vuni_a99828&a99830_9.csv : 0.946875\n",
      "Acc_w_25_4v_66b325&b56522_9.csv : 0.9151785714285714\n",
      "Acc_w_25_4v_a99828&a99830&66b325&b56522_9.csv : 0.84375\n",
      "Acc_w_25_4v_a99828&a99830_9.csv : 0.91875\n",
      "Acc_w_25_window_66b325&b56522_75.csv : 0.9375\n",
      "Acc_w_25_window_a99828&a99830&66b325&b56522_75.csv : 0.8515625\n",
      "Acc_w_25_window_a99828&a99830_75.csv : 0.96875\n",
      "Acc_w_30_4vuni_66b325&b56522_9.csv : 0.8928571428571429\n",
      "Acc_w_30_4vuni_a99828&a99830&66b325&b56522_9.csv : 0.8111979166666666\n",
      "Acc_w_30_4vuni_a99828&a99830_9.csv : 0.934375\n",
      "Acc_w_30_4v_66b325&b56522_9.csv : 0.9375\n",
      "Acc_w_30_4v_a99828&a99830&66b325&b56522_9.csv : 0.8177083333333334\n",
      "Acc_w_30_4v_a99828&a99830_9.csv : 0.915625\n",
      "Acc_w_30_window_66b325&b56522_90.csv : 0.921875\n",
      "Acc_w_30_window_a99828&a99830&66b325&b56522_90.csv : 0.87890625\n",
      "Acc_w_30_window_a99828&a99830_90.csv : 0.9375\n",
      "Gyro_25_4vuni_66b325&b56522_9.csv : 0.96875\n",
      "Gyro_25_4vuni_a99828&a99830&66b325&b56522_9.csv : 0.8919270833333334\n",
      "Gyro_25_4vuni_a99828&a99830_9.csv : 0.9375\n",
      "Gyro_25_4v_66b325&b56522_9.csv : 0.9553571428571429\n",
      "Gyro_25_4v_a99828&a99830&66b325&b56522_9.csv : 0.9153645833333334\n",
      "Gyro_25_4v_a99828&a99830_9.csv : 0.975\n",
      "Gyro_25_window_66b325&b56522_75.csv : 0.9776785714285714\n",
      "Gyro_25_window_a99828&a99830&66b325&b56522_75.csv : 0.9622395833333334\n",
      "Gyro_25_window_a99828&a99830_75.csv : 0.971875\n",
      "Gyro_30_4vuni_66b325&b56522_9.csv : 0.9598214285714286\n",
      "Gyro_30_4vuni_a99828&a99830&66b325&b56522_9.csv : 0.87109375\n",
      "Gyro_30_4vuni_a99828&a99830_9.csv : 0.95625\n",
      "Gyro_30_4v_66b325&b56522_9.csv : 0.9598214285714286\n",
      "Gyro_30_4v_a99828&a99830&66b325&b56522_9.csv : 0.8932291666666666\n",
      "Gyro_30_4v_a99828&a99830_9.csv : 0.971875\n",
      "Gyro_30_window_66b325&b56522_90.csv : 0.9620535714285714\n",
      "Gyro_30_window_a99828&a99830&66b325&b56522_90.csv : 0.9518229166666666\n",
      "Gyro_30_window_a99828&a99830_90.csv : 0.96875\n",
      "--------------------------Test : -------------------------\n",
      "Gyro_25_4v_a99828&a99830_9.csv : 0.4375\n",
      "Gyro_25_window_a99828&a99830_75.csv : 0.425\n",
      "Gyro_25_window_66b325&b56522_75.csv : 0.40707964601769914\n",
      "Acc_w_30_window_66b325&b56522_90.csv : 0.3893805309734513\n",
      "Gyro_30_4vuni_66b325&b56522_9.csv : 0.3805309734513274\n",
      "Acc_w_25_window_a99828&a99830_75.csv : 0.3625\n",
      "Acc_w_30_4v_66b325&b56522_9.csv : 0.35398230088495575\n",
      "Gyro_30_4v_a99828&a99830_9.csv : 0.35\n",
      "Acc_w_30_window_a99828&a99830&66b325&b56522_90.csv : 0.3471502590673575\n",
      "Acc_w_25_window_a99828&a99830&66b325&b56522_75.csv : 0.3471502590673575\n",
      "Gyro_30_window_a99828&a99830_90.csv : 0.325\n",
      "Gyro_30_window_a99828&a99830&66b325&b56522_90.csv : 0.32124352331606215\n",
      "Gyro_30_window_66b325&b56522_90.csv : 0.3185840707964602\n",
      "Acc_w_30_4vuni_66b325&b56522_9.csv : 0.3185840707964602\n",
      "Acc_w_30_4v_a99828&a99830&66b325&b56522_9.csv : 0.31088082901554404\n",
      "Gyro_25_4v_66b325&b56522_9.csv : 0.30973451327433627\n",
      "Acc_w_25_window_66b325&b56522_75.csv : 0.30973451327433627\n",
      "Gyro_30_4v_a99828&a99830&66b325&b56522_9.csv : 0.30569948186528495\n",
      "Gyro_25_window_a99828&a99830&66b325&b56522_75.csv : 0.30569948186528495\n",
      "Gyro_25_4v_a99828&a99830&66b325&b56522_9.csv : 0.30569948186528495\n",
      "Gyro_30_4v_66b325&b56522_9.csv : 0.2920353982300885\n",
      "Gyro_25_4vuni_66b325&b56522_9.csv : 0.2920353982300885\n",
      "Gyro_30_4vuni_a99828&a99830&66b325&b56522_9.csv : 0.29015544041450775\n",
      "Acc_w_25_4v_66b325&b56522_9.csv : 0.2831858407079646\n",
      "Acc_w_30_4vuni_a99828&a99830&66b325&b56522_9.csv : 0.27979274611398963\n",
      "Acc_w_25_4v_a99828&a99830&66b325&b56522_9.csv : 0.26424870466321243\n",
      "Gyro_30_4vuni_a99828&a99830_9.csv : 0.2625\n",
      "Gyro_25_4vuni_a99828&a99830&66b325&b56522_9.csv : 0.25906735751295334\n",
      "Acc_w_30_window_a99828&a99830_90.csv : 0.25\n",
      "Acc_w_25_4vuni_a99828&a99830_9.csv : 0.25\n",
      "Acc_w_25_4v_a99828&a99830_9.csv : 0.25\n",
      "Acc_w_25_4vuni_a99828&a99830&66b325&b56522_9.csv : 0.24352331606217617\n",
      "Acc_w_25_4vuni_66b325&b56522_9.csv : 0.23893805309734514\n",
      "Gyro_25_4vuni_a99828&a99830_9.csv : 0.2375\n",
      "Acc_w_30_4v_a99828&a99830_9.csv : 0.2125\n",
      "Acc_w_30_4vuni_a99828&a99830_9.csv : 0.125\n"
     ]
    }
   ],
   "source": [
    "for file in pathex:\n",
    "    ni=file.rfind(\"_\")+1\n",
    "    n=int(file[ni:].split(\".\")[0])\n",
    "    df=pd.read_csv(path+file)\n",
    "    X = df.iloc[:, 0:n].values\n",
    "    y = df.iloc[:, n].values\n",
    "    X_train, X_test, y_train, y_test = train_test_split(X, y, test_size=0.2, random_state=1)\n",
    "#     sc = StandardScaler()\n",
    "#     X_train = sc.fit_transform(X_train)\n",
    "#     X_test = sc.transform(X_test)\n",
    "#     sc = Normalizer()\n",
    "#     X_train = sc.fit_transform(X_train)\n",
    "#     X_test = sc.transform(X_test)\n",
    "#     regressor = RandomForestRegressor(n_estimators=30, random_state=0, max_depth=30)\n",
    "    # regressor = RandomForestRegressor(n_estimators=2, random_state=0, max_depth=10)\n",
    "    # regressor = RandomForestRegressor()\n",
    "#     regressor = RandomForestClassifier(n_estimators=4, random_state=0, max_depth=13)\n",
    "    regressor = RandomForestClassifier(n_estimators=10, random_state=0, max_depth=10)\n",
    "    regressor.fit(X_train, y_train)\n",
    "    y_pred = regressor.predict(X_train)\n",
    "    print(file,end=\" : \")\n",
    "    print(accuracy_score(y_train,y_pred))\n",
    "    y_pred = regressor.predict(X_test)\n",
    "    df = pd.DataFrame({'Actual': y_test, 'Predicted': y_pred})\n",
    "#     print(df)\n",
    "#     score.append([f1_score(y_test, y_pred, average=\"micro\"),file])\n",
    "    score.append([accuracy_score(y_test, y_pred),file])\n",
    "score.sort(reverse=True)\n",
    "print(\"--------------------------Test : -------------------------\")\n",
    "for i in range(len(score)):\n",
    "    print(score[i][1]+\" : \"+str(score[i][0]))\n",
    "#     df"
   ]
  },
  {
   "cell_type": "code",
   "execution_count": 4,
   "metadata": {},
   "outputs": [],
   "source": [
    "# print('Mean Absolute Error:', metrics.mean_absolute_error(y_test, y_pred))\n",
    "# print('Mean Squared Error:', metrics.mean_squared_error(y_test, y_pred))\n",
    "# print('Root Mean Squared Error:', np.sqrt(metrics.mean_squared_error(y_test, y_pred)))\n",
    "# non-uniform = 0.3636, 0.37(2 days), 0.14 (4335 files)\n",
    "# 0.25 (n=25)\n",
    "# uniform = 0.2727"
   ]
  },
  {
   "cell_type": "code",
   "execution_count": 5,
   "metadata": {},
   "outputs": [],
   "source": [
    "# min_samples_splits = np.linspace(0.1, 1.0, 10, endpoint=True)\n",
    "# train_results = []\n",
    "# test_results = []\n",
    "# for min_samples_split in min_samples_splits:\n",
    "#     print(min_samples_split)\n",
    "#     rf = RandomForestClassifier(min_samples_split=0.4,n_estimators=4,max_depth=13, n_jobs=-1)\n",
    "#     rf.fit(X_train, y_train)\n",
    "#     train_pred = rf.predict(X_test)\n",
    "#     print(f1_score(y_test, train_pred, average=\"micro\"))\n",
    "    "
   ]
  }
 ],
 "metadata": {
  "kernelspec": {
   "display_name": "Python 3",
   "language": "python",
   "name": "python3"
  },
  "language_info": {
   "codemirror_mode": {
    "name": "ipython",
    "version": 3
   },
   "file_extension": ".py",
   "mimetype": "text/x-python",
   "name": "python",
   "nbconvert_exporter": "python",
   "pygments_lexer": "ipython3",
   "version": "3.7.4"
  }
 },
 "nbformat": 4,
 "nbformat_minor": 2
}
