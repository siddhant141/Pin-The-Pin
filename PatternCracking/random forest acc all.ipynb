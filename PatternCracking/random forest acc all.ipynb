{
 "cells": [
  {
   "cell_type": "code",
   "execution_count": 1,
   "metadata": {},
   "outputs": [],
   "source": [
    "import pandas as pd\n",
    "import numpy as np\n",
    "import os\n",
    "from sklearn.model_selection import train_test_split\n",
    "from sklearn.preprocessing import StandardScaler\n",
    "from sklearn.preprocessing import Normalizer\n",
    "from sklearn.ensemble import RandomForestRegressor\n",
    "from sklearn.ensemble import RandomForestClassifier\n",
    "from sklearn import metrics\n",
    "from os import listdir\n",
    "from os.path import isfile, join\n",
    "from sklearn.metrics import confusion_matrix\n",
    "from sklearn.metrics import f1_score"
   ]
  },
  {
   "cell_type": "code",
   "execution_count": 2,
   "metadata": {
    "scrolled": true
   },
   "outputs": [],
   "source": [
    "path=\"C:\\\\Users\\\\nilu1\\\\Desktop\\\\Code\\\\AndroidPattern\\\\Data\\\\Processed\\\\\"\n",
    "pathex = [f for f in listdir(path) if isfile(join(path, f))]\n",
    "# for i in range(len(pathex)):\n",
    "#     print(pathex[i])"
   ]
  },
  {
   "cell_type": "code",
   "execution_count": 4,
   "metadata": {
    "scrolled": true
   },
   "outputs": [
    {
     "name": "stdout",
     "output_type": "stream",
     "text": [
      "Acc_w_25_4vuni_all_9.csv : 0.1301969365426696\n",
      "Acc_w_25_4v_all_9.csv : 0.12376779846659365\n",
      "Acc_w_25_windowdelinit_all_75.csv : 0.09617486338797816\n",
      "Acc_w_25_window_all_75.csv : 0.146448087431694\n",
      "Acc_w_30_4vuni_all_9.csv : 0.13566739606126915\n",
      "Acc_w_30_4v_all_9.csv : 0.14676889375684557\n",
      "Acc_w_30_windowdelinit_all_90.csv : 0.0994535519125683\n",
      "Acc_w_30_window_all_90.csv : 0.12786885245901639\n"
     ]
    }
   ],
   "source": [
    "for file in pathex:\n",
    "    ni=file.rfind(\"_\")+1\n",
    "    n=int(file[ni:].split(\".\")[0])\n",
    "    df=pd.read_csv(path+file)\n",
    "    X = df.iloc[:, 0:n].values\n",
    "    y = df.iloc[:, n].values\n",
    "    X_train, X_test, y_train, y_test = train_test_split(X, y, test_size=0.2, random_state=1)\n",
    "    # sc = StandardScaler()\n",
    "    # X_train = sc.fit_transform(X_train)\n",
    "    # X_test = sc.transform(X_test)\n",
    "    sc = Normalizer()\n",
    "    X_train = sc.fit_transform(X_train)\n",
    "    X_test = sc.transform(X_test)\n",
    "    # regressor = RandomForestRegressor(n_estimators=30, random_state=0, max_depth=30)\n",
    "    # regressor = RandomForestRegressor(n_estimators=2, random_state=0, max_depth=10)\n",
    "    # regressor = RandomForestRegressor()\n",
    "    # regressor = RandomForestClassifier(n_estimators=4, random_state=0, max_depth=13)\n",
    "    regressor = RandomForestClassifier(n_estimators=10, random_state=0, max_depth=10)\n",
    "    regressor.fit(X_train, y_train)\n",
    "    y_pred = regressor.predict(X_test)\n",
    "    df = pd.DataFrame({'Actual': y_test, 'Predicted': y_pred})\n",
    "    print(file+\" : \"+str(f1_score(y_test, y_pred, average=\"micro\")))\n",
    "#     df"
   ]
  },
  {
   "cell_type": "code",
   "execution_count": null,
   "metadata": {},
   "outputs": [],
   "source": [
    "# print('Mean Absolute Error:', metrics.mean_absolute_error(y_test, y_pred))\n",
    "# print('Mean Squared Error:', metrics.mean_squared_error(y_test, y_pred))\n",
    "# print('Root Mean Squared Error:', np.sqrt(metrics.mean_squared_error(y_test, y_pred)))\n",
    "# non-uniform = 0.3636, 0.37(2 days), 0.14 (4335 files)\n",
    "# 0.25 (n=25)\n",
    "# uniform = 0.2727"
   ]
  },
  {
   "cell_type": "code",
   "execution_count": null,
   "metadata": {},
   "outputs": [],
   "source": [
    "# min_samples_splits = np.linspace(0.1, 1.0, 10, endpoint=True)\n",
    "# train_results = []\n",
    "# test_results = []\n",
    "# for min_samples_split in min_samples_splits:\n",
    "#     print(min_samples_split)\n",
    "#     rf = RandomForestClassifier(min_samples_split=0.4,n_estimators=4,max_depth=13, n_jobs=-1)\n",
    "#     rf.fit(X_train, y_train)\n",
    "#     train_pred = rf.predict(X_test)\n",
    "#     print(f1_score(y_test, train_pred, average=\"micro\"))\n",
    "    "
   ]
  }
 ],
 "metadata": {
  "kernelspec": {
   "display_name": "Python 3",
   "language": "python",
   "name": "python3"
  },
  "language_info": {
   "codemirror_mode": {
    "name": "ipython",
    "version": 3
   },
   "file_extension": ".py",
   "mimetype": "text/x-python",
   "name": "python",
   "nbconvert_exporter": "python",
   "pygments_lexer": "ipython3",
   "version": "3.7.4"
  }
 },
 "nbformat": 4,
 "nbformat_minor": 2
}
